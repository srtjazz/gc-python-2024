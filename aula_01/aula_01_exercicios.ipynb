{
 "cells": [
  {
   "cell_type": "markdown",
   "id": "c3c3fd28-8819-4902-a013-77d7a2b9c777",
   "metadata": {},
   "source": [
    "# Exercícios - Aula 01"
   ]
  },
  {
   "cell_type": "markdown",
   "id": "dd022d7a-b1e8-48e4-a715-ff8bd10231cf",
   "metadata": {},
   "source": [
    "## 1 - Crie um programa que leia seu nome e imprima na tela."
   ]
  },
  {
   "cell_type": "code",
   "execution_count": 2,
   "id": "e5179c05-a1ed-4b28-ad06-1e740d9fcea9",
   "metadata": {
    "collapsed": true,
    "jupyter": {
     "outputs_hidden": true
    },
    "scrolled": true
   },
   "outputs": [
    {
     "name": "stdin",
     "output_type": "stream",
     "text": [
      "Digite seu nome:  Jess\n"
     ]
    },
    {
     "name": "stdout",
     "output_type": "stream",
     "text": [
      "Nome: Jess\n"
     ]
    }
   ],
   "source": [
    "name = str(input(\"Digite seu nome: \"))\n",
    "print(f\"Nome: {name}\")"
   ]
  },
  {
   "cell_type": "markdown",
   "id": "cc3fb511-3333-4584-a89a-f52aef249cd7",
   "metadata": {},
   "source": [
    "## 2 - Crie um programa que receba 2 números e imprima a soma deles na tela."
   ]
  },
  {
   "cell_type": "code",
   "execution_count": 3,
   "id": "b1431db8-b948-4cd1-9ee6-50d59d2e9714",
   "metadata": {},
   "outputs": [
    {
     "name": "stdin",
     "output_type": "stream",
     "text": [
      "Digite dois números:  1 2\n"
     ]
    },
    {
     "name": "stdout",
     "output_type": "stream",
     "text": [
      "A soma dos números é: 3\n"
     ]
    }
   ],
   "source": [
    "number_one, number_two = map(int, input(\"Digite dois números: \").split())\n",
    "\n",
    "print(f\"A soma dos números é: {number_one + number_two}\")"
   ]
  },
  {
   "cell_type": "markdown",
   "id": "709e3940-af50-49d7-ae27-1cc851b9ba95",
   "metadata": {},
   "source": [
    "## 3 - Crie um programa que leia 3 números, imprima o maior, o menor e a média aritmética. "
   ]
  },
  {
   "cell_type": "code",
   "execution_count": 4,
   "id": "9d9e359d-f31b-46bb-bf80-31a4972c8862",
   "metadata": {},
   "outputs": [
    {
     "name": "stdin",
     "output_type": "stream",
     "text": [
      "Digite três números:  1 2 3\n"
     ]
    },
    {
     "name": "stdout",
     "output_type": "stream",
     "text": [
      "O maior número: 3\n",
      "O menor número: 1\n",
      "A média aritmética: 2\n"
     ]
    }
   ],
   "source": [
    "numbers = list(map(int, input(\"Digite três números: \").split()))\n",
    "\n",
    "print(f\"O maior número: {max(numbers)}\\n\"\n",
    "      f\"O menor número: {min(numbers)}\\n\"\n",
    "      f\"A média aritmética: {sum(numbers) / 3:.0f}\")"
   ]
  },
  {
   "cell_type": "code",
   "execution_count": null,
   "id": "6fd01b0f-1200-4674-be0a-f590f6bc75e6",
   "metadata": {},
   "outputs": [],
   "source": []
  }
 ],
 "metadata": {
  "kernelspec": {
   "display_name": "Python 3 (ipykernel)",
   "language": "python",
   "name": "python3"
  },
  "language_info": {
   "codemirror_mode": {
    "name": "ipython",
    "version": 3
   },
   "file_extension": ".py",
   "mimetype": "text/x-python",
   "name": "python",
   "nbconvert_exporter": "python",
   "pygments_lexer": "ipython3",
   "version": "3.12.4"
  }
 },
 "nbformat": 4,
 "nbformat_minor": 5
}
