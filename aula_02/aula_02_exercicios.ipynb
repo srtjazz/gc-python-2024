{
 "cells": [
  {
   "cell_type": "markdown",
   "id": "9332694e-ec4e-482d-8e4c-804a088812a1",
   "metadata": {},
   "source": [
    "# Exercícios - Aula 02"
   ]
  },
  {
   "cell_type": "markdown",
   "id": "7bea6cd0-d45d-4ea4-a4e6-076cc0607d2f",
   "metadata": {},
   "source": [
    "## 4 - Crie um programa em Python que solicite ao usuário que insira a sua idade. Com base na idade fornecida, o programa deve verificar se o usuário é menor de idade, maior de idade ou se está completando 18 anos.​​\n",
    "​​\n",
    " Se a idade for menor que 18 anos, o programa deve exibir \"Menor de idade!\".​​\n",
    "\n",
    " Se a idade for exatamente 18 anos, o programa deve exibir \"Feliz aniversário!\".​​\n",
    "\n",
    "Se a idade for maior que 18 anos, o programa deve exibir \"Maior de idade!\"."
   ]
  },
  {
   "cell_type": "code",
   "execution_count": null,
   "id": "20119b8c-f65a-40e1-afc0-56b648ce7db1",
   "metadata": {},
   "outputs": [],
   "source": [
    "age = int(input(\"Digite sua idade: \"))\n",
    "\n",
    "if age < 18:\n",
    "  print(\"Menor de idade!\")\n",
    "elif age > 18:\n",
    "  print(\"Maior de idade!\")\n",
    "else:\n",
    "  print(\"Feliz aniversário!\")"
   ]
  },
  {
   "cell_type": "markdown",
   "id": "ec78bd06-43c6-4f2d-b337-1485e8e7d6b4",
   "metadata": {},
   "source": [
    "## 5 - Crie um programa em Python que utilize um laço de repetição para contar de 1 a 5. O programa deve exibir cada número da contagem, um por vez, na tela.​​\n",
    "\n",
    "Inicie a contagem em 1 e continue até alcançar o número 5.​​\n",
    "\n",
    "Para cada número, o programa deve exibir a mensagem \"Contagem: X\", onde X é o número atual da contagem."
   ]
  },
  {
   "cell_type": "code",
   "execution_count": 2,
   "id": "c0a039f0-1081-43a2-a3cb-707c54e09040",
   "metadata": {},
   "outputs": [
    {
     "name": "stdout",
     "output_type": "stream",
     "text": [
      "Contagem: 1\n",
      "Contagem: 2\n",
      "Contagem: 3\n",
      "Contagem: 4\n",
      "Contagem: 5\n"
     ]
    }
   ],
   "source": [
    "for i in range(1, 5+1):\n",
    "  print(f\"Contagem: {i}\")"
   ]
  },
  {
   "cell_type": "markdown",
   "id": "6222f27c-4fe4-4e3a-8fc4-349aad822f26",
   "metadata": {},
   "source": [
    "## 6 - Crie um programa em Python que peça ao usuário para inserir o nome de três amigos. O programa deve armazenar esses nomes em uma lista e, em seguida, exibir uma mensagem personalizada para cada amigo, indicando que ele é seu amigo. ​​\n",
    "\n",
    "O programa deve solicitar o nome de três amigos, um por vez. ​​\n",
    "\n",
    "Após coletar os nomes, o programa deve exibir uma mensagem para cada nome na lista, como \"Nome_do_Amigo é meu amigo\""
   ]
  },
  {
   "cell_type": "code",
   "execution_count": 3,
   "id": "90b8d194-810b-490e-98ca-3bb981f42a05",
   "metadata": {},
   "outputs": [
    {
     "name": "stdout",
     "output_type": "stream",
     "text": [
      "Digite o nome de três amigos\n"
     ]
    },
    {
     "name": "stdin",
     "output_type": "stream",
     "text": [
      "Nome do primeiro amigo:  Lucas\n",
      "Nome do segundo amigo:  Henrique\n",
      "Nome do terceiro amigo:  Bruno\n"
     ]
    },
    {
     "name": "stdout",
     "output_type": "stream",
     "text": [
      "Lucas é gente boa :)\n",
      "Henrique é meu amigo!\n",
      "Bruno é querido!\n"
     ]
    }
   ],
   "source": [
    "print(\"Digite o nome de três amigos\")\n",
    "\n",
    "first_name = str(input(\"Nome do primeiro amigo: \"))\n",
    "second_name = str(input(\"Nome do segundo amigo: \"))\n",
    "third_name = str(input(\"Nome do terceiro amigo: \"))\n",
    "\n",
    "names = [first_name, second_name, third_name]\n",
    "\n",
    "print(f\"{names[0]} é gente boa :)\\n\"\n",
    "      f\"{names[1]} é meu amigo!\\n\"\n",
    "      f\"{names[2]} é querido!\")"
   ]
  }
 ],
 "metadata": {
  "kernelspec": {
   "display_name": "Python 3 (ipykernel)",
   "language": "python",
   "name": "python3"
  },
  "language_info": {
   "codemirror_mode": {
    "name": "ipython",
    "version": 3
   },
   "file_extension": ".py",
   "mimetype": "text/x-python",
   "name": "python",
   "nbconvert_exporter": "python",
   "pygments_lexer": "ipython3",
   "version": "3.12.4"
  }
 },
 "nbformat": 4,
 "nbformat_minor": 5
}
