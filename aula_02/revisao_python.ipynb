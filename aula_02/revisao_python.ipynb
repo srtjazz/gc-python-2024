{
 "cells": [
  {
   "cell_type": "markdown",
   "id": "52bc0360-be24-4f5a-9393-d7e7496e207c",
   "metadata": {},
   "source": [
    "# Revisão Python"
   ]
  },
  {
   "cell_type": "code",
   "execution_count": null,
   "id": "c5ef67e4-2423-4ef5-bf6b-9549b4b80a78",
   "metadata": {},
   "outputs": [],
   "source": [
    "name = 'Jess'\n",
    "is_professor = False\n",
    "note = 10\n",
    "cash_in_wallet = 20.00\n",
    "\n",
    "list_dic = [{\n",
    "    name: 'Jess',\n",
    "    age: 20\n",
    "}]"
   ]
  }
 ],
 "metadata": {
  "kernelspec": {
   "display_name": "Python 3 (ipykernel)",
   "language": "python",
   "name": "python3"
  },
  "language_info": {
   "codemirror_mode": {
    "name": "ipython",
    "version": 3
   },
   "file_extension": ".py",
   "mimetype": "text/x-python",
   "name": "python",
   "nbconvert_exporter": "python",
   "pygments_lexer": "ipython3",
   "version": "3.12.4"
  }
 },
 "nbformat": 4,
 "nbformat_minor": 5
}
