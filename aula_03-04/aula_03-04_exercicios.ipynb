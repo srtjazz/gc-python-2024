{
 "cells": [
  {
   "cell_type": "markdown",
   "id": "19d94312-bd5e-477b-92cd-98426cce3afa",
   "metadata": {},
   "source": [
    "# Exercício 7"
   ]
  },
  {
   "cell_type": "markdown",
   "id": "4f86d69a-7ece-463a-b4e3-5957ec676b15",
   "metadata": {},
   "source": [
    "## 1. Crie uma lista com 5 nomes de filmes que você goste;\n",
    "## 2. Crie uma 2a lista com o ano de lançamento desses 5 filmes (pode pesquisar, eu deixo);\n",
    "## 3. Tranforme isso em um dataframe;\n",
    "## 4. Adicione uma nova coluna com a nota, de 1 a 10, de quanto você gosta deles;\n"
   ]
  },
  {
   "cell_type": "code",
   "execution_count": null,
   "id": "35204b77-9993-42a1-a9dd-64d8e81828af",
   "metadata": {},
   "outputs": [],
   "source": [
    "import pandas as pd\n",
    "\n",
    "movies = [\"Esquadrão Suicida\", \"Homem-Aranha: Através do Aranhaverso\", \"The Batman\", \"Hereditário\", \"Gato de Botas: O último desejo\"]\n",
    "movies_launch_year = [2021, 2023, 2022, 2018, 2022]\n",
    "\n",
    "movies_serie = pd.Series(movies)\n",
    "year_serie = pd.Series(movies_launch_year)\n",
    "\n",
    "pd.DataFrame({\"Filmes\": movies_serie, \"Ano Lançamento\": year_serie, \"Nota\": [4.5, 5, 5, 4, 4.5]})\n",
    "##notas de 1 a 5"
   ]
  },
  {
   "cell_type": "markdown",
   "id": "d69d4e81-3a2a-4d3e-8b88-0db60554028f",
   "metadata": {},
   "source": [
    "## 5. Crie mais 2 dataframes, de séries e anime/desenhos que você gosta, com as mesmas\n",
    "## colunas acima.\n",
    "## 6. Salve os 3 dataframes em 'csv', 'json' e 'html' e nos envie os arquivos*.\n",
    "## 7. Concatene horizontalmente os 3 dataframes, ficando 9 colunas no final. (Fazer em dupla)"
   ]
  },
  {
   "cell_type": "code",
   "execution_count": 33,
   "id": "5d4ab3c6-2267-47b8-869a-43d1ed9b75a8",
   "metadata": {},
   "outputs": [
    {
     "data": {
      "text/html": [
       "<div>\n",
       "<style scoped>\n",
       "    .dataframe tbody tr th:only-of-type {\n",
       "        vertical-align: middle;\n",
       "    }\n",
       "\n",
       "    .dataframe tbody tr th {\n",
       "        vertical-align: top;\n",
       "    }\n",
       "\n",
       "    .dataframe thead th {\n",
       "        text-align: right;\n",
       "    }\n",
       "</style>\n",
       "<table border=\"1\" class=\"dataframe\">\n",
       "  <thead>\n",
       "    <tr style=\"text-align: right;\">\n",
       "      <th></th>\n",
       "      <th>Séries</th>\n",
       "      <th>Ano de Lançamento</th>\n",
       "      <th>Notas</th>\n",
       "    </tr>\n",
       "  </thead>\n",
       "  <tbody>\n",
       "    <tr>\n",
       "      <th>0</th>\n",
       "      <td>Better Call Saul</td>\n",
       "      <td>2015</td>\n",
       "      <td>5.0</td>\n",
       "    </tr>\n",
       "    <tr>\n",
       "      <th>1</th>\n",
       "      <td>Breaking Bad</td>\n",
       "      <td>2008</td>\n",
       "      <td>5.0</td>\n",
       "    </tr>\n",
       "    <tr>\n",
       "      <th>2</th>\n",
       "      <td>The Walking Dead</td>\n",
       "      <td>2010</td>\n",
       "      <td>3.5</td>\n",
       "    </tr>\n",
       "    <tr>\n",
       "      <th>3</th>\n",
       "      <td>The Office</td>\n",
       "      <td>2005</td>\n",
       "      <td>4.5</td>\n",
       "    </tr>\n",
       "    <tr>\n",
       "      <th>4</th>\n",
       "      <td>The Boys</td>\n",
       "      <td>2019</td>\n",
       "      <td>4.0</td>\n",
       "    </tr>\n",
       "  </tbody>\n",
       "</table>\n",
       "</div>"
      ],
      "text/plain": [
       "             Séries  Ano de Lançamento  Notas\n",
       "0  Better Call Saul               2015    5.0\n",
       "1      Breaking Bad               2008    5.0\n",
       "2  The Walking Dead               2010    3.5\n",
       "3        The Office               2005    4.5\n",
       "4          The Boys               2019    4.0"
      ]
     },
     "execution_count": 33,
     "metadata": {},
     "output_type": "execute_result"
    }
   ],
   "source": [
    "import pandas as pd\n",
    "\n",
    "tv_series = [\"Better Call Saul\", \"Breaking Bad\", \"The Walking Dead\", \"The Office\", \"The Boys\"]\n",
    "\n",
    "tv_series_serie = pd.Series(tv_series)\n",
    "\n",
    "series_df = pd.DataFrame({\"Séries\": tv_series_serie, \"Ano de Lançamento\": [2015, 2008, 2010, 2005, 2019], \"Notas\": [5, 5, 3.5, 4.5, 4]})\n",
    "\n",
    "series_df"
   ]
  },
  {
   "cell_type": "code",
   "execution_count": 32,
   "id": "0d384789-7169-41ec-bbfe-d1fb8a3284a1",
   "metadata": {},
   "outputs": [
    {
     "data": {
      "text/html": [
       "<div>\n",
       "<style scoped>\n",
       "    .dataframe tbody tr th:only-of-type {\n",
       "        vertical-align: middle;\n",
       "    }\n",
       "\n",
       "    .dataframe tbody tr th {\n",
       "        vertical-align: top;\n",
       "    }\n",
       "\n",
       "    .dataframe thead th {\n",
       "        text-align: right;\n",
       "    }\n",
       "</style>\n",
       "<table border=\"1\" class=\"dataframe\">\n",
       "  <thead>\n",
       "    <tr style=\"text-align: right;\">\n",
       "      <th></th>\n",
       "      <th>Animes</th>\n",
       "    </tr>\n",
       "  </thead>\n",
       "  <tbody>\n",
       "    <tr>\n",
       "      <th>0</th>\n",
       "      <td>Jojo's Bizzarre Adventures</td>\n",
       "    </tr>\n",
       "    <tr>\n",
       "      <th>1</th>\n",
       "      <td>Jujutsu Kaisen</td>\n",
       "    </tr>\n",
       "    <tr>\n",
       "      <th>2</th>\n",
       "      <td>Attack on Titan</td>\n",
       "    </tr>\n",
       "    <tr>\n",
       "      <th>3</th>\n",
       "      <td>Dororo</td>\n",
       "    </tr>\n",
       "    <tr>\n",
       "      <th>4</th>\n",
       "      <td>One Punch Man</td>\n",
       "    </tr>\n",
       "  </tbody>\n",
       "</table>\n",
       "</div>"
      ],
      "text/plain": [
       "                       Animes\n",
       "0  Jojo's Bizzarre Adventures\n",
       "1              Jujutsu Kaisen\n",
       "2             Attack on Titan\n",
       "3                      Dororo\n",
       "4               One Punch Man"
      ]
     },
     "execution_count": 32,
     "metadata": {},
     "output_type": "execute_result"
    }
   ],
   "source": [
    "import pandas as pd\n",
    "\n",
    "animes = [\"Jojo's Bizzarre Adventures\", \"Jujutsu Kaisen\", \"Attack on Titan\", \"Dororo\", \"One Punch Man\"]\n",
    "\n",
    "animes_serie = pd.Series(animes)\n",
    "animes_df = pd.DataFrame({\"Animes\": animes_serie, \"Ano de Lançamento\": [2012, 2020, 2013, 2019, 2015], \"Notas\": [5, 4, 4.5, 4.5, 4.5]})\n",
    "\n",
    "animes_df"
   ]
  },
  {
   "cell_type": "code",
   "execution_count": null,
   "id": "297c00ab-f92b-4dbf-9b4c-229d700858e5",
   "metadata": {},
   "outputs": [],
   "source": []
  }
 ],
 "metadata": {
  "kernelspec": {
   "display_name": "Python 3 (ipykernel)",
   "language": "python",
   "name": "python3"
  },
  "language_info": {
   "codemirror_mode": {
    "name": "ipython",
    "version": 3
   },
   "file_extension": ".py",
   "mimetype": "text/x-python",
   "name": "python",
   "nbconvert_exporter": "python",
   "pygments_lexer": "ipython3",
   "version": "3.12.4"
  }
 },
 "nbformat": 4,
 "nbformat_minor": 5
}
