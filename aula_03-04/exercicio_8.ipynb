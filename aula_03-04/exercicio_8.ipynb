{
 "cells": [
  {
   "cell_type": "markdown",
   "id": "c8cbc3c2-89c3-4654-bcf9-aa7d6a67a171",
   "metadata": {},
   "source": [
    "# Exercício 08 – miniBoss – Coop –\n",
    "✦ Leia o arquivo do datase em csv;</br>\n",
    "✦ Visualize as primeiras linhas do dataset;"
   ]
  },
  {
   "cell_type": "code",
   "execution_count": 35,
   "id": "502caf0d-7de6-4cb3-8dfa-65737455a748",
   "metadata": {},
   "outputs": [
    {
     "data": {
      "text/html": [
       "<div>\n",
       "<style scoped>\n",
       "    .dataframe tbody tr th:only-of-type {\n",
       "        vertical-align: middle;\n",
       "    }\n",
       "\n",
       "    .dataframe tbody tr th {\n",
       "        vertical-align: top;\n",
       "    }\n",
       "\n",
       "    .dataframe thead th {\n",
       "        text-align: right;\n",
       "    }\n",
       "</style>\n",
       "<table border=\"1\" class=\"dataframe\">\n",
       "  <thead>\n",
       "    <tr style=\"text-align: right;\">\n",
       "      <th></th>\n",
       "      <th>Séries</th>\n",
       "      <th>Ano de Lançamento</th>\n",
       "      <th>Notas</th>\n",
       "      <th>Filmes</th>\n",
       "      <th>Nota</th>\n",
       "      <th>Animes</th>\n",
       "    </tr>\n",
       "  </thead>\n",
       "  <tbody>\n",
       "    <tr>\n",
       "      <th>0</th>\n",
       "      <td>Better Call Saul</td>\n",
       "      <td>2015</td>\n",
       "      <td>5.0</td>\n",
       "      <td>NaN</td>\n",
       "      <td>NaN</td>\n",
       "      <td>NaN</td>\n",
       "    </tr>\n",
       "    <tr>\n",
       "      <th>1</th>\n",
       "      <td>Breaking Bad</td>\n",
       "      <td>2008</td>\n",
       "      <td>5.0</td>\n",
       "      <td>NaN</td>\n",
       "      <td>NaN</td>\n",
       "      <td>NaN</td>\n",
       "    </tr>\n",
       "    <tr>\n",
       "      <th>2</th>\n",
       "      <td>The Walking Dead</td>\n",
       "      <td>2010</td>\n",
       "      <td>3.5</td>\n",
       "      <td>NaN</td>\n",
       "      <td>NaN</td>\n",
       "      <td>NaN</td>\n",
       "    </tr>\n",
       "    <tr>\n",
       "      <th>3</th>\n",
       "      <td>The Office</td>\n",
       "      <td>2005</td>\n",
       "      <td>4.5</td>\n",
       "      <td>NaN</td>\n",
       "      <td>NaN</td>\n",
       "      <td>NaN</td>\n",
       "    </tr>\n",
       "    <tr>\n",
       "      <th>4</th>\n",
       "      <td>The Boys</td>\n",
       "      <td>2019</td>\n",
       "      <td>4.0</td>\n",
       "      <td>NaN</td>\n",
       "      <td>NaN</td>\n",
       "      <td>NaN</td>\n",
       "    </tr>\n",
       "  </tbody>\n",
       "</table>\n",
       "</div>"
      ],
      "text/plain": [
       "             Séries  Ano de Lançamento  Notas Filmes  Nota Animes\n",
       "0  Better Call Saul               2015    5.0    NaN   NaN    NaN\n",
       "1      Breaking Bad               2008    5.0    NaN   NaN    NaN\n",
       "2  The Walking Dead               2010    3.5    NaN   NaN    NaN\n",
       "3        The Office               2005    4.5    NaN   NaN    NaN\n",
       "4          The Boys               2019    4.0    NaN   NaN    NaN"
      ]
     },
     "execution_count": 35,
     "metadata": {},
     "output_type": "execute_result"
    }
   ],
   "source": [
    "import pandas as pd\n",
    "\n",
    "series_df = pd.read_json('../aula_03-04/series.json')\n",
    "movies_df = pd.read_json('../aula_03-04/movies.json')\n",
    "animes_df = pd.read_json('../aula_03-04/animes.json')\n",
    "\n",
    "df_merged = pd.concat([series_df, movies_df, animes_df])\n",
    "df_merged.head()"
   ]
  },
  {
   "cell_type": "markdown",
   "id": "12db83c8-f8f0-40ad-b48b-13c11007669a",
   "metadata": {},
   "source": [
    "✦ Visualize informações básicas do dataset, \n",
    "como: nomes das colunas, número de \n",
    "linhas, número de campos nulos, etc;"
   ]
  },
  {
   "cell_type": "code",
   "execution_count": 22,
   "id": "233a9463-fed6-4de3-bf2b-e67e73dc7eba",
   "metadata": {},
   "outputs": [
    {
     "name": "stdout",
     "output_type": "stream",
     "text": [
      "<class 'pandas.core.frame.DataFrame'>\n",
      "Index: 15 entries, 0 to 4\n",
      "Data columns (total 6 columns):\n",
      " #   Column             Non-Null Count  Dtype  \n",
      "---  ------             --------------  -----  \n",
      " 0   Séries             5 non-null      object \n",
      " 1   Ano de Lançamento  15 non-null     int64  \n",
      " 2   Notas              10 non-null     float64\n",
      " 3   Filmes             5 non-null      object \n",
      " 4   Nota               5 non-null      float64\n",
      " 5   Animes             5 non-null      object \n",
      "dtypes: float64(2), int64(1), object(3)\n",
      "memory usage: 840.0+ bytes\n"
     ]
    }
   ],
   "source": [
    "df_merged.info()"
   ]
  },
  {
   "cell_type": "code",
   "execution_count": 23,
   "id": "b024aab9-0c85-43a7-aabf-8afad7fd5196",
   "metadata": {},
   "outputs": [
    {
     "data": {
      "text/plain": [
       "Séries               10\n",
       "Ano de Lançamento     0\n",
       "Notas                 5\n",
       "Filmes               10\n",
       "Nota                 10\n",
       "Animes               10\n",
       "dtype: int64"
      ]
     },
     "execution_count": 23,
     "metadata": {},
     "output_type": "execute_result"
    }
   ],
   "source": [
    "df_merged.isna().sum()"
   ]
  },
  {
   "cell_type": "markdown",
   "id": "247ad6db-bc66-4f20-8228-0d8c07c07cc5",
   "metadata": {},
   "source": [
    "✦ Visualize informações sobre os campos numéricos do dataset, como: média, \n",
    "valor minimo e maximo, etc; "
   ]
  },
  {
   "cell_type": "code",
   "execution_count": 25,
   "id": "0eba30e9-367e-4961-b45d-59c9d0e9d744",
   "metadata": {},
   "outputs": [
    {
     "data": {
      "text/plain": [
       "np.float64(4.45)"
      ]
     },
     "execution_count": 25,
     "metadata": {},
     "output_type": "execute_result"
    }
   ],
   "source": [
    "df_merged['Notas'].mean()"
   ]
  },
  {
   "cell_type": "code",
   "execution_count": 26,
   "id": "9bfbf851-73f6-4929-9e25-c4917e3f1263",
   "metadata": {},
   "outputs": [
    {
     "data": {
      "text/plain": [
       "np.float64(3.5)"
      ]
     },
     "execution_count": 26,
     "metadata": {},
     "output_type": "execute_result"
    }
   ],
   "source": [
    "df_merged['Notas'].min()"
   ]
  },
  {
   "cell_type": "code",
   "execution_count": 27,
   "id": "76049753-96be-4148-a9a0-aceb359b3ef5",
   "metadata": {},
   "outputs": [
    {
     "data": {
      "text/plain": [
       "np.float64(5.0)"
      ]
     },
     "execution_count": 27,
     "metadata": {},
     "output_type": "execute_result"
    }
   ],
   "source": [
    "df_merged['Notas'].max()"
   ]
  },
  {
   "cell_type": "markdown",
   "id": "7d43228b-04e4-4b6b-b45f-bfc1443510ed",
   "metadata": {},
   "source": [
    "✦ Remova informações nulas;"
   ]
  },
  {
   "cell_type": "code",
   "execution_count": 30,
   "id": "4343a358-4e53-4b52-b2e0-dc2e46012594",
   "metadata": {},
   "outputs": [
    {
     "data": {
      "text/html": [
       "<div>\n",
       "<style scoped>\n",
       "    .dataframe tbody tr th:only-of-type {\n",
       "        vertical-align: middle;\n",
       "    }\n",
       "\n",
       "    .dataframe tbody tr th {\n",
       "        vertical-align: top;\n",
       "    }\n",
       "\n",
       "    .dataframe thead th {\n",
       "        text-align: right;\n",
       "    }\n",
       "</style>\n",
       "<table border=\"1\" class=\"dataframe\">\n",
       "  <thead>\n",
       "    <tr style=\"text-align: right;\">\n",
       "      <th></th>\n",
       "      <th>Séries</th>\n",
       "      <th>Ano de Lançamento</th>\n",
       "      <th>Notas</th>\n",
       "      <th>Filmes</th>\n",
       "      <th>Nota</th>\n",
       "      <th>Animes</th>\n",
       "    </tr>\n",
       "  </thead>\n",
       "  <tbody>\n",
       "  </tbody>\n",
       "</table>\n",
       "</div>"
      ],
      "text/plain": [
       "Empty DataFrame\n",
       "Columns: [Séries, Ano de Lançamento, Notas, Filmes, Nota, Animes]\n",
       "Index: []"
      ]
     },
     "execution_count": 30,
     "metadata": {},
     "output_type": "execute_result"
    }
   ],
   "source": [
    "df_merged.dropna()"
   ]
  },
  {
   "cell_type": "markdown",
   "id": "3398fd05-6a50-4b27-ba77-8603eaffb4e9",
   "metadata": {},
   "source": [
    "✦ Verifique se existem dados duplicados;</br>\n",
    "✦ Remova informações duplicadas;"
   ]
  },
  {
   "cell_type": "code",
   "execution_count": 31,
   "id": "9e392059-b52b-42c2-a3f5-62dca8a865d3",
   "metadata": {},
   "outputs": [
    {
     "data": {
      "text/plain": [
       "np.int64(0)"
      ]
     },
     "execution_count": 31,
     "metadata": {},
     "output_type": "execute_result"
    }
   ],
   "source": [
    "df_merged.duplicated().sum()"
   ]
  },
  {
   "cell_type": "code",
   "execution_count": 33,
   "id": "46766fe2-fb93-4399-ae2d-35e5fe792c9d",
   "metadata": {},
   "outputs": [
    {
     "data": {
      "text/html": [
       "<div>\n",
       "<style scoped>\n",
       "    .dataframe tbody tr th:only-of-type {\n",
       "        vertical-align: middle;\n",
       "    }\n",
       "\n",
       "    .dataframe tbody tr th {\n",
       "        vertical-align: top;\n",
       "    }\n",
       "\n",
       "    .dataframe thead th {\n",
       "        text-align: right;\n",
       "    }\n",
       "</style>\n",
       "<table border=\"1\" class=\"dataframe\">\n",
       "  <thead>\n",
       "    <tr style=\"text-align: right;\">\n",
       "      <th></th>\n",
       "      <th>Séries</th>\n",
       "      <th>Ano de Lançamento</th>\n",
       "      <th>Notas</th>\n",
       "      <th>Filmes</th>\n",
       "      <th>Nota</th>\n",
       "      <th>Animes</th>\n",
       "    </tr>\n",
       "  </thead>\n",
       "  <tbody>\n",
       "    <tr>\n",
       "      <th>0</th>\n",
       "      <td>Better Call Saul</td>\n",
       "      <td>2015</td>\n",
       "      <td>5.0</td>\n",
       "      <td>NaN</td>\n",
       "      <td>NaN</td>\n",
       "      <td>NaN</td>\n",
       "    </tr>\n",
       "    <tr>\n",
       "      <th>1</th>\n",
       "      <td>Breaking Bad</td>\n",
       "      <td>2008</td>\n",
       "      <td>5.0</td>\n",
       "      <td>NaN</td>\n",
       "      <td>NaN</td>\n",
       "      <td>NaN</td>\n",
       "    </tr>\n",
       "    <tr>\n",
       "      <th>2</th>\n",
       "      <td>The Walking Dead</td>\n",
       "      <td>2010</td>\n",
       "      <td>3.5</td>\n",
       "      <td>NaN</td>\n",
       "      <td>NaN</td>\n",
       "      <td>NaN</td>\n",
       "    </tr>\n",
       "    <tr>\n",
       "      <th>3</th>\n",
       "      <td>The Office</td>\n",
       "      <td>2005</td>\n",
       "      <td>4.5</td>\n",
       "      <td>NaN</td>\n",
       "      <td>NaN</td>\n",
       "      <td>NaN</td>\n",
       "    </tr>\n",
       "    <tr>\n",
       "      <th>4</th>\n",
       "      <td>The Boys</td>\n",
       "      <td>2019</td>\n",
       "      <td>4.0</td>\n",
       "      <td>NaN</td>\n",
       "      <td>NaN</td>\n",
       "      <td>NaN</td>\n",
       "    </tr>\n",
       "    <tr>\n",
       "      <th>0</th>\n",
       "      <td>NaN</td>\n",
       "      <td>2021</td>\n",
       "      <td>NaN</td>\n",
       "      <td>Esquadrão Suicida</td>\n",
       "      <td>4.5</td>\n",
       "      <td>NaN</td>\n",
       "    </tr>\n",
       "    <tr>\n",
       "      <th>1</th>\n",
       "      <td>NaN</td>\n",
       "      <td>2023</td>\n",
       "      <td>NaN</td>\n",
       "      <td>Homem-Aranha: Através do Aranhaverso</td>\n",
       "      <td>5.0</td>\n",
       "      <td>NaN</td>\n",
       "    </tr>\n",
       "    <tr>\n",
       "      <th>2</th>\n",
       "      <td>NaN</td>\n",
       "      <td>2022</td>\n",
       "      <td>NaN</td>\n",
       "      <td>The Batman</td>\n",
       "      <td>5.0</td>\n",
       "      <td>NaN</td>\n",
       "    </tr>\n",
       "    <tr>\n",
       "      <th>3</th>\n",
       "      <td>NaN</td>\n",
       "      <td>2018</td>\n",
       "      <td>NaN</td>\n",
       "      <td>Hereditário</td>\n",
       "      <td>4.0</td>\n",
       "      <td>NaN</td>\n",
       "    </tr>\n",
       "    <tr>\n",
       "      <th>4</th>\n",
       "      <td>NaN</td>\n",
       "      <td>2022</td>\n",
       "      <td>NaN</td>\n",
       "      <td>Gato de Botas: O último desejo</td>\n",
       "      <td>4.5</td>\n",
       "      <td>NaN</td>\n",
       "    </tr>\n",
       "    <tr>\n",
       "      <th>0</th>\n",
       "      <td>NaN</td>\n",
       "      <td>2012</td>\n",
       "      <td>5.0</td>\n",
       "      <td>NaN</td>\n",
       "      <td>NaN</td>\n",
       "      <td>Jojo's Bizzarre Adventures</td>\n",
       "    </tr>\n",
       "    <tr>\n",
       "      <th>1</th>\n",
       "      <td>NaN</td>\n",
       "      <td>2020</td>\n",
       "      <td>4.0</td>\n",
       "      <td>NaN</td>\n",
       "      <td>NaN</td>\n",
       "      <td>Jujutsu Kaisen</td>\n",
       "    </tr>\n",
       "    <tr>\n",
       "      <th>2</th>\n",
       "      <td>NaN</td>\n",
       "      <td>2013</td>\n",
       "      <td>4.5</td>\n",
       "      <td>NaN</td>\n",
       "      <td>NaN</td>\n",
       "      <td>Attack on Titan</td>\n",
       "    </tr>\n",
       "    <tr>\n",
       "      <th>3</th>\n",
       "      <td>NaN</td>\n",
       "      <td>2019</td>\n",
       "      <td>4.5</td>\n",
       "      <td>NaN</td>\n",
       "      <td>NaN</td>\n",
       "      <td>Dororo</td>\n",
       "    </tr>\n",
       "    <tr>\n",
       "      <th>4</th>\n",
       "      <td>NaN</td>\n",
       "      <td>2015</td>\n",
       "      <td>4.5</td>\n",
       "      <td>NaN</td>\n",
       "      <td>NaN</td>\n",
       "      <td>One Punch Man</td>\n",
       "    </tr>\n",
       "  </tbody>\n",
       "</table>\n",
       "</div>"
      ],
      "text/plain": [
       "             Séries  Ano de Lançamento  Notas  \\\n",
       "0  Better Call Saul               2015    5.0   \n",
       "1      Breaking Bad               2008    5.0   \n",
       "2  The Walking Dead               2010    3.5   \n",
       "3        The Office               2005    4.5   \n",
       "4          The Boys               2019    4.0   \n",
       "0               NaN               2021    NaN   \n",
       "1               NaN               2023    NaN   \n",
       "2               NaN               2022    NaN   \n",
       "3               NaN               2018    NaN   \n",
       "4               NaN               2022    NaN   \n",
       "0               NaN               2012    5.0   \n",
       "1               NaN               2020    4.0   \n",
       "2               NaN               2013    4.5   \n",
       "3               NaN               2019    4.5   \n",
       "4               NaN               2015    4.5   \n",
       "\n",
       "                                 Filmes  Nota                      Animes  \n",
       "0                                   NaN   NaN                         NaN  \n",
       "1                                   NaN   NaN                         NaN  \n",
       "2                                   NaN   NaN                         NaN  \n",
       "3                                   NaN   NaN                         NaN  \n",
       "4                                   NaN   NaN                         NaN  \n",
       "0                     Esquadrão Suicida   4.5                         NaN  \n",
       "1  Homem-Aranha: Através do Aranhaverso   5.0                         NaN  \n",
       "2                            The Batman   5.0                         NaN  \n",
       "3                           Hereditário   4.0                         NaN  \n",
       "4        Gato de Botas: O último desejo   4.5                         NaN  \n",
       "0                                   NaN   NaN  Jojo's Bizzarre Adventures  \n",
       "1                                   NaN   NaN              Jujutsu Kaisen  \n",
       "2                                   NaN   NaN             Attack on Titan  \n",
       "3                                   NaN   NaN                      Dororo  \n",
       "4                                   NaN   NaN               One Punch Man  "
      ]
     },
     "execution_count": 33,
     "metadata": {},
     "output_type": "execute_result"
    }
   ],
   "source": [
    "df_merged = df_merged.drop_duplicates()\n",
    "df_merged"
   ]
  },
  {
   "cell_type": "code",
   "execution_count": null,
   "id": "7ee8e168-3c94-4cbd-b1e6-efedb51da1b8",
   "metadata": {},
   "outputs": [],
   "source": []
  }
 ],
 "metadata": {
  "kernelspec": {
   "display_name": "Python 3 (ipykernel)",
   "language": "python",
   "name": "python3"
  },
  "language_info": {
   "codemirror_mode": {
    "name": "ipython",
    "version": 3
   },
   "file_extension": ".py",
   "mimetype": "text/x-python",
   "name": "python",
   "nbconvert_exporter": "python",
   "pygments_lexer": "ipython3",
   "version": "3.12.4"
  }
 },
 "nbformat": 4,
 "nbformat_minor": 5
}
