{
 "cells": [
  {
   "cell_type": "markdown",
   "id": "862e9591-41f4-4a4d-ae64-0a1594352ca8",
   "metadata": {},
   "source": [
    "# Exercício 09"
   ]
  },
  {
   "cell_type": "markdown",
   "id": "631a6bef-bc52-4a44-943d-2f1f985fe8fd",
   "metadata": {},
   "source": [
    "✦ Use 3 dataframes criados na aula anterior, mostre\n",
    "apenas o filme/série/anime com maior pontuação.</br>"
   ]
  },
  {
   "cell_type": "code",
   "execution_count": 115,
   "id": "ce6077ac-9a90-4cd2-808b-7e9cd8a9b75d",
   "metadata": {},
   "outputs": [
    {
     "name": "stdout",
     "output_type": "stream",
     "text": [
      "The history saving thread hit an unexpected error (OperationalError('attempt to write a readonly database')).History will not be written to the database.\n"
     ]
    },
    {
     "data": {
      "text/html": [
       "<div>\n",
       "<style scoped>\n",
       "    .dataframe tbody tr th:only-of-type {\n",
       "        vertical-align: middle;\n",
       "    }\n",
       "\n",
       "    .dataframe tbody tr th {\n",
       "        vertical-align: top;\n",
       "    }\n",
       "\n",
       "    .dataframe thead th {\n",
       "        text-align: right;\n",
       "    }\n",
       "</style>\n",
       "<table border=\"1\" class=\"dataframe\">\n",
       "  <thead>\n",
       "    <tr style=\"text-align: right;\">\n",
       "      <th></th>\n",
       "      <th>Animes</th>\n",
       "      <th>Ano de Lançamento</th>\n",
       "      <th>Notas</th>\n",
       "    </tr>\n",
       "  </thead>\n",
       "  <tbody>\n",
       "    <tr>\n",
       "      <th>0</th>\n",
       "      <td>Jojo's Bizzarre Adventures</td>\n",
       "      <td>2012</td>\n",
       "      <td>5.0</td>\n",
       "    </tr>\n",
       "    <tr>\n",
       "      <th>1</th>\n",
       "      <td>Jujutsu Kaisen</td>\n",
       "      <td>2020</td>\n",
       "      <td>4.0</td>\n",
       "    </tr>\n",
       "    <tr>\n",
       "      <th>2</th>\n",
       "      <td>Attack on Titan</td>\n",
       "      <td>2013</td>\n",
       "      <td>4.5</td>\n",
       "    </tr>\n",
       "    <tr>\n",
       "      <th>3</th>\n",
       "      <td>Dororo</td>\n",
       "      <td>2019</td>\n",
       "      <td>4.5</td>\n",
       "    </tr>\n",
       "    <tr>\n",
       "      <th>4</th>\n",
       "      <td>One Punch Man</td>\n",
       "      <td>2015</td>\n",
       "      <td>4.5</td>\n",
       "    </tr>\n",
       "  </tbody>\n",
       "</table>\n",
       "</div>"
      ],
      "text/plain": [
       "                       Animes  Ano de Lançamento  Notas\n",
       "0  Jojo's Bizzarre Adventures               2012    5.0\n",
       "1              Jujutsu Kaisen               2020    4.0\n",
       "2             Attack on Titan               2013    4.5\n",
       "3                      Dororo               2019    4.5\n",
       "4               One Punch Man               2015    4.5"
      ]
     },
     "execution_count": 115,
     "metadata": {},
     "output_type": "execute_result"
    }
   ],
   "source": [
    "import pandas as pd\n",
    "\n",
    "movies_df = pd.read_json(\"../aula_03-04/movies.json\")\n",
    "movies_df\n",
    "\n",
    "series_df = pd.read_json(\"../aula_03-04/series.json\")\n",
    "series_df\n",
    "\n",
    "animes_df = pd.read_json(\"../aula_03-04/animes.json\")\n",
    "animes_df"
   ]
  },
  {
   "cell_type": "code",
   "execution_count": 116,
   "id": "97a1613f-9bc7-47d6-8b39-79b0f6a5e6e5",
   "metadata": {},
   "outputs": [
    {
     "data": {
      "text/plain": [
       "Notas    5.0\n",
       "Notas    5.0\n",
       "Notas    5.0\n",
       "dtype: float64"
      ]
     },
     "execution_count": 116,
     "metadata": {},
     "output_type": "execute_result"
    }
   ],
   "source": [
    "result = pd.concat([movies_df, series_df, animes_df], axis=1)\n",
    "result[\"Notas\"].max()"
   ]
  },
  {
   "cell_type": "markdown",
   "id": "ec72fbb7-4ac0-436a-a12f-bb2793b303a0",
   "metadata": {},
   "source": [
    "✦ Leia o arquivo do dataset em json.</br>\n",
    "✦ Selecione apenas as 3 primeiras colunas do dataset</br>\n",
    "✦ Selecione apenas as 10 primeiras linhas do dataset"
   ]
  },
  {
   "cell_type": "code",
   "execution_count": 117,
   "id": "f9da754f-271a-413a-ad94-b3c196edd47a",
   "metadata": {},
   "outputs": [
    {
     "data": {
      "text/html": [
       "<div>\n",
       "<style scoped>\n",
       "    .dataframe tbody tr th:only-of-type {\n",
       "        vertical-align: middle;\n",
       "    }\n",
       "\n",
       "    .dataframe tbody tr th {\n",
       "        vertical-align: top;\n",
       "    }\n",
       "\n",
       "    .dataframe thead th {\n",
       "        text-align: right;\n",
       "    }\n",
       "</style>\n",
       "<table border=\"1\" class=\"dataframe\">\n",
       "  <thead>\n",
       "    <tr style=\"text-align: right;\">\n",
       "      <th></th>\n",
       "      <th>Filmes</th>\n",
       "      <th>Ano Lançamento</th>\n",
       "      <th>Notas</th>\n",
       "    </tr>\n",
       "  </thead>\n",
       "  <tbody>\n",
       "    <tr>\n",
       "      <th>0</th>\n",
       "      <td>Esquadrão Suicida</td>\n",
       "      <td>2021</td>\n",
       "      <td>4.5</td>\n",
       "    </tr>\n",
       "    <tr>\n",
       "      <th>1</th>\n",
       "      <td>Homem-Aranha: Através do Aranhaverso</td>\n",
       "      <td>2023</td>\n",
       "      <td>5.0</td>\n",
       "    </tr>\n",
       "    <tr>\n",
       "      <th>2</th>\n",
       "      <td>The Batman</td>\n",
       "      <td>2022</td>\n",
       "      <td>5.0</td>\n",
       "    </tr>\n",
       "    <tr>\n",
       "      <th>3</th>\n",
       "      <td>Hereditário</td>\n",
       "      <td>2018</td>\n",
       "      <td>4.0</td>\n",
       "    </tr>\n",
       "    <tr>\n",
       "      <th>4</th>\n",
       "      <td>Gato de Botas: O último desejo</td>\n",
       "      <td>2022</td>\n",
       "      <td>4.5</td>\n",
       "    </tr>\n",
       "  </tbody>\n",
       "</table>\n",
       "</div>"
      ],
      "text/plain": [
       "                                 Filmes  Ano Lançamento  Notas\n",
       "0                     Esquadrão Suicida            2021    4.5\n",
       "1  Homem-Aranha: Através do Aranhaverso            2023    5.0\n",
       "2                            The Batman            2022    5.0\n",
       "3                           Hereditário            2018    4.0\n",
       "4        Gato de Botas: O último desejo            2022    4.5"
      ]
     },
     "execution_count": 117,
     "metadata": {},
     "output_type": "execute_result"
    }
   ],
   "source": [
    "result.iloc[:, :3]"
   ]
  },
  {
   "cell_type": "code",
   "execution_count": 118,
   "id": "45ace3d0-4ff0-4973-8ff6-4339a3659601",
   "metadata": {},
   "outputs": [
    {
     "data": {
      "text/html": [
       "<div>\n",
       "<style scoped>\n",
       "    .dataframe tbody tr th:only-of-type {\n",
       "        vertical-align: middle;\n",
       "    }\n",
       "\n",
       "    .dataframe tbody tr th {\n",
       "        vertical-align: top;\n",
       "    }\n",
       "\n",
       "    .dataframe thead th {\n",
       "        text-align: right;\n",
       "    }\n",
       "</style>\n",
       "<table border=\"1\" class=\"dataframe\">\n",
       "  <thead>\n",
       "    <tr style=\"text-align: right;\">\n",
       "      <th></th>\n",
       "      <th>Filmes</th>\n",
       "      <th>Ano Lançamento</th>\n",
       "      <th>Notas</th>\n",
       "      <th>Séries</th>\n",
       "      <th>Ano de Lançamento</th>\n",
       "      <th>Notas</th>\n",
       "      <th>Animes</th>\n",
       "      <th>Ano de Lançamento</th>\n",
       "      <th>Notas</th>\n",
       "    </tr>\n",
       "  </thead>\n",
       "  <tbody>\n",
       "    <tr>\n",
       "      <th>0</th>\n",
       "      <td>Esquadrão Suicida</td>\n",
       "      <td>2021</td>\n",
       "      <td>4.5</td>\n",
       "      <td>Better Call Saul</td>\n",
       "      <td>2015</td>\n",
       "      <td>5.0</td>\n",
       "      <td>Jojo's Bizzarre Adventures</td>\n",
       "      <td>2012</td>\n",
       "      <td>5.0</td>\n",
       "    </tr>\n",
       "    <tr>\n",
       "      <th>1</th>\n",
       "      <td>Homem-Aranha: Através do Aranhaverso</td>\n",
       "      <td>2023</td>\n",
       "      <td>5.0</td>\n",
       "      <td>Breaking Bad</td>\n",
       "      <td>2008</td>\n",
       "      <td>5.0</td>\n",
       "      <td>Jujutsu Kaisen</td>\n",
       "      <td>2020</td>\n",
       "      <td>4.0</td>\n",
       "    </tr>\n",
       "    <tr>\n",
       "      <th>2</th>\n",
       "      <td>The Batman</td>\n",
       "      <td>2022</td>\n",
       "      <td>5.0</td>\n",
       "      <td>The Walking Dead</td>\n",
       "      <td>2010</td>\n",
       "      <td>3.5</td>\n",
       "      <td>Attack on Titan</td>\n",
       "      <td>2013</td>\n",
       "      <td>4.5</td>\n",
       "    </tr>\n",
       "    <tr>\n",
       "      <th>3</th>\n",
       "      <td>Hereditário</td>\n",
       "      <td>2018</td>\n",
       "      <td>4.0</td>\n",
       "      <td>The Office</td>\n",
       "      <td>2005</td>\n",
       "      <td>4.5</td>\n",
       "      <td>Dororo</td>\n",
       "      <td>2019</td>\n",
       "      <td>4.5</td>\n",
       "    </tr>\n",
       "    <tr>\n",
       "      <th>4</th>\n",
       "      <td>Gato de Botas: O último desejo</td>\n",
       "      <td>2022</td>\n",
       "      <td>4.5</td>\n",
       "      <td>The Boys</td>\n",
       "      <td>2019</td>\n",
       "      <td>4.0</td>\n",
       "      <td>One Punch Man</td>\n",
       "      <td>2015</td>\n",
       "      <td>4.5</td>\n",
       "    </tr>\n",
       "  </tbody>\n",
       "</table>\n",
       "</div>"
      ],
      "text/plain": [
       "                                 Filmes  Ano Lançamento  Notas  \\\n",
       "0                     Esquadrão Suicida            2021    4.5   \n",
       "1  Homem-Aranha: Através do Aranhaverso            2023    5.0   \n",
       "2                            The Batman            2022    5.0   \n",
       "3                           Hereditário            2018    4.0   \n",
       "4        Gato de Botas: O último desejo            2022    4.5   \n",
       "\n",
       "             Séries  Ano de Lançamento  Notas                      Animes  \\\n",
       "0  Better Call Saul               2015    5.0  Jojo's Bizzarre Adventures   \n",
       "1      Breaking Bad               2008    5.0              Jujutsu Kaisen   \n",
       "2  The Walking Dead               2010    3.5             Attack on Titan   \n",
       "3        The Office               2005    4.5                      Dororo   \n",
       "4          The Boys               2019    4.0               One Punch Man   \n",
       "\n",
       "   Ano de Lançamento  Notas  \n",
       "0               2012    5.0  \n",
       "1               2020    4.0  \n",
       "2               2013    4.5  \n",
       "3               2019    4.5  \n",
       "4               2015    4.5  "
      ]
     },
     "execution_count": 118,
     "metadata": {},
     "output_type": "execute_result"
    }
   ],
   "source": [
    "result.head(10)"
   ]
  },
  {
   "cell_type": "markdown",
   "id": "18d6c6d5-76fe-4b67-b8b9-b1b749b201f8",
   "metadata": {},
   "source": [
    "✦ Filtre o dataframe pegando apenas as linhas com\n",
    "valores maiores que essa média.\n",
    "✦ Escolha uma coluna com valores textuais e filtre o dataframe pelo 1o valor\n",
    "✦ Escolha uma coluna, como ano, titulo, etc e ordene seu dataframe tanto de forma crescente quanto decrescente"
   ]
  },
  {
   "cell_type": "code",
   "execution_count": null,
   "id": "3d99784b-2f76-4623-b929-1ede850f5a20",
   "metadata": {},
   "outputs": [],
   "source": [
    "result[\"Notas\"].mean()"
   ]
  }
 ],
 "metadata": {
  "kernelspec": {
   "display_name": "Python 3 (ipykernel)",
   "language": "python",
   "name": "python3"
  },
  "language_info": {
   "codemirror_mode": {
    "name": "ipython",
    "version": 3
   },
   "file_extension": ".py",
   "mimetype": "text/x-python",
   "name": "python",
   "nbconvert_exporter": "python",
   "pygments_lexer": "ipython3",
   "version": "3.12.4"
  }
 },
 "nbformat": 4,
 "nbformat_minor": 5
}
