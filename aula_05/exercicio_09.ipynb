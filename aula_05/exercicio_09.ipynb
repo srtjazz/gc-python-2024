{
 "cells": [
  {
   "cell_type": "markdown",
   "id": "862e9591-41f4-4a4d-ae64-0a1594352ca8",
   "metadata": {},
   "source": [
    "# Exercício 09"
   ]
  },
  {
   "cell_type": "markdown",
   "id": "631a6bef-bc52-4a44-943d-2f1f985fe8fd",
   "metadata": {},
   "source": [
    "✦ Use 3 dataframes criados na aula anterior, mostre\n",
    "apenas o filme/série/anime com maior pontuação.</br>\n",
    "✦ Leia o arquivo do dataset em json.</br>\n",
    "✦ Selecione apenas as 3 primeiras colunas do dataset</br>\n",
    "✦ Selecione apenas as 10 primeiras linhas do dataset"
   ]
  },
  {
   "cell_type": "code",
   "execution_count": 46,
   "id": "ce6077ac-9a90-4cd2-808b-7e9cd8a9b75d",
   "metadata": {},
   "outputs": [
    {
     "data": {
      "text/html": [
       "<div>\n",
       "<style scoped>\n",
       "    .dataframe tbody tr th:only-of-type {\n",
       "        vertical-align: middle;\n",
       "    }\n",
       "\n",
       "    .dataframe tbody tr th {\n",
       "        vertical-align: top;\n",
       "    }\n",
       "\n",
       "    .dataframe thead th {\n",
       "        text-align: right;\n",
       "    }\n",
       "</style>\n",
       "<table border=\"1\" class=\"dataframe\">\n",
       "  <thead>\n",
       "    <tr style=\"text-align: right;\">\n",
       "      <th></th>\n",
       "      <th>Filmes</th>\n",
       "      <th>Ano Lançamento</th>\n",
       "      <th>Nota</th>\n",
       "    </tr>\n",
       "  </thead>\n",
       "  <tbody>\n",
       "    <tr>\n",
       "      <th>0</th>\n",
       "      <td>Esquadrão Suicida</td>\n",
       "      <td>2021</td>\n",
       "      <td>4.5</td>\n",
       "    </tr>\n",
       "    <tr>\n",
       "      <th>1</th>\n",
       "      <td>Homem-Aranha: Através do Aranhaverso</td>\n",
       "      <td>2023</td>\n",
       "      <td>5.0</td>\n",
       "    </tr>\n",
       "    <tr>\n",
       "      <th>2</th>\n",
       "      <td>The Batman</td>\n",
       "      <td>2022</td>\n",
       "      <td>5.0</td>\n",
       "    </tr>\n",
       "    <tr>\n",
       "      <th>3</th>\n",
       "      <td>Hereditário</td>\n",
       "      <td>2018</td>\n",
       "      <td>4.0</td>\n",
       "    </tr>\n",
       "    <tr>\n",
       "      <th>4</th>\n",
       "      <td>Gato de Botas: O último desejo</td>\n",
       "      <td>2022</td>\n",
       "      <td>4.5</td>\n",
       "    </tr>\n",
       "  </tbody>\n",
       "</table>\n",
       "</div>"
      ],
      "text/plain": [
       "                                 Filmes  Ano Lançamento  Nota\n",
       "0                     Esquadrão Suicida            2021   4.5\n",
       "1  Homem-Aranha: Através do Aranhaverso            2023   5.0\n",
       "2                            The Batman            2022   5.0\n",
       "3                           Hereditário            2018   4.0\n",
       "4        Gato de Botas: O último desejo            2022   4.5"
      ]
     },
     "execution_count": 46,
     "metadata": {},
     "output_type": "execute_result"
    }
   ],
   "source": [
    "import pandas as pd\n",
    "\n",
    "movies_df = pd.read_json(\"../aula_03-04/movies.json\")\n",
    "movies_df"
   ]
  },
  {
   "cell_type": "code",
   "execution_count": 6,
   "id": "ff4cee6e-62e6-4846-8f11-3d5bf9386429",
   "metadata": {},
   "outputs": [
    {
     "data": {
      "text/html": [
       "<div>\n",
       "<style scoped>\n",
       "    .dataframe tbody tr th:only-of-type {\n",
       "        vertical-align: middle;\n",
       "    }\n",
       "\n",
       "    .dataframe tbody tr th {\n",
       "        vertical-align: top;\n",
       "    }\n",
       "\n",
       "    .dataframe thead th {\n",
       "        text-align: right;\n",
       "    }\n",
       "</style>\n",
       "<table border=\"1\" class=\"dataframe\">\n",
       "  <thead>\n",
       "    <tr style=\"text-align: right;\">\n",
       "      <th></th>\n",
       "      <th>Séries</th>\n",
       "      <th>Ano de Lançamento</th>\n",
       "      <th>Notas</th>\n",
       "    </tr>\n",
       "  </thead>\n",
       "  <tbody>\n",
       "    <tr>\n",
       "      <th>0</th>\n",
       "      <td>Better Call Saul</td>\n",
       "      <td>2015</td>\n",
       "      <td>5.0</td>\n",
       "    </tr>\n",
       "    <tr>\n",
       "      <th>1</th>\n",
       "      <td>Breaking Bad</td>\n",
       "      <td>2008</td>\n",
       "      <td>5.0</td>\n",
       "    </tr>\n",
       "    <tr>\n",
       "      <th>2</th>\n",
       "      <td>The Walking Dead</td>\n",
       "      <td>2010</td>\n",
       "      <td>3.5</td>\n",
       "    </tr>\n",
       "    <tr>\n",
       "      <th>3</th>\n",
       "      <td>The Office</td>\n",
       "      <td>2005</td>\n",
       "      <td>4.5</td>\n",
       "    </tr>\n",
       "    <tr>\n",
       "      <th>4</th>\n",
       "      <td>The Boys</td>\n",
       "      <td>2019</td>\n",
       "      <td>4.0</td>\n",
       "    </tr>\n",
       "  </tbody>\n",
       "</table>\n",
       "</div>"
      ],
      "text/plain": [
       "             Séries  Ano de Lançamento  Notas\n",
       "0  Better Call Saul               2015    5.0\n",
       "1      Breaking Bad               2008    5.0\n",
       "2  The Walking Dead               2010    3.5\n",
       "3        The Office               2005    4.5\n",
       "4          The Boys               2019    4.0"
      ]
     },
     "execution_count": 6,
     "metadata": {},
     "output_type": "execute_result"
    }
   ],
   "source": [
    "import pandas as pd\n",
    "\n",
    "series_df = pd.read_json(\"../aula_03-04/animes.json\")\n",
    "series_df"
   ]
  },
  {
   "cell_type": "code",
   "execution_count": 7,
   "id": "766273be-6eb0-4f99-a30a-01bdf0df60ed",
   "metadata": {},
   "outputs": [
    {
     "data": {
      "text/html": [
       "<div>\n",
       "<style scoped>\n",
       "    .dataframe tbody tr th:only-of-type {\n",
       "        vertical-align: middle;\n",
       "    }\n",
       "\n",
       "    .dataframe tbody tr th {\n",
       "        vertical-align: top;\n",
       "    }\n",
       "\n",
       "    .dataframe thead th {\n",
       "        text-align: right;\n",
       "    }\n",
       "</style>\n",
       "<table border=\"1\" class=\"dataframe\">\n",
       "  <thead>\n",
       "    <tr style=\"text-align: right;\">\n",
       "      <th></th>\n",
       "      <th>Animes</th>\n",
       "      <th>Ano de Lançamento</th>\n",
       "      <th>Notas</th>\n",
       "    </tr>\n",
       "  </thead>\n",
       "  <tbody>\n",
       "    <tr>\n",
       "      <th>0</th>\n",
       "      <td>Jojo's Bizzarre Adventures</td>\n",
       "      <td>2012</td>\n",
       "      <td>5.0</td>\n",
       "    </tr>\n",
       "    <tr>\n",
       "      <th>1</th>\n",
       "      <td>Jujutsu Kaisen</td>\n",
       "      <td>2020</td>\n",
       "      <td>4.0</td>\n",
       "    </tr>\n",
       "    <tr>\n",
       "      <th>2</th>\n",
       "      <td>Attack on Titan</td>\n",
       "      <td>2013</td>\n",
       "      <td>4.5</td>\n",
       "    </tr>\n",
       "    <tr>\n",
       "      <th>3</th>\n",
       "      <td>Dororo</td>\n",
       "      <td>2019</td>\n",
       "      <td>4.5</td>\n",
       "    </tr>\n",
       "    <tr>\n",
       "      <th>4</th>\n",
       "      <td>One Punch Man</td>\n",
       "      <td>2015</td>\n",
       "      <td>4.5</td>\n",
       "    </tr>\n",
       "  </tbody>\n",
       "</table>\n",
       "</div>"
      ],
      "text/plain": [
       "                       Animes  Ano de Lançamento  Notas\n",
       "0  Jojo's Bizzarre Adventures               2012    5.0\n",
       "1              Jujutsu Kaisen               2020    4.0\n",
       "2             Attack on Titan               2013    4.5\n",
       "3                      Dororo               2019    4.5\n",
       "4               One Punch Man               2015    4.5"
      ]
     },
     "execution_count": 7,
     "metadata": {},
     "output_type": "execute_result"
    }
   ],
   "source": [
    "import pandas as pd\n",
    "\n",
    "animes_df = pd.read_json(\"../aula_03-04/animes.json\")\n",
    "animes_df"
   ]
  },
  {
   "cell_type": "code",
   "execution_count": 49,
   "id": "5efb3694-cfed-4e67-a644-3e4d2f25234c",
   "metadata": {},
   "outputs": [
    {
     "data": {
      "text/plain": [
       "Filmes                     The Batman\n",
       "Ano Lançamento                   2023\n",
       "Nota                              5.0\n",
       "Séries               The Walking Dead\n",
       "Ano de Lançamento                2019\n",
       "Notas                             5.0\n",
       "Animes                  One Punch Man\n",
       "Ano de Lançamento                2020\n",
       "Notas                             5.0\n",
       "dtype: object"
      ]
     },
     "execution_count": 49,
     "metadata": {},
     "output_type": "execute_result"
    }
   ],
   "source": [
    "result = pd.concat([movies_df, series_df, animes_df], axis=1)\n",
    "result.max()"
   ]
  },
  {
   "cell_type": "code",
   "execution_count": null,
   "id": "aacb6993-3cbe-4260-a0d1-3023676582e4",
   "metadata": {},
   "outputs": [],
   "source": []
  }
 ],
 "metadata": {
  "kernelspec": {
   "display_name": "Python 3 (ipykernel)",
   "language": "python",
   "name": "python3"
  },
  "language_info": {
   "codemirror_mode": {
    "name": "ipython",
    "version": 3
   },
   "file_extension": ".py",
   "mimetype": "text/x-python",
   "name": "python",
   "nbconvert_exporter": "python",
   "pygments_lexer": "ipython3",
   "version": "3.12.4"
  }
 },
 "nbformat": 4,
 "nbformat_minor": 5
}
