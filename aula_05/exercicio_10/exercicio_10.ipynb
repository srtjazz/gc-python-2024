{
 "cells": [
  {
   "cell_type": "markdown",
   "id": "9e973592-6de8-40d3-bec6-c0c532158762",
   "metadata": {},
   "source": [
    "## ✦ Exercício 10 Coop - Responda as Perguntas"
   ]
  },
  {
   "cell_type": "markdown",
   "id": "ee0c5238-29fc-41ba-b44f-0fec991bc99e",
   "metadata": {},
   "source": [
    "#### ✦ O que é uma chave primária em um banco de dados? Por que é importante que cada tabela tenha uma chave primária?"
   ]
  },
  {
   "cell_type": "markdown",
   "id": "76803a74-cbba-40ce-9eec-80f90a0a8050",
   "metadata": {},
   "source": [
    "### Uma chave primaria em um Banco de Dados seria um elemento para identificar esta tabela, praticamente funciona como um identificador e esta deve ser unica, o seja nenhum valor pode se repetir, e não pode ter valores nulos, existem 2 tipos de chaves primarias, Chave primaria simples: Esta pode ser de uma unica coluna; e a Chave primaria Composta: Está como seu nome diz, esta composta por 2 ou mais colunas. E a importância de que cada tabela tenha uma chave primaria ajuda a identificar cada um dos dados, permitindo uma melhor acessibilidade e a integridade de estos."
   ]
  },
  {
   "cell_type": "markdown",
   "id": "8c500c52-41a1-425d-b5a0-4669a265ff24",
   "metadata": {},
   "source": [
    "#### ✦ Em um dataframe do Pandas, como você pode identificar uma coluna que atua como uma chave primária?"
   ]
  },
  {
   "cell_type": "markdown",
   "id": "75e33e37-3159-4053-9d81-c6c0db925e3b",
   "metadata": {},
   "source": [
    "### Para identificar se uma coluna atua como chave primária em um DataFrame do Pandas, devemos verificar se a coluna possui valores únicos e não nulos. pode ser usado o metodo is_unique para verificar a unicidade e isnull().sum() para checar se há valores nulos."
   ]
  },
  {
   "cell_type": "markdown",
   "id": "e6d3c5f4-f254-4d05-bbde-c235e4ce3544",
   "metadata": {},
   "source": [
    "#### ✦ O que são chaves estrangeiras e como elas se relacionam com as chaves primárias?"
   ]
  },
  {
   "cell_type": "markdown",
   "id": "f4b9d8be-beba-4963-9c45-1d94afeeb3cf",
   "metadata": {},
   "source": [
    "### A chave estrangeira seria praticamente uma chave primaria dentro de outra tabela, estabelecendo uma relação entre as duas tabelas, o proposito desta seria manter a integridade referencial."
   ]
  },
  {
   "cell_type": "markdown",
   "id": "c011929a-c50a-4cbe-b3c1-6864ef3f7503",
   "metadata": {},
   "source": [
    "#### ✦ Explique como a relação entre duas tabelas com chaves primárias e estrangeiras pode ser representada com dataframes no Pandas."
   ]
  },
  {
   "cell_type": "markdown",
   "id": "b7db482b-35aa-4ccb-bb5d-fed8ad77d7c6",
   "metadata": {},
   "source": [
    "Elas podem ser representadas ao dar merge entre essas duas tabelas e ser criada uma coluna em comum entre elas, que geralmente é a chave primária de uma tabela e estrangeira na outra."
   ]
  },
  {
   "cell_type": "markdown",
   "id": "dc2ecd70-54a1-4328-8b25-05fffd02525b",
   "metadata": {},
   "source": [
    "#### ✦ Qual a diferença entre os métodos .merge() e .join() no Pandas?"
   ]
  },
  {
   "cell_type": "markdown",
   "id": "a54c3d93-e0b3-487c-a979-34c351f33c19",
   "metadata": {},
   "source": [
    "Mesmo ambos sendo utilizados pra combinar os DataFrames, existem algumas diferenças:\n",
    "\n",
    "- .merge():\n",
    "  - sintaxe mais completa e com mais paramêtros customizáveis de junções.\n",
    "  - a capacidade de especificar múltiplas colunas na junção.\n",
    "  - muito bom para junções complexas.</br>\n",
    "- .join():\n",
    "  - sintaxe mais simples e mais usado para junções left.\n",
    "  - ela assume que o índice do DataFrame é a chave de junção, mas em junções simples isso pode ajudar bastante."
   ]
  },
  {
   "cell_type": "markdown",
   "id": "02a6bc6c-566d-4e07-bfe5-050cc3bc1f9a",
   "metadata": {},
   "source": [
    "#### ✦ Quando você usaria um inner join ao invés de um left join? Explique com exemplos."
   ]
  },
  {
   "cell_type": "markdown",
   "id": "5d8fb774-d5d4-488c-8de5-3a93e2f45459",
   "metadata": {},
   "source": [
    "Caso eu quisesse que a junção não criasse dados faltantes ou que retornassem os valores iguais em ambas tabelas. Numa relação entre as tabelas pedidos e clientes, usar o inner join retornaria os clientes que fizeram de fato os pedidos baseado na chave primaria(id_cliente)"
   ]
  },
  {
   "cell_type": "markdown",
   "id": "3a40eddc-0860-4def-9c00-5a68e2bebdba",
   "metadata": {},
   "source": [
    "#### ✦ Em que situação um merge resultaria em valores faltantes? Como podemos lidar com esses valores?"
   ]
  },
  {
   "cell_type": "markdown",
   "id": "b3bae6ad-4321-4010-9eda-991a19730564",
   "metadata": {},
   "source": [   
    "Um merge (união de dados) pode resultar em valores faltantes quando não há correspondência entre as chaves das tabelas unidas. Dependendo do tipo de merge (inner, left, right, outer), linhas sem correspondência geram valores NaN ou NULL. Para lidar com esses valores faltantes, você pode: Identificar onde ocorrem (isnull() no Pandas). Remover linhas com valores faltantes (dropna() no Pandas). Preencher os valores (fillna() no Pandas ou COALESCE no SQL). Usar outro tipo de merge para evitar ou reduzir NaN. Criar colunas indicativas para rastrear valores faltantes."
   ]
  },
  {
   "cell_type": "markdown",
   "id": "e68f1174-b6b7-42a5-83a9-3028e93d401e",
   "metadata": {},
   "source": [
    "#### ✦ Quais são as maneiras de tratar dados faltantes no Pandas? Explique os métodos .dropna() e .fillna()."
   ]
  },
  {
   "cell_type": "markdown",
   "id": "78f2bd0b-4034-4dd5-aadd-99eca05d3776",
   "metadata": {},
   "source": [  
    "O pandas possui dois métodos principais para tratar dados faltantes: 1. .dropna(): Remove linhas ou colunas que contêm valores nulos (NaN). Remove linhas (padrão) ou colunas (axis=1). how='any': Remove se qualquer valor for nulo (padrão). how='all': Remove se todos os valores forem nulos. thresh: Define um número mínimo de valores não-nulos necessários para manter a linha/coluna. subset: Especifica colunas para verificar nulos. 2. .fillna(): Substitui valores nulos por um valor específico. Pode preencher com um valor fixo (ex: 0), média da coluna ou outros cálculos. method='ffill'/'bfill': Preenche com valores da linha anterior/posterior. Pode usar um dicionário para preencher diferentes colunas com valores distintos."
   ]
  }
 ],
 "metadata": {
  "kernelspec": {
   "display_name": "Python 3 (ipykernel)",
   "language": "python",
   "name": "python3"
  },
  "language_info": {
   "codemirror_mode": {
    "name": "ipython",
    "version": 3
   },
   "file_extension": ".py",
   "mimetype": "text/x-python",
   "name": "python",
   "nbconvert_exporter": "python",
   "pygments_lexer": "ipython3",
   "version": "3.12.4"
  }
 },
 "nbformat": 4,
 "nbformat_minor": 5
}
