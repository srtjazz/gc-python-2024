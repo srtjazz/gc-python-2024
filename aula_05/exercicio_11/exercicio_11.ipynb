{
 "cells": [
  {
   "cell_type": "markdown",
   "id": "b8feff4a-1705-40db-8e53-d6f27b957a13",
   "metadata": {},
   "source": [
    "# ✦ Exercício 11 – Mini Boss - Coop"
   ]
  },
  {
   "cell_type": "code",
   "execution_count": null,
   "id": "da29dcf8-4d0a-48a5-9e2c-b019030b2a53",
   "metadata": {},
   "outputs": [],
   "source": []
  }
 ],
 "metadata": {
  "kernelspec": {
   "display_name": "Python 3 (ipykernel)",
   "language": "python",
   "name": "python3"
  },
  "language_info": {
   "codemirror_mode": {
    "name": "ipython",
    "version": 3
   },
   "file_extension": ".py",
   "mimetype": "text/x-python",
   "name": "python",
   "nbconvert_exporter": "python",
   "pygments_lexer": "ipython3",
   "version": "3.12.4"
  }
 },
 "nbformat": 4,
 "nbformat_minor": 5
}
