{
 "cells": [
  {
   "cell_type": "markdown",
   "id": "56785036-945c-44bb-b114-03cc1b031364",
   "metadata": {},
   "source": [
    "# Exercício 16\n",
    "#### Considere o dataset 16_dataset_notas_alunos.csv (ver nos recursos da aula no Discord). Então, extraia as seguintes informações:"
   ]
  },
  {
   "cell_type": "code",
   "execution_count": 11,
   "id": "c2ff524c-2cc5-446c-8cad-fc5b30e39466",
   "metadata": {},
   "outputs": [
    {
     "data": {
      "text/html": [
       "<div>\n",
       "<style scoped>\n",
       "    .dataframe tbody tr th:only-of-type {\n",
       "        vertical-align: middle;\n",
       "    }\n",
       "\n",
       "    .dataframe tbody tr th {\n",
       "        vertical-align: top;\n",
       "    }\n",
       "\n",
       "    .dataframe thead th {\n",
       "        text-align: right;\n",
       "    }\n",
       "</style>\n",
       "<table border=\"1\" class=\"dataframe\">\n",
       "  <thead>\n",
       "    <tr style=\"text-align: right;\">\n",
       "      <th></th>\n",
       "      <th>Aluno</th>\n",
       "      <th>Idade</th>\n",
       "      <th>Matemática</th>\n",
       "      <th>Ciências</th>\n",
       "    </tr>\n",
       "  </thead>\n",
       "  <tbody>\n",
       "    <tr>\n",
       "      <th>0</th>\n",
       "      <td>1</td>\n",
       "      <td>17</td>\n",
       "      <td>67</td>\n",
       "      <td>60</td>\n",
       "    </tr>\n",
       "    <tr>\n",
       "      <th>1</th>\n",
       "      <td>2</td>\n",
       "      <td>15</td>\n",
       "      <td>83</td>\n",
       "      <td>78</td>\n",
       "    </tr>\n",
       "    <tr>\n",
       "      <th>2</th>\n",
       "      <td>3</td>\n",
       "      <td>17</td>\n",
       "      <td>70</td>\n",
       "      <td>61</td>\n",
       "    </tr>\n",
       "    <tr>\n",
       "      <th>3</th>\n",
       "      <td>4</td>\n",
       "      <td>17</td>\n",
       "      <td>76</td>\n",
       "      <td>85</td>\n",
       "    </tr>\n",
       "    <tr>\n",
       "      <th>4</th>\n",
       "      <td>5</td>\n",
       "      <td>15</td>\n",
       "      <td>67</td>\n",
       "      <td>91</td>\n",
       "    </tr>\n",
       "    <tr>\n",
       "      <th>...</th>\n",
       "      <td>...</td>\n",
       "      <td>...</td>\n",
       "      <td>...</td>\n",
       "      <td>...</td>\n",
       "    </tr>\n",
       "    <tr>\n",
       "      <th>95</th>\n",
       "      <td>96</td>\n",
       "      <td>15</td>\n",
       "      <td>87</td>\n",
       "      <td>71</td>\n",
       "    </tr>\n",
       "    <tr>\n",
       "      <th>96</th>\n",
       "      <td>97</td>\n",
       "      <td>15</td>\n",
       "      <td>82</td>\n",
       "      <td>81</td>\n",
       "    </tr>\n",
       "    <tr>\n",
       "      <th>97</th>\n",
       "      <td>98</td>\n",
       "      <td>17</td>\n",
       "      <td>96</td>\n",
       "      <td>81</td>\n",
       "    </tr>\n",
       "    <tr>\n",
       "      <th>98</th>\n",
       "      <td>99</td>\n",
       "      <td>15</td>\n",
       "      <td>91</td>\n",
       "      <td>89</td>\n",
       "    </tr>\n",
       "    <tr>\n",
       "      <th>99</th>\n",
       "      <td>100</td>\n",
       "      <td>15</td>\n",
       "      <td>92</td>\n",
       "      <td>97</td>\n",
       "    </tr>\n",
       "  </tbody>\n",
       "</table>\n",
       "<p>100 rows × 4 columns</p>\n",
       "</div>"
      ],
      "text/plain": [
       "    Aluno  Idade  Matemática  Ciências\n",
       "0       1     17          67        60\n",
       "1       2     15          83        78\n",
       "2       3     17          70        61\n",
       "3       4     17          76        85\n",
       "4       5     15          67        91\n",
       "..    ...    ...         ...       ...\n",
       "95     96     15          87        71\n",
       "96     97     15          82        81\n",
       "97     98     17          96        81\n",
       "98     99     15          91        89\n",
       "99    100     15          92        97\n",
       "\n",
       "[100 rows x 4 columns]"
      ]
     },
     "execution_count": 11,
     "metadata": {},
     "output_type": "execute_result"
    }
   ],
   "source": [
    "import pandas as pd\n",
    "\n",
    "students_notes = pd.read_csv(\"../16_dataset_notas_alunos.csv\")\n",
    "students_notes"
   ]
  },
  {
   "cell_type": "markdown",
   "id": "a4395724-c627-4a24-9909-5dc30f80ab42",
   "metadata": {},
   "source": [
    "#### 1. Calcule a média das notas em Matemática e Ciências."
   ]
  },
  {
   "cell_type": "code",
   "execution_count": 27,
   "id": "0ec140a1-d8c1-48a4-93d4-e58a0cf875b1",
   "metadata": {},
   "outputs": [
    {
     "name": "stdout",
     "output_type": "stream",
     "text": [
      "A média de matemática é 81.57\n",
      "A média de ciências é 80.26\n"
     ]
    }
   ],
   "source": [
    "math_media = students_notes['Matemática'].mean()\n",
    "science_media = students_notes['Ciências'].mean()\n",
    "\n",
    "print(f\"A média de matemática é {math_media}\\nA média de ciências é {science_media}\")"
   ]
  },
  {
   "cell_type": "markdown",
   "id": "0b5da1b6-3c16-4759-b2d8-dd78e018886d",
   "metadata": {},
   "source": [
    "#### 2. Encontre a mediana das notas em Matemática e Ciências."
   ]
  },
  {
   "cell_type": "code",
   "execution_count": 26,
   "id": "845ee17f-a123-4f6d-be0f-c3482c3f32e7",
   "metadata": {},
   "outputs": [
    {
     "name": "stdout",
     "output_type": "stream",
     "text": [
      "A mediana de matemática é 84.5\n",
      "A mediana de ciências é 79.5\n"
     ]
    }
   ],
   "source": [
    "math_median = students_notes['Matemática'].median()\n",
    "science_median = students_notes['Ciências'].median()\n",
    "\n",
    "print(f\"A mediana de matemática é {math_median}\\nA mediana de ciências é {science_median}\")"
   ]
  },
  {
   "cell_type": "markdown",
   "id": "b17e8466-a668-49f3-88e6-a7146cd6d4b2",
   "metadata": {},
   "source": [
    "#### 3. Determine a moda das notas em Matemática e Ciências."
   ]
  },
  {
   "cell_type": "code",
   "execution_count": 33,
   "id": "5c71fee8-6aeb-4f9b-b3e7-c140fab7f31a",
   "metadata": {},
   "outputs": [
    {
     "name": "stdout",
     "output_type": "stream",
     "text": [
      "0    98\n",
      "Name: Matemática, dtype: int64\n"
     ]
    }
   ],
   "source": [
    "math_science_mode = students_notes[['Matemática', 'Ciências']].mode()\n",
    "\n",
    "print(f\"{math_science_mode}\")"
   ]
  },
  {
   "cell_type": "markdown",
   "id": "0e3647b3-f89b-4316-9c65-e12c3ecc338c",
   "metadata": {},
   "source": [
    "#### 4. Calcule a amplitude das notas em Matemática e Ciências."
   ]
  },
  {
   "cell_type": "code",
   "execution_count": 16,
   "id": "df1cb80e-df52-40f0-81c1-b095612bd4b5",
   "metadata": {},
   "outputs": [
    {
     "name": "stdout",
     "output_type": "stream",
     "text": [
      "A amplitude de matemática é 40\n",
      "A amplitude de ciências é 40\n"
     ]
    }
   ],
   "source": [
    "math_amplitude = students_notes['Matemática'].max() - students_notes['Matemática'].min()\n",
    "science_amplitude = students_notes['Ciências'].max() - students_notes['Ciências'].min()\n",
    "\n",
    "print(f\"A amplitude de matemática é {math_amplitude}\\nA amplitude de ciências é {science_amplitude}\")"
   ]
  },
  {
   "cell_type": "markdown",
   "id": "0b2257ad-739a-44f1-9760-b5f6722df0ed",
   "metadata": {},
   "source": [
    "#### 5. Calcule a variância das notas em Matemática e Ciências."
   ]
  },
  {
   "cell_type": "code",
   "execution_count": 17,
   "id": "66646f4b-3a33-4d78-8800-b70c1d72fcaa",
   "metadata": {},
   "outputs": [
    {
     "name": "stdout",
     "output_type": "stream",
     "text": [
      "A variância de matemática é 160.75262626262628\n",
      "A variância de ciência é 150.1539393939394\n"
     ]
    }
   ],
   "source": [
    "math_variance = students_notes['Matemática'].var()\n",
    "science_variance = students_notes['Ciências'].var()\n",
    "\n",
    "print(f\"A variância de matemática é {math_variance}\\nA variância de ciência é {science_variance}\")"
   ]
  },
  {
   "cell_type": "markdown",
   "id": "db7429fe-7b1e-4897-9e6b-998eb4ae162a",
   "metadata": {},
   "source": [
    "#### 6. Calcule o desvio padrão das notas em Matemática e Ciências."
   ]
  },
  {
   "cell_type": "code",
   "execution_count": 18,
   "id": "240bfdff-a926-42ad-9208-14e505467b5d",
   "metadata": {},
   "outputs": [
    {
     "name": "stdout",
     "output_type": "stream",
     "text": [
      "O desvio padrão de matemática é 12.678825902370704\n",
      "O desvio padrão de ciências é 12.253731651784259\n"
     ]
    }
   ],
   "source": [
    "math_std = students_notes['Matemática'].std()\n",
    "science_std = students_notes['Ciências'].std()\n",
    "\n",
    "print(f\"O desvio padrão de matemática é {math_std}\\nO desvio padrão de ciências é {science_std}\")"
   ]
  },
  {
   "cell_type": "markdown",
   "id": "68673cdd-7f84-4dbb-aef0-da62cb80f20b",
   "metadata": {},
   "source": [
    "#### 7. Calcule a covariância entre as notas de Matemática e Ciências."
   ]
  },
  {
   "cell_type": "code",
   "execution_count": 22,
   "id": "0472c6f9-2f88-4732-bc45-d6e589fadc6e",
   "metadata": {},
   "outputs": [
    {
     "name": "stdout",
     "output_type": "stream",
     "text": [
      "A covariância de matemática e ciências é 9.133131313131308\n"
     ]
    }
   ],
   "source": [
    "math_science_covariance = students_notes[['Matemática', 'Ciências']].cov().iloc[0, 1]\n",
    "\n",
    "print(f\"A covariância de matemática e ciências é {math_science_covariance}\")"
   ]
  },
  {
   "cell_type": "markdown",
   "id": "4c3b8efa-4767-4303-a3f4-7cb1936c8d76",
   "metadata": {},
   "source": [
    "#### 8. Calcule a correlação entre as notas de Matemática e Ciências."
   ]
  },
  {
   "cell_type": "code",
   "execution_count": 25,
   "id": "8a2642c2-c326-4413-bed9-a6b8a258ec99",
   "metadata": {},
   "outputs": [
    {
     "name": "stdout",
     "output_type": "stream",
     "text": [
      "A correlação entre matemática e ciências é 0.058785781765414935\n"
     ]
    }
   ],
   "source": [
    "math_science_correlation = students_notes[['Matemática', 'Ciências']].corr().iloc[0, 1]\n",
    "\n",
    "print(f\"A correlação entre matemática e ciências é {math_science_correlation}\")"
   ]
  }
 ],
 "metadata": {
  "kernelspec": {
   "display_name": "Python 3 (ipykernel)",
   "language": "python",
   "name": "python3"
  },
  "language_info": {
   "codemirror_mode": {
    "name": "ipython",
    "version": 3
   },
   "file_extension": ".py",
   "mimetype": "text/x-python",
   "name": "python",
   "nbconvert_exporter": "python",
   "pygments_lexer": "ipython3",
   "version": "3.12.4"
  }
 },
 "nbformat": 4,
 "nbformat_minor": 5
}
