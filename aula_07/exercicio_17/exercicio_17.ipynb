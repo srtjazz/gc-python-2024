{
 "cells": [
  {
   "cell_type": "markdown",
   "id": "c531da56-c56b-47ce-8fb2-186de8007591",
   "metadata": {},
   "source": [
    "# Exercício 17\n",
    "#### Você é um professor que deseja analisar as notas de dois grupos de alunos em um teste de matemática. Carregue o dataset chamado 17_notas_grupos.csv (ver nos recursos da aula no Discord), que contém duas colunas: Grupo_A e Grupo_B, representando as notas dos alunos."
   ]
  },
  {
   "cell_type": "code",
   "execution_count": 1,
   "id": "0ce767a1-2cb3-43da-b8a3-89fbd8e20040",
   "metadata": {},
   "outputs": [
    {
     "data": {
      "text/html": [
       "<div>\n",
       "<style scoped>\n",
       "    .dataframe tbody tr th:only-of-type {\n",
       "        vertical-align: middle;\n",
       "    }\n",
       "\n",
       "    .dataframe tbody tr th {\n",
       "        vertical-align: top;\n",
       "    }\n",
       "\n",
       "    .dataframe thead th {\n",
       "        text-align: right;\n",
       "    }\n",
       "</style>\n",
       "<table border=\"1\" class=\"dataframe\">\n",
       "  <thead>\n",
       "    <tr style=\"text-align: right;\">\n",
       "      <th></th>\n",
       "      <th>Grupo_A</th>\n",
       "      <th>Grupo_B</th>\n",
       "    </tr>\n",
       "  </thead>\n",
       "  <tbody>\n",
       "    <tr>\n",
       "      <th>0</th>\n",
       "      <td>51</td>\n",
       "      <td>23</td>\n",
       "    </tr>\n",
       "    <tr>\n",
       "      <th>1</th>\n",
       "      <td>92</td>\n",
       "      <td>25</td>\n",
       "    </tr>\n",
       "    <tr>\n",
       "      <th>2</th>\n",
       "      <td>14</td>\n",
       "      <td>88</td>\n",
       "    </tr>\n",
       "    <tr>\n",
       "      <th>3</th>\n",
       "      <td>71</td>\n",
       "      <td>59</td>\n",
       "    </tr>\n",
       "    <tr>\n",
       "      <th>4</th>\n",
       "      <td>60</td>\n",
       "      <td>40</td>\n",
       "    </tr>\n",
       "    <tr>\n",
       "      <th>...</th>\n",
       "      <td>...</td>\n",
       "      <td>...</td>\n",
       "    </tr>\n",
       "    <tr>\n",
       "      <th>95</th>\n",
       "      <td>39</td>\n",
       "      <td>0</td>\n",
       "    </tr>\n",
       "    <tr>\n",
       "      <th>96</th>\n",
       "      <td>84</td>\n",
       "      <td>26</td>\n",
       "    </tr>\n",
       "    <tr>\n",
       "      <th>97</th>\n",
       "      <td>79</td>\n",
       "      <td>61</td>\n",
       "    </tr>\n",
       "    <tr>\n",
       "      <th>98</th>\n",
       "      <td>81</td>\n",
       "      <td>76</td>\n",
       "    </tr>\n",
       "    <tr>\n",
       "      <th>99</th>\n",
       "      <td>52</td>\n",
       "      <td>2</td>\n",
       "    </tr>\n",
       "  </tbody>\n",
       "</table>\n",
       "<p>100 rows × 2 columns</p>\n",
       "</div>"
      ],
      "text/plain": [
       "    Grupo_A  Grupo_B\n",
       "0        51       23\n",
       "1        92       25\n",
       "2        14       88\n",
       "3        71       59\n",
       "4        60       40\n",
       "..      ...      ...\n",
       "95       39        0\n",
       "96       84       26\n",
       "97       79       61\n",
       "98       81       76\n",
       "99       52        2\n",
       "\n",
       "[100 rows x 2 columns]"
      ]
     },
     "execution_count": 1,
     "metadata": {},
     "output_type": "execute_result"
    }
   ],
   "source": [
    "import pandas as pd\n",
    "\n",
    "groupe_notes = pd.read_csv(\"../17_notas_grupos.csv\")\n",
    "groupe_notes"
   ]
  },
  {
   "cell_type": "code",
   "execution_count": 2,
   "id": "43a71e26-096f-4d66-98b2-7fb4d56ad8de",
   "metadata": {},
   "outputs": [],
   "source": [
    "collumns = ['Grupo_A', 'Grupo_B']"
   ]
  },
  {
   "cell_type": "markdown",
   "id": "6f33a620-792b-4a0d-bf3e-1bd15df1e1ec",
   "metadata": {},
   "source": [
    "#### Calcule e compare:\n",
    "#### 1. a média das notas de ambos os grupos"
   ]
  },
  {
   "cell_type": "code",
   "execution_count": 9,
   "id": "2173fff7-5c1c-4df6-8a54-84c27ddd93e3",
   "metadata": {},
   "outputs": [
    {
     "name": "stdout",
     "output_type": "stream",
     "text": [
      "A média do Grupo A é: 51.31\n",
      "A média do Grupo B é: 48.05\n"
     ]
    }
   ],
   "source": [
    "group_a_media = groupe_notes[collumns[0]].mean()\n",
    "group_b_media = groupe_notes[collumns[1]].mean()\n",
    "\n",
    "print(f\"A média do Grupo A é: {group_a_media}\\n\"\n",
    "      f\"A média do Grupo B é: {group_b_media}\")"
   ]
  },
  {
   "cell_type": "markdown",
   "id": "196b2dde-a5a9-4f47-97fa-71c2d1661bb4",
   "metadata": {},
   "source": [
    "#### 2. a mediana das notas de ambos os grupos"
   ]
  },
  {
   "cell_type": "code",
   "execution_count": 10,
   "id": "53cdf8c1-91d0-432b-8cc6-cd684880cf7d",
   "metadata": {},
   "outputs": [
    {
     "name": "stdout",
     "output_type": "stream",
     "text": [
      "A mediana do Grupo A é: 53.5\n",
      "A mediana do Grupo B é: 43.5\n"
     ]
    }
   ],
   "source": [
    "group_a_median = groupe_notes[collumns[0]].median()\n",
    "group_b_median = groupe_notes[collumns[1]].median()\n",
    "\n",
    "print(f\"A mediana do Grupo A é: {group_a_median}\\n\"\n",
    "      f\"A mediana do Grupo B é: {group_b_median}\")"
   ]
  },
  {
   "cell_type": "markdown",
   "id": "04a0ac30-b9b1-4786-b5ed-cd99e13d45bb",
   "metadata": {},
   "source": [
    "#### 3. o desvio padrão das notas de ambos os grupos.."
   ]
  },
  {
   "cell_type": "code",
   "execution_count": 11,
   "id": "84174ee0-a68f-4c53-8c59-0e4b99e5e5b2",
   "metadata": {},
   "outputs": [
    {
     "name": "stdout",
     "output_type": "stream",
     "text": [
      "O desvio de padrão do Grupo A é: 29.704162548829295\n",
      "O desvio de padrão do Grupo B é: 30.74278267933283\n"
     ]
    }
   ],
   "source": [
    "group_a_std = groupe_notes[collumns[0]].std()\n",
    "group_b_std = groupe_notes[collumns[1]].std()\n",
    "\n",
    "print(f\"O desvio de padrão do Grupo A é: {group_a_std}\\n\"\n",
    "      f\"O desvio de padrão do Grupo B é: {group_b_std}\")"
   ]
  }
 ],
 "metadata": {
  "kernelspec": {
   "display_name": "Python 3 (ipykernel)",
   "language": "python",
   "name": "python3"
  },
  "language_info": {
   "codemirror_mode": {
    "name": "ipython",
    "version": 3
   },
   "file_extension": ".py",
   "mimetype": "text/x-python",
   "name": "python",
   "nbconvert_exporter": "python",
   "pygments_lexer": "ipython3",
   "version": "3.12.4"
  }
 },
 "nbformat": 4,
 "nbformat_minor": 5
}
