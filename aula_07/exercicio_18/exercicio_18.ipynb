{
 "cells": [
  {
   "cell_type": "markdown",
   "id": "03b0cbb5-51b2-47da-aeb4-b1980c8bb3a6",
   "metadata": {},
   "source": [
    "# Exercício 18 (MINI BOSS): Análise de Desempenho Escolar\n",
    "\n",
    "#### Você é um cientista de dados contratado por uma escola para analisar o desempenho de três turmas (Turma A, Turma B, Turma C) em duas disci plinas: Matemática e Ciências.\n",
    "#### O objetivo é gerar um relatório completo utilizando as medidas estatísticas estudadas para entender o desempenho geral dos alunos e descobrir padrões importantes.\n",
    "#### Tarefas:"
   ]
  },
  {
   "cell_type": "markdown",
   "id": "8b257765-1634-411a-853e-66c560abb611",
   "metadata": {},
   "source": [
    "#### 1. Carregar o dataset que contém as notas dos alunos das três turmas. O arquivo chama 18_analise_avancada.csv."
   ]
  },
  {
   "cell_type": "code",
   "execution_count": 2,
   "id": "f37b0144-95ec-437c-8ed2-0fbea4aee9aa",
   "metadata": {},
   "outputs": [
    {
     "data": {
      "text/html": [
       "<div>\n",
       "<style scoped>\n",
       "    .dataframe tbody tr th:only-of-type {\n",
       "        vertical-align: middle;\n",
       "    }\n",
       "\n",
       "    .dataframe tbody tr th {\n",
       "        vertical-align: top;\n",
       "    }\n",
       "\n",
       "    .dataframe thead th {\n",
       "        text-align: right;\n",
       "    }\n",
       "</style>\n",
       "<table border=\"1\" class=\"dataframe\">\n",
       "  <thead>\n",
       "    <tr style=\"text-align: right;\">\n",
       "      <th></th>\n",
       "      <th>Turma</th>\n",
       "      <th>Matemática</th>\n",
       "      <th>Ciências</th>\n",
       "    </tr>\n",
       "  </thead>\n",
       "  <tbody>\n",
       "    <tr>\n",
       "      <th>0</th>\n",
       "      <td>C</td>\n",
       "      <td>83</td>\n",
       "      <td>96</td>\n",
       "    </tr>\n",
       "    <tr>\n",
       "      <th>1</th>\n",
       "      <td>A</td>\n",
       "      <td>47</td>\n",
       "      <td>91</td>\n",
       "    </tr>\n",
       "    <tr>\n",
       "      <th>2</th>\n",
       "      <td>C</td>\n",
       "      <td>63</td>\n",
       "      <td>52</td>\n",
       "    </tr>\n",
       "    <tr>\n",
       "      <th>3</th>\n",
       "      <td>C</td>\n",
       "      <td>50</td>\n",
       "      <td>80</td>\n",
       "    </tr>\n",
       "    <tr>\n",
       "      <th>4</th>\n",
       "      <td>A</td>\n",
       "      <td>90</td>\n",
       "      <td>42</td>\n",
       "    </tr>\n",
       "    <tr>\n",
       "      <th>...</th>\n",
       "      <td>...</td>\n",
       "      <td>...</td>\n",
       "      <td>...</td>\n",
       "    </tr>\n",
       "    <tr>\n",
       "      <th>95</th>\n",
       "      <td>A</td>\n",
       "      <td>78</td>\n",
       "      <td>79</td>\n",
       "    </tr>\n",
       "    <tr>\n",
       "      <th>96</th>\n",
       "      <td>A</td>\n",
       "      <td>72</td>\n",
       "      <td>78</td>\n",
       "    </tr>\n",
       "    <tr>\n",
       "      <th>97</th>\n",
       "      <td>C</td>\n",
       "      <td>40</td>\n",
       "      <td>57</td>\n",
       "    </tr>\n",
       "    <tr>\n",
       "      <th>98</th>\n",
       "      <td>A</td>\n",
       "      <td>96</td>\n",
       "      <td>79</td>\n",
       "    </tr>\n",
       "    <tr>\n",
       "      <th>99</th>\n",
       "      <td>A</td>\n",
       "      <td>66</td>\n",
       "      <td>40</td>\n",
       "    </tr>\n",
       "  </tbody>\n",
       "</table>\n",
       "<p>100 rows × 3 columns</p>\n",
       "</div>"
      ],
      "text/plain": [
       "   Turma  Matemática  Ciências\n",
       "0      C          83        96\n",
       "1      A          47        91\n",
       "2      C          63        52\n",
       "3      C          50        80\n",
       "4      A          90        42\n",
       "..   ...         ...       ...\n",
       "95     A          78        79\n",
       "96     A          72        78\n",
       "97     C          40        57\n",
       "98     A          96        79\n",
       "99     A          66        40\n",
       "\n",
       "[100 rows x 3 columns]"
      ]
     },
     "execution_count": 2,
     "metadata": {},
     "output_type": "execute_result"
    }
   ],
   "source": [
    "import pandas as pd\n",
    "\n",
    "students_notes = pd.read_csv(\"../18_analise_avancada.csv\")\n",
    "students_notes"
   ]
  },
  {
   "cell_type": "markdown",
   "id": "72b13ce5-d650-4def-b806-24ad287d49c5",
   "metadata": {},
   "source": [
    "#### 2. Calcular as seguintes medidas estatísticas para cada turma (A, B e C) em Matemática e Ciências:\n",
    "#### a. Média"
   ]
  },
  {
   "cell_type": "code",
   "execution_count": 9,
   "id": "c5dd22b0-f9e6-4024-8011-e15829c1b574",
   "metadata": {},
   "outputs": [
    {
     "name": "stdout",
     "output_type": "stream",
     "text": [
      "A média em matemática e ciências das turmas A, B e C são, respectivamente:\n"
     ]
    },
    {
     "data": {
      "text/html": [
       "<div>\n",
       "<style scoped>\n",
       "    .dataframe tbody tr th:only-of-type {\n",
       "        vertical-align: middle;\n",
       "    }\n",
       "\n",
       "    .dataframe tbody tr th {\n",
       "        vertical-align: top;\n",
       "    }\n",
       "\n",
       "    .dataframe thead th {\n",
       "        text-align: right;\n",
       "    }\n",
       "</style>\n",
       "<table border=\"1\" class=\"dataframe\">\n",
       "  <thead>\n",
       "    <tr style=\"text-align: right;\">\n",
       "      <th></th>\n",
       "      <th>Matemática</th>\n",
       "      <th>Ciências</th>\n",
       "    </tr>\n",
       "    <tr>\n",
       "      <th>Turma</th>\n",
       "      <th></th>\n",
       "      <th></th>\n",
       "    </tr>\n",
       "  </thead>\n",
       "  <tbody>\n",
       "    <tr>\n",
       "      <th>A</th>\n",
       "      <td>69.515152</td>\n",
       "      <td>70.393939</td>\n",
       "    </tr>\n",
       "    <tr>\n",
       "      <th>B</th>\n",
       "      <td>70.888889</td>\n",
       "      <td>71.555556</td>\n",
       "    </tr>\n",
       "    <tr>\n",
       "      <th>C</th>\n",
       "      <td>68.741935</td>\n",
       "      <td>67.580645</td>\n",
       "    </tr>\n",
       "  </tbody>\n",
       "</table>\n",
       "</div>"
      ],
      "text/plain": [
       "       Matemática   Ciências\n",
       "Turma                       \n",
       "A       69.515152  70.393939\n",
       "B       70.888889  71.555556\n",
       "C       68.741935  67.580645"
      ]
     },
     "execution_count": 9,
     "metadata": {},
     "output_type": "execute_result"
    }
   ],
   "source": [
    "df_media = students_notes.groupby(['Turma']).mean()\n",
    "\n",
    "print(\"A média em matemática e ciências das turmas A, B e C são, respectivamente:\")\n",
    "df_media"
   ]
  },
  {
   "cell_type": "markdown",
   "id": "fb9dfd0e-1c04-4e4e-9919-1e5752297aac",
   "metadata": {},
   "source": [
    "#### b. Mediana"
   ]
  },
  {
   "cell_type": "code",
   "execution_count": 10,
   "id": "d2a4b2ba-ad50-46fd-8265-59c9a4e3c2ba",
   "metadata": {},
   "outputs": [
    {
     "name": "stdout",
     "output_type": "stream",
     "text": [
      "A mediana em matemática e ciências das turmas A, B e C são, respectivamente:\n"
     ]
    },
    {
     "data": {
      "text/html": [
       "<div>\n",
       "<style scoped>\n",
       "    .dataframe tbody tr th:only-of-type {\n",
       "        vertical-align: middle;\n",
       "    }\n",
       "\n",
       "    .dataframe tbody tr th {\n",
       "        vertical-align: top;\n",
       "    }\n",
       "\n",
       "    .dataframe thead th {\n",
       "        text-align: right;\n",
       "    }\n",
       "</style>\n",
       "<table border=\"1\" class=\"dataframe\">\n",
       "  <thead>\n",
       "    <tr style=\"text-align: right;\">\n",
       "      <th></th>\n",
       "      <th>Matemática</th>\n",
       "      <th>Ciências</th>\n",
       "    </tr>\n",
       "    <tr>\n",
       "      <th>Turma</th>\n",
       "      <th></th>\n",
       "      <th></th>\n",
       "    </tr>\n",
       "  </thead>\n",
       "  <tbody>\n",
       "    <tr>\n",
       "      <th>A</th>\n",
       "      <td>68.0</td>\n",
       "      <td>72.0</td>\n",
       "    </tr>\n",
       "    <tr>\n",
       "      <th>B</th>\n",
       "      <td>71.0</td>\n",
       "      <td>72.0</td>\n",
       "    </tr>\n",
       "    <tr>\n",
       "      <th>C</th>\n",
       "      <td>74.0</td>\n",
       "      <td>67.0</td>\n",
       "    </tr>\n",
       "  </tbody>\n",
       "</table>\n",
       "</div>"
      ],
      "text/plain": [
       "       Matemática  Ciências\n",
       "Turma                      \n",
       "A            68.0      72.0\n",
       "B            71.0      72.0\n",
       "C            74.0      67.0"
      ]
     },
     "execution_count": 10,
     "metadata": {},
     "output_type": "execute_result"
    }
   ],
   "source": [
    "df_median = students_notes.groupby(['Turma']).median()\n",
    "print(\"A mediana em matemática e ciências das turmas A, B e C são, respectivamente:\")\n",
    "df_median"
   ]
  },
  {
   "cell_type": "markdown",
   "id": "8f01a749-d38a-4607-9c40-9dc4b2381b0d",
   "metadata": {},
   "source": [
    "#### c. Moda"
   ]
  },
  {
   "cell_type": "code",
   "execution_count": 16,
   "id": "5ca579d7-7fae-4493-bea8-e8ae5fe8a2a1",
   "metadata": {},
   "outputs": [
    {
     "name": "stdout",
     "output_type": "stream",
     "text": [
      "A moda em matemática e ciências das turmas A, B e C são, respectivamente:\n"
     ]
    },
    {
     "data": {
      "text/html": [
       "<div>\n",
       "<style scoped>\n",
       "    .dataframe tbody tr th:only-of-type {\n",
       "        vertical-align: middle;\n",
       "    }\n",
       "\n",
       "    .dataframe tbody tr th {\n",
       "        vertical-align: top;\n",
       "    }\n",
       "\n",
       "    .dataframe thead th {\n",
       "        text-align: right;\n",
       "    }\n",
       "</style>\n",
       "<table border=\"1\" class=\"dataframe\">\n",
       "  <thead>\n",
       "    <tr style=\"text-align: right;\">\n",
       "      <th></th>\n",
       "      <th></th>\n",
       "      <th>Matemática</th>\n",
       "      <th>Ciências</th>\n",
       "    </tr>\n",
       "    <tr>\n",
       "      <th>Turma</th>\n",
       "      <th></th>\n",
       "      <th></th>\n",
       "      <th></th>\n",
       "    </tr>\n",
       "  </thead>\n",
       "  <tbody>\n",
       "    <tr>\n",
       "      <th>A</th>\n",
       "      <th>0</th>\n",
       "      <td>94.0</td>\n",
       "      <td>71.0</td>\n",
       "    </tr>\n",
       "    <tr>\n",
       "      <th>B</th>\n",
       "      <th>0</th>\n",
       "      <td>54.0</td>\n",
       "      <td>58.0</td>\n",
       "    </tr>\n",
       "    <tr>\n",
       "      <th rowspan=\"2\" valign=\"top\">C</th>\n",
       "      <th>0</th>\n",
       "      <td>78.0</td>\n",
       "      <td>42.0</td>\n",
       "    </tr>\n",
       "    <tr>\n",
       "      <th>1</th>\n",
       "      <td>83.0</td>\n",
       "      <td>45.0</td>\n",
       "    </tr>\n",
       "  </tbody>\n",
       "</table>\n",
       "</div>"
      ],
      "text/plain": [
       "         Matemática  Ciências\n",
       "Turma                        \n",
       "A     0        94.0      71.0\n",
       "B     0        54.0      58.0\n",
       "C     0        78.0      42.0\n",
       "      1        83.0      45.0"
      ]
     },
     "execution_count": 16,
     "metadata": {},
     "output_type": "execute_result"
    }
   ],
   "source": [
    "df_mode = students_notes.groupby('Turma').apply(lambda x: x.mode(), include_groups=False)\n",
    "df_mode = df_mode.dropna()\n",
    "\n",
    "print(\"A moda em matemática e ciências das turmas A, B e C são, respectivamente:\")\n",
    "df_mode"
   ]
  },
  {
   "cell_type": "markdown",
   "id": "2ed02402-06a3-41ad-8ff2-2b2352f2d0d0",
   "metadata": {},
   "source": [
    "#### d. Amplitude (diferença entre a maior e a menor nota)"
   ]
  },
  {
   "cell_type": "code",
   "execution_count": 75,
   "id": "1c93bd2b-accc-483f-84e4-732c9a0a6e19",
   "metadata": {},
   "outputs": [
    {
     "name": "stdout",
     "output_type": "stream",
     "text": [
      "A amplitude em matemática e ciências das turmas A, B e C são, respectivamente:\n"
     ]
    },
    {
     "data": {
      "text/html": [
       "<div>\n",
       "<style scoped>\n",
       "    .dataframe tbody tr th:only-of-type {\n",
       "        vertical-align: middle;\n",
       "    }\n",
       "\n",
       "    .dataframe tbody tr th {\n",
       "        vertical-align: top;\n",
       "    }\n",
       "\n",
       "    .dataframe thead th {\n",
       "        text-align: right;\n",
       "    }\n",
       "</style>\n",
       "<table border=\"1\" class=\"dataframe\">\n",
       "  <thead>\n",
       "    <tr style=\"text-align: right;\">\n",
       "      <th></th>\n",
       "      <th>Matemática</th>\n",
       "      <th>Ciências</th>\n",
       "    </tr>\n",
       "    <tr>\n",
       "      <th>Turma</th>\n",
       "      <th></th>\n",
       "      <th></th>\n",
       "    </tr>\n",
       "  </thead>\n",
       "  <tbody>\n",
       "    <tr>\n",
       "      <th>A</th>\n",
       "      <td>57</td>\n",
       "      <td>58</td>\n",
       "    </tr>\n",
       "    <tr>\n",
       "      <th>B</th>\n",
       "      <td>53</td>\n",
       "      <td>58</td>\n",
       "    </tr>\n",
       "    <tr>\n",
       "      <th>C</th>\n",
       "      <td>60</td>\n",
       "      <td>57</td>\n",
       "    </tr>\n",
       "  </tbody>\n",
       "</table>\n",
       "</div>"
      ],
      "text/plain": [
       "       Matemática  Ciências\n",
       "Turma                      \n",
       "A              57        58\n",
       "B              53        58\n",
       "C              60        57"
      ]
     },
     "execution_count": 75,
     "metadata": {},
     "output_type": "execute_result"
    }
   ],
   "source": [
    "df_max = students_notes.groupby('Turma').max()\n",
    "df_min = students_notes.groupby('Turma').min()\n",
    "\n",
    "df_amplitude = df_max - df_min\n",
    "\n",
    "print(\"A amplitude em matemática e ciências das turmas A, B e C são, respectivamente:\")\n",
    "df_amplitude"
   ]
  },
  {
   "cell_type": "markdown",
   "id": "4d9bf40f-9876-49b7-b6aa-82a471b27707",
   "metadata": {},
   "source": [
    "#### e. Variância"
   ]
  },
  {
   "cell_type": "code",
   "execution_count": 8,
   "id": "76a6a7cd-47ff-4346-9dc3-688545cf734d",
   "metadata": {},
   "outputs": [
    {
     "name": "stdout",
     "output_type": "stream",
     "text": [
      "A variância em matemática e ciências das turmas A, B e C são, respectivamente:\n"
     ]
    },
    {
     "data": {
      "text/html": [
       "<div>\n",
       "<style scoped>\n",
       "    .dataframe tbody tr th:only-of-type {\n",
       "        vertical-align: middle;\n",
       "    }\n",
       "\n",
       "    .dataframe tbody tr th {\n",
       "        vertical-align: top;\n",
       "    }\n",
       "\n",
       "    .dataframe thead th {\n",
       "        text-align: right;\n",
       "    }\n",
       "</style>\n",
       "<table border=\"1\" class=\"dataframe\">\n",
       "  <thead>\n",
       "    <tr style=\"text-align: right;\">\n",
       "      <th></th>\n",
       "      <th>Matemática</th>\n",
       "      <th>Ciências</th>\n",
       "    </tr>\n",
       "    <tr>\n",
       "      <th>Turma</th>\n",
       "      <th></th>\n",
       "      <th></th>\n",
       "    </tr>\n",
       "  </thead>\n",
       "  <tbody>\n",
       "    <tr>\n",
       "      <th>A</th>\n",
       "      <td>325.570076</td>\n",
       "      <td>345.996212</td>\n",
       "    </tr>\n",
       "    <tr>\n",
       "      <th>B</th>\n",
       "      <td>234.101587</td>\n",
       "      <td>374.311111</td>\n",
       "    </tr>\n",
       "    <tr>\n",
       "      <th>C</th>\n",
       "      <td>307.997849</td>\n",
       "      <td>347.318280</td>\n",
       "    </tr>\n",
       "  </tbody>\n",
       "</table>\n",
       "</div>"
      ],
      "text/plain": [
       "       Matemática    Ciências\n",
       "Turma                        \n",
       "A      325.570076  345.996212\n",
       "B      234.101587  374.311111\n",
       "C      307.997849  347.318280"
      ]
     },
     "execution_count": 8,
     "metadata": {},
     "output_type": "execute_result"
    }
   ],
   "source": [
    "df_variance = students_notes.groupby('Turma').var()\n",
    "\n",
    "print(\"A variância em matemática e ciências das turmas A, B e C são, respectivamente:\")\n",
    "df_variance"
   ]
  },
  {
   "cell_type": "markdown",
   "id": "cef28f29-991b-4e8e-aa32-602bc0dd445a",
   "metadata": {},
   "source": [
    "#### f. Desvio Padrão"
   ]
  },
  {
   "cell_type": "code",
   "execution_count": 78,
   "id": "b0184d66-af0a-45d5-bf89-769cf0908c7a",
   "metadata": {},
   "outputs": [
    {
     "name": "stdout",
     "output_type": "stream",
     "text": [
      "O desvio padrão em matemática e ciências das turmas A, B e C são, respectivamente:\n"
     ]
    },
    {
     "data": {
      "text/html": [
       "<div>\n",
       "<style scoped>\n",
       "    .dataframe tbody tr th:only-of-type {\n",
       "        vertical-align: middle;\n",
       "    }\n",
       "\n",
       "    .dataframe tbody tr th {\n",
       "        vertical-align: top;\n",
       "    }\n",
       "\n",
       "    .dataframe thead th {\n",
       "        text-align: right;\n",
       "    }\n",
       "</style>\n",
       "<table border=\"1\" class=\"dataframe\">\n",
       "  <thead>\n",
       "    <tr style=\"text-align: right;\">\n",
       "      <th></th>\n",
       "      <th>Matemática</th>\n",
       "      <th>Ciências</th>\n",
       "    </tr>\n",
       "    <tr>\n",
       "      <th>Turma</th>\n",
       "      <th></th>\n",
       "      <th></th>\n",
       "    </tr>\n",
       "  </thead>\n",
       "  <tbody>\n",
       "    <tr>\n",
       "      <th>A</th>\n",
       "      <td>18.043561</td>\n",
       "      <td>18.600973</td>\n",
       "    </tr>\n",
       "    <tr>\n",
       "      <th>B</th>\n",
       "      <td>15.300379</td>\n",
       "      <td>19.347122</td>\n",
       "    </tr>\n",
       "    <tr>\n",
       "      <th>C</th>\n",
       "      <td>17.549868</td>\n",
       "      <td>18.636477</td>\n",
       "    </tr>\n",
       "  </tbody>\n",
       "</table>\n",
       "</div>"
      ],
      "text/plain": [
       "       Matemática   Ciências\n",
       "Turma                       \n",
       "A       18.043561  18.600973\n",
       "B       15.300379  19.347122\n",
       "C       17.549868  18.636477"
      ]
     },
     "execution_count": 78,
     "metadata": {},
     "output_type": "execute_result"
    }
   ],
   "source": [
    "df_std = students_notes.groupby('Turma').std()\n",
    "\n",
    "print(\"O desvio padrão em matemática e ciências das turmas A, B e C são, respectivamente:\")\n",
    "df_std"
   ]
  },
  {
   "cell_type": "markdown",
   "id": "2c54b7c5-86f3-485f-90e0-33534f30abd0",
   "metadata": {},
   "source": [
    "#### g. Covariância e Correlação entre Matemática e Ciências"
   ]
  },
  {
   "cell_type": "code",
   "execution_count": 10,
   "id": "b70c516c-790a-4871-9ed0-e56398c9dd5a",
   "metadata": {},
   "outputs": [
    {
     "name": "stdout",
     "output_type": "stream",
     "text": [
      "A covariância em matemática e ciências das turmas A,} B e C são, respectivamente:\n"
     ]
    },
    {
     "data": {
      "text/html": [
       "<div>\n",
       "<style scoped>\n",
       "    .dataframe tbody tr th:only-of-type {\n",
       "        vertical-align: middle;\n",
       "    }\n",
       "\n",
       "    .dataframe tbody tr th {\n",
       "        vertical-align: top;\n",
       "    }\n",
       "\n",
       "    .dataframe thead th {\n",
       "        text-align: right;\n",
       "    }\n",
       "</style>\n",
       "<table border=\"1\" class=\"dataframe\">\n",
       "  <thead>\n",
       "    <tr style=\"text-align: right;\">\n",
       "      <th></th>\n",
       "      <th></th>\n",
       "      <th>Matemática</th>\n",
       "      <th>Ciências</th>\n",
       "    </tr>\n",
       "    <tr>\n",
       "      <th>Turma</th>\n",
       "      <th></th>\n",
       "      <th></th>\n",
       "      <th></th>\n",
       "    </tr>\n",
       "  </thead>\n",
       "  <tbody>\n",
       "    <tr>\n",
       "      <th rowspan=\"2\" valign=\"top\">A</th>\n",
       "      <th>Matemática</th>\n",
       "      <td>325.570076</td>\n",
       "      <td>-68.646780</td>\n",
       "    </tr>\n",
       "    <tr>\n",
       "      <th>Ciências</th>\n",
       "      <td>-68.646780</td>\n",
       "      <td>345.996212</td>\n",
       "    </tr>\n",
       "    <tr>\n",
       "      <th rowspan=\"2\" valign=\"top\">B</th>\n",
       "      <th>Matemática</th>\n",
       "      <td>234.101587</td>\n",
       "      <td>-25.165079</td>\n",
       "    </tr>\n",
       "    <tr>\n",
       "      <th>Ciências</th>\n",
       "      <td>-25.165079</td>\n",
       "      <td>374.311111</td>\n",
       "    </tr>\n",
       "    <tr>\n",
       "      <th rowspan=\"2\" valign=\"top\">C</th>\n",
       "      <th>Matemática</th>\n",
       "      <td>307.997849</td>\n",
       "      <td>77.054839</td>\n",
       "    </tr>\n",
       "    <tr>\n",
       "      <th>Ciências</th>\n",
       "      <td>77.054839</td>\n",
       "      <td>347.318280</td>\n",
       "    </tr>\n",
       "  </tbody>\n",
       "</table>\n",
       "</div>"
      ],
      "text/plain": [
       "                  Matemática    Ciências\n",
       "Turma                                   \n",
       "A     Matemática  325.570076  -68.646780\n",
       "      Ciências    -68.646780  345.996212\n",
       "B     Matemática  234.101587  -25.165079\n",
       "      Ciências    -25.165079  374.311111\n",
       "C     Matemática  307.997849   77.054839\n",
       "      Ciências     77.054839  347.318280"
      ]
     },
     "execution_count": 10,
     "metadata": {},
     "output_type": "execute_result"
    }
   ],
   "source": [
    "df_covariance = students_notes.groupby('Turma').cov()\n",
    "\n",
    "print(\"A covariância em matemática e ciências das turmas A, B e C são, respectivamente:\")\n",
    "df_covariance"
   ]
  },
  {
   "cell_type": "code",
   "execution_count": 32,
   "id": "6a284e29-6908-4084-adb7-1fd596a02ee5",
   "metadata": {},
   "outputs": [
    {
     "name": "stdout",
     "output_type": "stream",
     "text": [
      "A correlação em matemática e ciências das turmas A, B e C são, respectivamente:\n"
     ]
    },
    {
     "data": {
      "text/html": [
       "<div>\n",
       "<style scoped>\n",
       "    .dataframe tbody tr th:only-of-type {\n",
       "        vertical-align: middle;\n",
       "    }\n",
       "\n",
       "    .dataframe tbody tr th {\n",
       "        vertical-align: top;\n",
       "    }\n",
       "\n",
       "    .dataframe thead th {\n",
       "        text-align: right;\n",
       "    }\n",
       "</style>\n",
       "<table border=\"1\" class=\"dataframe\">\n",
       "  <thead>\n",
       "    <tr style=\"text-align: right;\">\n",
       "      <th></th>\n",
       "      <th></th>\n",
       "      <th>Matemática</th>\n",
       "      <th>Ciências</th>\n",
       "    </tr>\n",
       "    <tr>\n",
       "      <th>Turma</th>\n",
       "      <th></th>\n",
       "      <th></th>\n",
       "      <th></th>\n",
       "    </tr>\n",
       "  </thead>\n",
       "  <tbody>\n",
       "    <tr>\n",
       "      <th rowspan=\"2\" valign=\"top\">A</th>\n",
       "      <th>Matemática</th>\n",
       "      <td>1.000000</td>\n",
       "      <td>-0.204532</td>\n",
       "    </tr>\n",
       "    <tr>\n",
       "      <th>Ciências</th>\n",
       "      <td>-0.204532</td>\n",
       "      <td>1.000000</td>\n",
       "    </tr>\n",
       "    <tr>\n",
       "      <th rowspan=\"2\" valign=\"top\">B</th>\n",
       "      <th>Matemática</th>\n",
       "      <td>1.000000</td>\n",
       "      <td>-0.085012</td>\n",
       "    </tr>\n",
       "    <tr>\n",
       "      <th>Ciências</th>\n",
       "      <td>-0.085012</td>\n",
       "      <td>1.000000</td>\n",
       "    </tr>\n",
       "    <tr>\n",
       "      <th rowspan=\"2\" valign=\"top\">C</th>\n",
       "      <th>Matemática</th>\n",
       "      <td>1.000000</td>\n",
       "      <td>0.235593</td>\n",
       "    </tr>\n",
       "    <tr>\n",
       "      <th>Ciências</th>\n",
       "      <td>0.235593</td>\n",
       "      <td>1.000000</td>\n",
       "    </tr>\n",
       "  </tbody>\n",
       "</table>\n",
       "</div>"
      ],
      "text/plain": [
       "                  Matemática  Ciências\n",
       "Turma                                 \n",
       "A     Matemática    1.000000 -0.204532\n",
       "      Ciências     -0.204532  1.000000\n",
       "B     Matemática    1.000000 -0.085012\n",
       "      Ciências     -0.085012  1.000000\n",
       "C     Matemática    1.000000  0.235593\n",
       "      Ciências      0.235593  1.000000"
      ]
     },
     "execution_count": 32,
     "metadata": {},
     "output_type": "execute_result"
    }
   ],
   "source": [
    "df_correlation = students_notes.groupby('Turma').corr()\n",
    "\n",
    "print(\"A correlação em matemática e ciências das turmas A, B e C são, respectivamente:\")\n",
    "df_correlation"
   ]
  },
  {
   "cell_type": "markdown",
   "id": "71f6c4bd-7aa5-4fb2-9342-b7e9d2d1e577",
   "metadata": {},
   "source": [
    "# Conclusões:\n",
    "### 1. Com base nas medidas acima, qual turma teve o melhor desempenho geral em Matemática e Ciências?"
   ]
  },
  {
   "cell_type": "markdown",
   "id": "61eeed0e-c156-4c8a-9b52-793c897cc47c",
   "metadata": {},
   "source": [
    "#### Em matemática, as Turmas que mais se destacam são a Turma A e a Turma C aparecendo 4 vezes com maiores valores das medidas\n",
    "#### Em Ciências, a Turma que mais se destacou foi a Turma B aparecendo 5 vezes com maiores valores das medidas"
   ]
  },
  {
   "cell_type": "markdown",
   "id": "589137be-751c-4252-9545-235c82bf8f84",
   "metadata": {},
   "source": [
    "### 2. Qual turma tem as notas mais consistentes em termos de desvio padrão?"
   ]
  },
  {
   "cell_type": "markdown",
   "id": "e52fcb33-1586-4ad3-ae18-d38326ce66d8",
   "metadata": {},
   "source": [
    "#### A turma B, possuindo um desvio de padrão de 19.3"
   ]
  },
  {
   "cell_type": "markdown",
   "id": "c042c01b-fc81-410a-afc7-4132ec46200f",
   "metadata": {},
   "source": [
    "### 3. Existe uma correlação entre o desempenho em Matemática e Ciências para cada turma? Essa correlação é positiva ou negativa?"
   ]
  },
  {
   "cell_type": "markdown",
   "id": "092f026d-aed5-4b26-9096-3e232bc97dc9",
   "metadata": {},
   "source": [
    "#### Existe sim, sendo uma correlação positiva mas não perfeita"
   ]
  },
  {
   "cell_type": "markdown",
   "id": "fc7ba500-5760-4395-8df8-b422c7a3e6c8",
   "metadata": {},
   "source": [
    "### 4. Qual turma apresenta a maior amplitude de notas? O que isso nos diz sobre a desigualdade de desempenho dentro da turma?"
   ]
  },
  {
   "cell_type": "markdown",
   "id": "26910103-4081-41c3-80cb-043ee8aa9ff0",
   "metadata": {},
   "source": [
    "#### A turma C possui a maior amplitude de todas, sendo 60 em Matemática. Mas as Turmas A e B tem a maior amplitude em ciências, 58 respectivamente para as duas, apenas um número maior que a da Turma C (57). Isso mostra que a Turma C teve resultados bem diferentes em valores em matemática, mas manteve um certo padrão em Ciências, quase que igualmente às outras turmas."
   ]
  }
 ],
 "metadata": {
  "kernelspec": {
   "display_name": "Python 3 (ipykernel)",
   "language": "python",
   "name": "python3"
  },
  "language_info": {
   "codemirror_mode": {
    "name": "ipython",
    "version": 3
   },
   "file_extension": ".py",
   "mimetype": "text/x-python",
   "name": "python",
   "nbconvert_exporter": "python",
   "pygments_lexer": "ipython3",
   "version": "3.12.4"
  }
 },
 "nbformat": 4,
 "nbformat_minor": 5
}
