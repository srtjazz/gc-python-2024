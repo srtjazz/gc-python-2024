{
 "cells": [
  {
   "cell_type": "code",
   "execution_count": null,
   "id": "084378bd-febd-4e39-9348-f9284376076f",
   "metadata": {},
   "outputs": [],
   "source": []
  }
 ],
 "metadata": {
  "kernelspec": {
   "display_name": "",
   "name": ""
  },
  "language_info": {
   "name": ""
  }
 },
 "nbformat": 4,
 "nbformat_minor": 5
}
