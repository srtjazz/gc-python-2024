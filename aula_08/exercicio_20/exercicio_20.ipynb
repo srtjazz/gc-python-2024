{
 "cells": [
  {
   "cell_type": "markdown",
   "metadata": {},
   "source": [
    "# Exercício 20\n",
    "\n",
    "## Análise de Consumo de Energia e Emissões de CO2 Dataset do Kaggle: World Energy Consumption https://www.kaggle.com/datasets/pralabhpoudel/world-energy-consumption</br>\n",
    "## Faça um join entre os dados de consumo de energia e emissões de CO2 por país/continente."
   ]
  },
  {
   "cell_type": "code",
   "execution_count": null,
   "metadata": {},
   "outputs": [],
   "source": []
  },
  {
   "cell_type": "code",
   "execution_count": 2,
   "metadata": {},
   "outputs": [
    {
     "data": {
      "text/html": [
       "<div>\n",
       "<style scoped>\n",
       "    .dataframe tbody tr th:only-of-type {\n",
       "        vertical-align: middle;\n",
       "    }\n",
       "\n",
       "    .dataframe tbody tr th {\n",
       "        vertical-align: top;\n",
       "    }\n",
       "\n",
       "    .dataframe thead th {\n",
       "        text-align: right;\n",
       "    }\n",
       "</style>\n",
       "<table border=\"1\" class=\"dataframe\">\n",
       "  <thead>\n",
       "    <tr style=\"text-align: right;\">\n",
       "      <th></th>\n",
       "      <th>Unnamed: 0</th>\n",
       "      <th>country</th>\n",
       "      <th>year</th>\n",
       "      <th>iso_code</th>\n",
       "      <th>population</th>\n",
       "      <th>gdp</th>\n",
       "      <th>biofuel_cons_change_pct</th>\n",
       "      <th>biofuel_cons_change_twh</th>\n",
       "      <th>biofuel_cons_per_capita</th>\n",
       "      <th>biofuel_consumption</th>\n",
       "      <th>...</th>\n",
       "      <th>solar_share_elec</th>\n",
       "      <th>solar_share_energy</th>\n",
       "      <th>wind_cons_change_pct</th>\n",
       "      <th>wind_cons_change_twh</th>\n",
       "      <th>wind_consumption</th>\n",
       "      <th>wind_elec_per_capita</th>\n",
       "      <th>wind_electricity</th>\n",
       "      <th>wind_energy_per_capita</th>\n",
       "      <th>wind_share_elec</th>\n",
       "      <th>wind_share_energy</th>\n",
       "    </tr>\n",
       "  </thead>\n",
       "  <tbody>\n",
       "    <tr>\n",
       "      <th>0</th>\n",
       "      <td>145</td>\n",
       "      <td>Africa</td>\n",
       "      <td>1900</td>\n",
       "      <td>NaN</td>\n",
       "      <td>138752199.0</td>\n",
       "      <td>NaN</td>\n",
       "      <td>NaN</td>\n",
       "      <td>NaN</td>\n",
       "      <td>NaN</td>\n",
       "      <td>NaN</td>\n",
       "      <td>...</td>\n",
       "      <td>NaN</td>\n",
       "      <td>NaN</td>\n",
       "      <td>NaN</td>\n",
       "      <td>NaN</td>\n",
       "      <td>NaN</td>\n",
       "      <td>NaN</td>\n",
       "      <td>NaN</td>\n",
       "      <td>NaN</td>\n",
       "      <td>NaN</td>\n",
       "      <td>NaN</td>\n",
       "    </tr>\n",
       "    <tr>\n",
       "      <th>1</th>\n",
       "      <td>146</td>\n",
       "      <td>Africa</td>\n",
       "      <td>1901</td>\n",
       "      <td>NaN</td>\n",
       "      <td>139021447.0</td>\n",
       "      <td>NaN</td>\n",
       "      <td>NaN</td>\n",
       "      <td>NaN</td>\n",
       "      <td>NaN</td>\n",
       "      <td>NaN</td>\n",
       "      <td>...</td>\n",
       "      <td>NaN</td>\n",
       "      <td>NaN</td>\n",
       "      <td>NaN</td>\n",
       "      <td>NaN</td>\n",
       "      <td>NaN</td>\n",
       "      <td>NaN</td>\n",
       "      <td>NaN</td>\n",
       "      <td>NaN</td>\n",
       "      <td>NaN</td>\n",
       "      <td>NaN</td>\n",
       "    </tr>\n",
       "    <tr>\n",
       "      <th>2</th>\n",
       "      <td>147</td>\n",
       "      <td>Africa</td>\n",
       "      <td>1902</td>\n",
       "      <td>NaN</td>\n",
       "      <td>139489077.0</td>\n",
       "      <td>NaN</td>\n",
       "      <td>NaN</td>\n",
       "      <td>NaN</td>\n",
       "      <td>NaN</td>\n",
       "      <td>NaN</td>\n",
       "      <td>...</td>\n",
       "      <td>NaN</td>\n",
       "      <td>NaN</td>\n",
       "      <td>NaN</td>\n",
       "      <td>NaN</td>\n",
       "      <td>NaN</td>\n",
       "      <td>NaN</td>\n",
       "      <td>NaN</td>\n",
       "      <td>NaN</td>\n",
       "      <td>NaN</td>\n",
       "      <td>NaN</td>\n",
       "    </tr>\n",
       "    <tr>\n",
       "      <th>3</th>\n",
       "      <td>148</td>\n",
       "      <td>Africa</td>\n",
       "      <td>1903</td>\n",
       "      <td>NaN</td>\n",
       "      <td>139992790.0</td>\n",
       "      <td>NaN</td>\n",
       "      <td>NaN</td>\n",
       "      <td>NaN</td>\n",
       "      <td>NaN</td>\n",
       "      <td>NaN</td>\n",
       "      <td>...</td>\n",
       "      <td>NaN</td>\n",
       "      <td>NaN</td>\n",
       "      <td>NaN</td>\n",
       "      <td>NaN</td>\n",
       "      <td>NaN</td>\n",
       "      <td>NaN</td>\n",
       "      <td>NaN</td>\n",
       "      <td>NaN</td>\n",
       "      <td>NaN</td>\n",
       "      <td>NaN</td>\n",
       "    </tr>\n",
       "    <tr>\n",
       "      <th>4</th>\n",
       "      <td>149</td>\n",
       "      <td>Africa</td>\n",
       "      <td>1904</td>\n",
       "      <td>NaN</td>\n",
       "      <td>140510536.0</td>\n",
       "      <td>NaN</td>\n",
       "      <td>NaN</td>\n",
       "      <td>NaN</td>\n",
       "      <td>NaN</td>\n",
       "      <td>NaN</td>\n",
       "      <td>...</td>\n",
       "      <td>NaN</td>\n",
       "      <td>NaN</td>\n",
       "      <td>NaN</td>\n",
       "      <td>NaN</td>\n",
       "      <td>NaN</td>\n",
       "      <td>NaN</td>\n",
       "      <td>NaN</td>\n",
       "      <td>NaN</td>\n",
       "      <td>NaN</td>\n",
       "      <td>NaN</td>\n",
       "    </tr>\n",
       "    <tr>\n",
       "      <th>...</th>\n",
       "      <td>...</td>\n",
       "      <td>...</td>\n",
       "      <td>...</td>\n",
       "      <td>...</td>\n",
       "      <td>...</td>\n",
       "      <td>...</td>\n",
       "      <td>...</td>\n",
       "      <td>...</td>\n",
       "      <td>...</td>\n",
       "      <td>...</td>\n",
       "      <td>...</td>\n",
       "      <td>...</td>\n",
       "      <td>...</td>\n",
       "      <td>...</td>\n",
       "      <td>...</td>\n",
       "      <td>...</td>\n",
       "      <td>...</td>\n",
       "      <td>...</td>\n",
       "      <td>...</td>\n",
       "      <td>...</td>\n",
       "      <td>...</td>\n",
       "    </tr>\n",
       "    <tr>\n",
       "      <th>652</th>\n",
       "      <td>18052</td>\n",
       "      <td>South America</td>\n",
       "      <td>2018</td>\n",
       "      <td>NaN</td>\n",
       "      <td>424740741.0</td>\n",
       "      <td>NaN</td>\n",
       "      <td>14.015</td>\n",
       "      <td>33.613</td>\n",
       "      <td>643.812</td>\n",
       "      <td>273.453</td>\n",
       "      <td>...</td>\n",
       "      <td>0.897</td>\n",
       "      <td>0.378</td>\n",
       "      <td>15.867</td>\n",
       "      <td>20.898</td>\n",
       "      <td>158.480</td>\n",
       "      <td>141.380</td>\n",
       "      <td>60.050</td>\n",
       "      <td>373.122</td>\n",
       "      <td>5.192</td>\n",
       "      <td>2.230</td>\n",
       "    </tr>\n",
       "    <tr>\n",
       "      <th>653</th>\n",
       "      <td>18053</td>\n",
       "      <td>South America</td>\n",
       "      <td>2019</td>\n",
       "      <td>NaN</td>\n",
       "      <td>428318218.0</td>\n",
       "      <td>NaN</td>\n",
       "      <td>9.723</td>\n",
       "      <td>26.589</td>\n",
       "      <td>700.511</td>\n",
       "      <td>300.042</td>\n",
       "      <td>...</td>\n",
       "      <td>1.326</td>\n",
       "      <td>0.581</td>\n",
       "      <td>21.151</td>\n",
       "      <td>32.812</td>\n",
       "      <td>191.292</td>\n",
       "      <td>167.913</td>\n",
       "      <td>71.920</td>\n",
       "      <td>446.612</td>\n",
       "      <td>6.213</td>\n",
       "      <td>2.730</td>\n",
       "    </tr>\n",
       "    <tr>\n",
       "      <th>654</th>\n",
       "      <td>18054</td>\n",
       "      <td>South America</td>\n",
       "      <td>2020</td>\n",
       "      <td>NaN</td>\n",
       "      <td>431530105.0</td>\n",
       "      <td>NaN</td>\n",
       "      <td>-9.513</td>\n",
       "      <td>-28.544</td>\n",
       "      <td>629.151</td>\n",
       "      <td>271.498</td>\n",
       "      <td>...</td>\n",
       "      <td>1.850</td>\n",
       "      <td>0.872</td>\n",
       "      <td>9.592</td>\n",
       "      <td>17.579</td>\n",
       "      <td>208.871</td>\n",
       "      <td>182.791</td>\n",
       "      <td>78.880</td>\n",
       "      <td>484.025</td>\n",
       "      <td>6.805</td>\n",
       "      <td>3.215</td>\n",
       "    </tr>\n",
       "    <tr>\n",
       "      <th>655</th>\n",
       "      <td>18055</td>\n",
       "      <td>South America</td>\n",
       "      <td>2021</td>\n",
       "      <td>NaN</td>\n",
       "      <td>434254167.0</td>\n",
       "      <td>NaN</td>\n",
       "      <td>0.015</td>\n",
       "      <td>0.041</td>\n",
       "      <td>625.299</td>\n",
       "      <td>271.539</td>\n",
       "      <td>...</td>\n",
       "      <td>2.599</td>\n",
       "      <td>1.186</td>\n",
       "      <td>25.652</td>\n",
       "      <td>52.619</td>\n",
       "      <td>261.490</td>\n",
       "      <td>227.217</td>\n",
       "      <td>98.670</td>\n",
       "      <td>602.160</td>\n",
       "      <td>8.044</td>\n",
       "      <td>3.719</td>\n",
       "    </tr>\n",
       "    <tr>\n",
       "      <th>656</th>\n",
       "      <td>18056</td>\n",
       "      <td>South America</td>\n",
       "      <td>2022</td>\n",
       "      <td>NaN</td>\n",
       "      <td>436816679.0</td>\n",
       "      <td>NaN</td>\n",
       "      <td>0.629</td>\n",
       "      <td>1.707</td>\n",
       "      <td>625.538</td>\n",
       "      <td>273.246</td>\n",
       "      <td>...</td>\n",
       "      <td>3.970</td>\n",
       "      <td>1.772</td>\n",
       "      <td>12.552</td>\n",
       "      <td>31.750</td>\n",
       "      <td>293.241</td>\n",
       "      <td>257.491</td>\n",
       "      <td>112.476</td>\n",
       "      <td>671.313</td>\n",
       "      <td>8.948</td>\n",
       "      <td>3.995</td>\n",
       "    </tr>\n",
       "  </tbody>\n",
       "</table>\n",
       "<p>657 rows × 130 columns</p>\n",
       "</div>"
      ],
      "text/plain": [
       "     Unnamed: 0        country  year iso_code   population  gdp  \\\n",
       "0           145         Africa  1900      NaN  138752199.0  NaN   \n",
       "1           146         Africa  1901      NaN  139021447.0  NaN   \n",
       "2           147         Africa  1902      NaN  139489077.0  NaN   \n",
       "3           148         Africa  1903      NaN  139992790.0  NaN   \n",
       "4           149         Africa  1904      NaN  140510536.0  NaN   \n",
       "..          ...            ...   ...      ...          ...  ...   \n",
       "652       18052  South America  2018      NaN  424740741.0  NaN   \n",
       "653       18053  South America  2019      NaN  428318218.0  NaN   \n",
       "654       18054  South America  2020      NaN  431530105.0  NaN   \n",
       "655       18055  South America  2021      NaN  434254167.0  NaN   \n",
       "656       18056  South America  2022      NaN  436816679.0  NaN   \n",
       "\n",
       "     biofuel_cons_change_pct  biofuel_cons_change_twh  \\\n",
       "0                        NaN                      NaN   \n",
       "1                        NaN                      NaN   \n",
       "2                        NaN                      NaN   \n",
       "3                        NaN                      NaN   \n",
       "4                        NaN                      NaN   \n",
       "..                       ...                      ...   \n",
       "652                   14.015                   33.613   \n",
       "653                    9.723                   26.589   \n",
       "654                   -9.513                  -28.544   \n",
       "655                    0.015                    0.041   \n",
       "656                    0.629                    1.707   \n",
       "\n",
       "     biofuel_cons_per_capita  biofuel_consumption  ...  solar_share_elec  \\\n",
       "0                        NaN                  NaN  ...               NaN   \n",
       "1                        NaN                  NaN  ...               NaN   \n",
       "2                        NaN                  NaN  ...               NaN   \n",
       "3                        NaN                  NaN  ...               NaN   \n",
       "4                        NaN                  NaN  ...               NaN   \n",
       "..                       ...                  ...  ...               ...   \n",
       "652                  643.812              273.453  ...             0.897   \n",
       "653                  700.511              300.042  ...             1.326   \n",
       "654                  629.151              271.498  ...             1.850   \n",
       "655                  625.299              271.539  ...             2.599   \n",
       "656                  625.538              273.246  ...             3.970   \n",
       "\n",
       "     solar_share_energy  wind_cons_change_pct  wind_cons_change_twh  \\\n",
       "0                   NaN                   NaN                   NaN   \n",
       "1                   NaN                   NaN                   NaN   \n",
       "2                   NaN                   NaN                   NaN   \n",
       "3                   NaN                   NaN                   NaN   \n",
       "4                   NaN                   NaN                   NaN   \n",
       "..                  ...                   ...                   ...   \n",
       "652               0.378                15.867                20.898   \n",
       "653               0.581                21.151                32.812   \n",
       "654               0.872                 9.592                17.579   \n",
       "655               1.186                25.652                52.619   \n",
       "656               1.772                12.552                31.750   \n",
       "\n",
       "     wind_consumption  wind_elec_per_capita  wind_electricity  \\\n",
       "0                 NaN                   NaN               NaN   \n",
       "1                 NaN                   NaN               NaN   \n",
       "2                 NaN                   NaN               NaN   \n",
       "3                 NaN                   NaN               NaN   \n",
       "4                 NaN                   NaN               NaN   \n",
       "..                ...                   ...               ...   \n",
       "652           158.480               141.380            60.050   \n",
       "653           191.292               167.913            71.920   \n",
       "654           208.871               182.791            78.880   \n",
       "655           261.490               227.217            98.670   \n",
       "656           293.241               257.491           112.476   \n",
       "\n",
       "     wind_energy_per_capita  wind_share_elec  wind_share_energy  \n",
       "0                       NaN              NaN                NaN  \n",
       "1                       NaN              NaN                NaN  \n",
       "2                       NaN              NaN                NaN  \n",
       "3                       NaN              NaN                NaN  \n",
       "4                       NaN              NaN                NaN  \n",
       "..                      ...              ...                ...  \n",
       "652                 373.122            5.192              2.230  \n",
       "653                 446.612            6.213              2.730  \n",
       "654                 484.025            6.805              3.215  \n",
       "655                 602.160            8.044              3.719  \n",
       "656                 671.313            8.948              3.995  \n",
       "\n",
       "[657 rows x 130 columns]"
      ]
     },
     "execution_count": 2,
     "metadata": {},
     "output_type": "execute_result"
    }
   ],
   "source": [
    "import pandas as pd\n",
    "import matplotlib.pyplot as plt\n",
    "import plotly.express as px\n",
    "\n",
    "df_filtered_countries = pd.read_csv('./World Energy Consumption Countries Filtered.csv')\n",
    "df_filtered_countries"
   ]
  },
  {
   "cell_type": "code",
   "execution_count": 3,
   "metadata": {},
   "outputs": [],
   "source": [
    "df_filtered_countries = df_filtered_countries.drop(columns='Unnamed: 0')"
   ]
  },
  {
   "cell_type": "code",
   "execution_count": 6,
   "metadata": {},
   "outputs": [
    {
     "data": {
      "text/html": [
       "<div>\n",
       "<style scoped>\n",
       "    .dataframe tbody tr th:only-of-type {\n",
       "        vertical-align: middle;\n",
       "    }\n",
       "\n",
       "    .dataframe tbody tr th {\n",
       "        vertical-align: top;\n",
       "    }\n",
       "\n",
       "    .dataframe thead th {\n",
       "        text-align: right;\n",
       "    }\n",
       "</style>\n",
       "<table border=\"1\" class=\"dataframe\">\n",
       "  <thead>\n",
       "    <tr style=\"text-align: right;\">\n",
       "      <th></th>\n",
       "      <th>Continent</th>\n",
       "      <th>year</th>\n",
       "      <th>iso_code</th>\n",
       "      <th>population</th>\n",
       "      <th>gdp</th>\n",
       "      <th>biofuel_cons_change_pct</th>\n",
       "      <th>biofuel_cons_change_twh</th>\n",
       "      <th>biofuel_cons_per_capita</th>\n",
       "      <th>biofuel_consumption</th>\n",
       "      <th>biofuel_elec_per_capita</th>\n",
       "      <th>...</th>\n",
       "      <th>solar_share_elec</th>\n",
       "      <th>solar_share_energy</th>\n",
       "      <th>wind_cons_change_pct</th>\n",
       "      <th>wind_cons_change_twh</th>\n",
       "      <th>wind_consumption</th>\n",
       "      <th>wind_elec_per_capita</th>\n",
       "      <th>wind_electricity</th>\n",
       "      <th>wind_energy_per_capita</th>\n",
       "      <th>wind_share_elec</th>\n",
       "      <th>wind_share_energy</th>\n",
       "    </tr>\n",
       "  </thead>\n",
       "  <tbody>\n",
       "    <tr>\n",
       "      <th>0</th>\n",
       "      <td>Africa</td>\n",
       "      <td>1900</td>\n",
       "      <td>NaN</td>\n",
       "      <td>138752199.0</td>\n",
       "      <td>NaN</td>\n",
       "      <td>NaN</td>\n",
       "      <td>NaN</td>\n",
       "      <td>NaN</td>\n",
       "      <td>NaN</td>\n",
       "      <td>NaN</td>\n",
       "      <td>...</td>\n",
       "      <td>NaN</td>\n",
       "      <td>NaN</td>\n",
       "      <td>NaN</td>\n",
       "      <td>NaN</td>\n",
       "      <td>NaN</td>\n",
       "      <td>NaN</td>\n",
       "      <td>NaN</td>\n",
       "      <td>NaN</td>\n",
       "      <td>NaN</td>\n",
       "      <td>NaN</td>\n",
       "    </tr>\n",
       "    <tr>\n",
       "      <th>1</th>\n",
       "      <td>Africa</td>\n",
       "      <td>1901</td>\n",
       "      <td>NaN</td>\n",
       "      <td>139021447.0</td>\n",
       "      <td>NaN</td>\n",
       "      <td>NaN</td>\n",
       "      <td>NaN</td>\n",
       "      <td>NaN</td>\n",
       "      <td>NaN</td>\n",
       "      <td>NaN</td>\n",
       "      <td>...</td>\n",
       "      <td>NaN</td>\n",
       "      <td>NaN</td>\n",
       "      <td>NaN</td>\n",
       "      <td>NaN</td>\n",
       "      <td>NaN</td>\n",
       "      <td>NaN</td>\n",
       "      <td>NaN</td>\n",
       "      <td>NaN</td>\n",
       "      <td>NaN</td>\n",
       "      <td>NaN</td>\n",
       "    </tr>\n",
       "    <tr>\n",
       "      <th>2</th>\n",
       "      <td>Africa</td>\n",
       "      <td>1902</td>\n",
       "      <td>NaN</td>\n",
       "      <td>139489077.0</td>\n",
       "      <td>NaN</td>\n",
       "      <td>NaN</td>\n",
       "      <td>NaN</td>\n",
       "      <td>NaN</td>\n",
       "      <td>NaN</td>\n",
       "      <td>NaN</td>\n",
       "      <td>...</td>\n",
       "      <td>NaN</td>\n",
       "      <td>NaN</td>\n",
       "      <td>NaN</td>\n",
       "      <td>NaN</td>\n",
       "      <td>NaN</td>\n",
       "      <td>NaN</td>\n",
       "      <td>NaN</td>\n",
       "      <td>NaN</td>\n",
       "      <td>NaN</td>\n",
       "      <td>NaN</td>\n",
       "    </tr>\n",
       "    <tr>\n",
       "      <th>3</th>\n",
       "      <td>Africa</td>\n",
       "      <td>1903</td>\n",
       "      <td>NaN</td>\n",
       "      <td>139992790.0</td>\n",
       "      <td>NaN</td>\n",
       "      <td>NaN</td>\n",
       "      <td>NaN</td>\n",
       "      <td>NaN</td>\n",
       "      <td>NaN</td>\n",
       "      <td>NaN</td>\n",
       "      <td>...</td>\n",
       "      <td>NaN</td>\n",
       "      <td>NaN</td>\n",
       "      <td>NaN</td>\n",
       "      <td>NaN</td>\n",
       "      <td>NaN</td>\n",
       "      <td>NaN</td>\n",
       "      <td>NaN</td>\n",
       "      <td>NaN</td>\n",
       "      <td>NaN</td>\n",
       "      <td>NaN</td>\n",
       "    </tr>\n",
       "    <tr>\n",
       "      <th>4</th>\n",
       "      <td>Africa</td>\n",
       "      <td>1904</td>\n",
       "      <td>NaN</td>\n",
       "      <td>140510536.0</td>\n",
       "      <td>NaN</td>\n",
       "      <td>NaN</td>\n",
       "      <td>NaN</td>\n",
       "      <td>NaN</td>\n",
       "      <td>NaN</td>\n",
       "      <td>NaN</td>\n",
       "      <td>...</td>\n",
       "      <td>NaN</td>\n",
       "      <td>NaN</td>\n",
       "      <td>NaN</td>\n",
       "      <td>NaN</td>\n",
       "      <td>NaN</td>\n",
       "      <td>NaN</td>\n",
       "      <td>NaN</td>\n",
       "      <td>NaN</td>\n",
       "      <td>NaN</td>\n",
       "      <td>NaN</td>\n",
       "    </tr>\n",
       "    <tr>\n",
       "      <th>...</th>\n",
       "      <td>...</td>\n",
       "      <td>...</td>\n",
       "      <td>...</td>\n",
       "      <td>...</td>\n",
       "      <td>...</td>\n",
       "      <td>...</td>\n",
       "      <td>...</td>\n",
       "      <td>...</td>\n",
       "      <td>...</td>\n",
       "      <td>...</td>\n",
       "      <td>...</td>\n",
       "      <td>...</td>\n",
       "      <td>...</td>\n",
       "      <td>...</td>\n",
       "      <td>...</td>\n",
       "      <td>...</td>\n",
       "      <td>...</td>\n",
       "      <td>...</td>\n",
       "      <td>...</td>\n",
       "      <td>...</td>\n",
       "      <td>...</td>\n",
       "    </tr>\n",
       "    <tr>\n",
       "      <th>652</th>\n",
       "      <td>South America</td>\n",
       "      <td>2018</td>\n",
       "      <td>NaN</td>\n",
       "      <td>424740741.0</td>\n",
       "      <td>NaN</td>\n",
       "      <td>14.015</td>\n",
       "      <td>33.613</td>\n",
       "      <td>643.812</td>\n",
       "      <td>273.453</td>\n",
       "      <td>138.414</td>\n",
       "      <td>...</td>\n",
       "      <td>0.897</td>\n",
       "      <td>0.378</td>\n",
       "      <td>15.867</td>\n",
       "      <td>20.898</td>\n",
       "      <td>158.480</td>\n",
       "      <td>141.380</td>\n",
       "      <td>60.050</td>\n",
       "      <td>373.122</td>\n",
       "      <td>5.192</td>\n",
       "      <td>2.230</td>\n",
       "    </tr>\n",
       "    <tr>\n",
       "      <th>653</th>\n",
       "      <td>South America</td>\n",
       "      <td>2019</td>\n",
       "      <td>NaN</td>\n",
       "      <td>428318218.0</td>\n",
       "      <td>NaN</td>\n",
       "      <td>9.723</td>\n",
       "      <td>26.589</td>\n",
       "      <td>700.511</td>\n",
       "      <td>300.042</td>\n",
       "      <td>136.184</td>\n",
       "      <td>...</td>\n",
       "      <td>1.326</td>\n",
       "      <td>0.581</td>\n",
       "      <td>21.151</td>\n",
       "      <td>32.812</td>\n",
       "      <td>191.292</td>\n",
       "      <td>167.913</td>\n",
       "      <td>71.920</td>\n",
       "      <td>446.612</td>\n",
       "      <td>6.213</td>\n",
       "      <td>2.730</td>\n",
       "    </tr>\n",
       "    <tr>\n",
       "      <th>654</th>\n",
       "      <td>South America</td>\n",
       "      <td>2020</td>\n",
       "      <td>NaN</td>\n",
       "      <td>431530105.0</td>\n",
       "      <td>NaN</td>\n",
       "      <td>-9.513</td>\n",
       "      <td>-28.544</td>\n",
       "      <td>629.151</td>\n",
       "      <td>271.498</td>\n",
       "      <td>146.085</td>\n",
       "      <td>...</td>\n",
       "      <td>1.850</td>\n",
       "      <td>0.872</td>\n",
       "      <td>9.592</td>\n",
       "      <td>17.579</td>\n",
       "      <td>208.871</td>\n",
       "      <td>182.791</td>\n",
       "      <td>78.880</td>\n",
       "      <td>484.025</td>\n",
       "      <td>6.805</td>\n",
       "      <td>3.215</td>\n",
       "    </tr>\n",
       "    <tr>\n",
       "      <th>655</th>\n",
       "      <td>South America</td>\n",
       "      <td>2021</td>\n",
       "      <td>NaN</td>\n",
       "      <td>434254167.0</td>\n",
       "      <td>NaN</td>\n",
       "      <td>0.015</td>\n",
       "      <td>0.041</td>\n",
       "      <td>625.299</td>\n",
       "      <td>271.539</td>\n",
       "      <td>148.162</td>\n",
       "      <td>...</td>\n",
       "      <td>2.599</td>\n",
       "      <td>1.186</td>\n",
       "      <td>25.652</td>\n",
       "      <td>52.619</td>\n",
       "      <td>261.490</td>\n",
       "      <td>227.217</td>\n",
       "      <td>98.670</td>\n",
       "      <td>602.160</td>\n",
       "      <td>8.044</td>\n",
       "      <td>3.719</td>\n",
       "    </tr>\n",
       "    <tr>\n",
       "      <th>656</th>\n",
       "      <td>South America</td>\n",
       "      <td>2022</td>\n",
       "      <td>NaN</td>\n",
       "      <td>436816679.0</td>\n",
       "      <td>NaN</td>\n",
       "      <td>0.629</td>\n",
       "      <td>1.707</td>\n",
       "      <td>625.538</td>\n",
       "      <td>273.246</td>\n",
       "      <td>NaN</td>\n",
       "      <td>...</td>\n",
       "      <td>3.970</td>\n",
       "      <td>1.772</td>\n",
       "      <td>12.552</td>\n",
       "      <td>31.750</td>\n",
       "      <td>293.241</td>\n",
       "      <td>257.491</td>\n",
       "      <td>112.476</td>\n",
       "      <td>671.313</td>\n",
       "      <td>8.948</td>\n",
       "      <td>3.995</td>\n",
       "    </tr>\n",
       "  </tbody>\n",
       "</table>\n",
       "<p>657 rows × 129 columns</p>\n",
       "</div>"
      ],
      "text/plain": [
       "         Continent  year iso_code   population  gdp  biofuel_cons_change_pct  \\\n",
       "0           Africa  1900      NaN  138752199.0  NaN                      NaN   \n",
       "1           Africa  1901      NaN  139021447.0  NaN                      NaN   \n",
       "2           Africa  1902      NaN  139489077.0  NaN                      NaN   \n",
       "3           Africa  1903      NaN  139992790.0  NaN                      NaN   \n",
       "4           Africa  1904      NaN  140510536.0  NaN                      NaN   \n",
       "..             ...   ...      ...          ...  ...                      ...   \n",
       "652  South America  2018      NaN  424740741.0  NaN                   14.015   \n",
       "653  South America  2019      NaN  428318218.0  NaN                    9.723   \n",
       "654  South America  2020      NaN  431530105.0  NaN                   -9.513   \n",
       "655  South America  2021      NaN  434254167.0  NaN                    0.015   \n",
       "656  South America  2022      NaN  436816679.0  NaN                    0.629   \n",
       "\n",
       "     biofuel_cons_change_twh  biofuel_cons_per_capita  biofuel_consumption  \\\n",
       "0                        NaN                      NaN                  NaN   \n",
       "1                        NaN                      NaN                  NaN   \n",
       "2                        NaN                      NaN                  NaN   \n",
       "3                        NaN                      NaN                  NaN   \n",
       "4                        NaN                      NaN                  NaN   \n",
       "..                       ...                      ...                  ...   \n",
       "652                   33.613                  643.812              273.453   \n",
       "653                   26.589                  700.511              300.042   \n",
       "654                  -28.544                  629.151              271.498   \n",
       "655                    0.041                  625.299              271.539   \n",
       "656                    1.707                  625.538              273.246   \n",
       "\n",
       "     biofuel_elec_per_capita  ...  solar_share_elec  solar_share_energy  \\\n",
       "0                        NaN  ...               NaN                 NaN   \n",
       "1                        NaN  ...               NaN                 NaN   \n",
       "2                        NaN  ...               NaN                 NaN   \n",
       "3                        NaN  ...               NaN                 NaN   \n",
       "4                        NaN  ...               NaN                 NaN   \n",
       "..                       ...  ...               ...                 ...   \n",
       "652                  138.414  ...             0.897               0.378   \n",
       "653                  136.184  ...             1.326               0.581   \n",
       "654                  146.085  ...             1.850               0.872   \n",
       "655                  148.162  ...             2.599               1.186   \n",
       "656                      NaN  ...             3.970               1.772   \n",
       "\n",
       "     wind_cons_change_pct  wind_cons_change_twh  wind_consumption  \\\n",
       "0                     NaN                   NaN               NaN   \n",
       "1                     NaN                   NaN               NaN   \n",
       "2                     NaN                   NaN               NaN   \n",
       "3                     NaN                   NaN               NaN   \n",
       "4                     NaN                   NaN               NaN   \n",
       "..                    ...                   ...               ...   \n",
       "652                15.867                20.898           158.480   \n",
       "653                21.151                32.812           191.292   \n",
       "654                 9.592                17.579           208.871   \n",
       "655                25.652                52.619           261.490   \n",
       "656                12.552                31.750           293.241   \n",
       "\n",
       "     wind_elec_per_capita  wind_electricity  wind_energy_per_capita  \\\n",
       "0                     NaN               NaN                     NaN   \n",
       "1                     NaN               NaN                     NaN   \n",
       "2                     NaN               NaN                     NaN   \n",
       "3                     NaN               NaN                     NaN   \n",
       "4                     NaN               NaN                     NaN   \n",
       "..                    ...               ...                     ...   \n",
       "652               141.380            60.050                 373.122   \n",
       "653               167.913            71.920                 446.612   \n",
       "654               182.791            78.880                 484.025   \n",
       "655               227.217            98.670                 602.160   \n",
       "656               257.491           112.476                 671.313   \n",
       "\n",
       "     wind_share_elec  wind_share_energy  \n",
       "0                NaN                NaN  \n",
       "1                NaN                NaN  \n",
       "2                NaN                NaN  \n",
       "3                NaN                NaN  \n",
       "4                NaN                NaN  \n",
       "..               ...                ...  \n",
       "652            5.192              2.230  \n",
       "653            6.213              2.730  \n",
       "654            6.805              3.215  \n",
       "655            8.044              3.719  \n",
       "656            8.948              3.995  \n",
       "\n",
       "[657 rows x 129 columns]"
      ]
     },
     "execution_count": 6,
     "metadata": {},
     "output_type": "execute_result"
    }
   ],
   "source": [
    "df_continent = df_filtered_countries.rename(columns={'country': 'Continent'})\n",
    "df_continent"
   ]
  },
  {
   "cell_type": "code",
   "execution_count": 36,
   "metadata": {},
   "outputs": [
    {
     "data": {
      "text/plain": [
       "Index(['Continent', 'year', 'iso_code', 'population', 'gdp',\n",
       "       'biofuel_cons_change_pct', 'biofuel_cons_change_twh',\n",
       "       'biofuel_cons_per_capita', 'biofuel_consumption',\n",
       "       'biofuel_elec_per_capita', 'biofuel_electricity', 'biofuel_share_elec',\n",
       "       'biofuel_share_energy', 'carbon_intensity_elec', 'coal_cons_change_pct',\n",
       "       'coal_cons_change_twh', 'coal_cons_per_capita', 'coal_consumption',\n",
       "       'coal_elec_per_capita', 'coal_electricity', 'coal_prod_change_pct',\n",
       "       'coal_prod_change_twh', 'coal_prod_per_capita', 'coal_production',\n",
       "       'coal_share_elec', 'coal_share_energy', 'electricity_demand',\n",
       "       'electricity_generation', 'electricity_share_energy',\n",
       "       'energy_cons_change_pct', 'energy_cons_change_twh', 'energy_per_capita',\n",
       "       'energy_per_gdp', 'fossil_cons_change_pct', 'fossil_cons_change_twh',\n",
       "       'fossil_elec_per_capita', 'fossil_electricity',\n",
       "       'fossil_energy_per_capita', 'fossil_fuel_consumption',\n",
       "       'fossil_share_elec', 'fossil_share_energy', 'gas_cons_change_pct',\n",
       "       'gas_cons_change_twh', 'gas_consumption', 'gas_elec_per_capita',\n",
       "       'gas_electricity', 'gas_energy_per_capita', 'gas_prod_change_pct',\n",
       "       'gas_prod_change_twh', 'gas_prod_per_capita', 'gas_production',\n",
       "       'gas_share_elec', 'gas_share_energy', 'greenhouse_gas_emissions',\n",
       "       'hydro_cons_change_pct', 'hydro_cons_change_twh', 'hydro_consumption',\n",
       "       'hydro_elec_per_capita', 'hydro_electricity', 'hydro_energy_per_capita',\n",
       "       'hydro_share_elec', 'hydro_share_energy', 'low_carbon_cons_change_pct',\n",
       "       'low_carbon_cons_change_twh', 'low_carbon_consumption',\n",
       "       'low_carbon_elec_per_capita', 'low_carbon_electricity',\n",
       "       'low_carbon_energy_per_capita', 'low_carbon_share_elec',\n",
       "       'low_carbon_share_energy'],\n",
       "      dtype='object')"
      ]
     },
     "execution_count": 36,
     "metadata": {},
     "output_type": "execute_result"
    }
   ],
   "source": [
    "df_test = df_continent\n",
    "df_test.columns[:70]"
   ]
  },
  {
   "cell_type": "code",
   "execution_count": 37,
   "metadata": {},
   "outputs": [
    {
     "data": {
      "text/plain": [
       "['iso_code',\n",
       " 'population',\n",
       " 'gdp',\n",
       " 'biofuel_cons_change_pct',\n",
       " 'biofuel_cons_change_twh',\n",
       " 'biofuel_cons_per_capita',\n",
       " 'biofuel_elec_per_capita',\n",
       " 'biofuel_electricity',\n",
       " 'biofuel_share_elec',\n",
       " 'biofuel_share_energy',\n",
       " 'carbon_intensity_elec',\n",
       " 'coal_cons_change_pct',\n",
       " 'coal_cons_change_twh',\n",
       " 'coal_cons_per_capita',\n",
       " 'coal_elec_per_capita',\n",
       " 'coal_electricity',\n",
       " 'coal_prod_change_pct',\n",
       " 'coal_prod_change_twh',\n",
       " 'coal_prod_per_capita',\n",
       " 'coal_production',\n",
       " 'coal_share_elec',\n",
       " 'coal_share_energy',\n",
       " 'electricity_demand',\n",
       " 'electricity_generation',\n",
       " 'electricity_share_energy',\n",
       " 'energy_cons_change_pct',\n",
       " 'energy_cons_change_twh',\n",
       " 'energy_per_capita',\n",
       " 'energy_per_gdp',\n",
       " 'fossil_cons_change_pct',\n",
       " 'fossil_cons_change_twh',\n",
       " 'fossil_elec_per_capita',\n",
       " 'fossil_electricity',\n",
       " 'fossil_energy_per_capita',\n",
       " 'fossil_share_elec',\n",
       " 'fossil_share_energy',\n",
       " 'gas_cons_change_pct',\n",
       " 'gas_cons_change_twh',\n",
       " 'gas_elec_per_capita',\n",
       " 'gas_electricity',\n",
       " 'gas_energy_per_capita',\n",
       " 'gas_prod_change_pct',\n",
       " 'gas_prod_change_twh',\n",
       " 'gas_prod_per_capita',\n",
       " 'gas_production',\n",
       " 'gas_share_elec',\n",
       " 'gas_share_energy',\n",
       " 'greenhouse_gas_emissions',\n",
       " 'hydro_cons_change_pct',\n",
       " 'hydro_cons_change_twh',\n",
       " 'hydro_elec_per_capita',\n",
       " 'hydro_electricity',\n",
       " 'hydro_energy_per_capita',\n",
       " 'hydro_share_elec',\n",
       " 'hydro_share_energy',\n",
       " 'low_carbon_cons_change_pct',\n",
       " 'low_carbon_cons_change_twh',\n",
       " 'low_carbon_elec_per_capita',\n",
       " 'low_carbon_electricity',\n",
       " 'low_carbon_energy_per_capita',\n",
       " 'low_carbon_share_elec',\n",
       " 'low_carbon_share_energy',\n",
       " 'net_elec_imports',\n",
       " 'net_elec_imports_share_demand',\n",
       " 'nuclear_cons_change_pct',\n",
       " 'nuclear_cons_change_twh',\n",
       " 'nuclear_elec_per_capita',\n",
       " 'nuclear_electricity',\n",
       " 'nuclear_energy_per_capita',\n",
       " 'nuclear_share_elec',\n",
       " 'nuclear_share_energy',\n",
       " 'oil_cons_change_pct',\n",
       " 'oil_cons_change_twh',\n",
       " 'oil_elec_per_capita',\n",
       " 'oil_electricity',\n",
       " 'oil_energy_per_capita',\n",
       " 'oil_prod_change_pct',\n",
       " 'oil_prod_change_twh',\n",
       " 'oil_prod_per_capita',\n",
       " 'oil_production',\n",
       " 'oil_share_elec',\n",
       " 'oil_share_energy',\n",
       " 'other_renewable_electricity',\n",
       " 'other_renewable_exc_biofuel_electricity',\n",
       " 'other_renewables_cons_change_pct',\n",
       " 'other_renewables_cons_change_twh',\n",
       " 'other_renewables_elec_per_capita',\n",
       " 'other_renewables_elec_per_capita_exc_biofuel',\n",
       " 'other_renewables_energy_per_capita',\n",
       " 'other_renewables_share_elec',\n",
       " 'other_renewables_share_elec_exc_biofuel',\n",
       " 'other_renewables_share_energy',\n",
       " 'per_capita_electricity',\n",
       " 'renewables_cons_change_pct',\n",
       " 'renewables_cons_change_twh',\n",
       " 'renewables_elec_per_capita',\n",
       " 'renewables_electricity',\n",
       " 'renewables_energy_per_capita',\n",
       " 'renewables_share_elec',\n",
       " 'renewables_share_energy',\n",
       " 'solar_cons_change_pct',\n",
       " 'solar_cons_change_twh',\n",
       " 'solar_elec_per_capita',\n",
       " 'solar_electricity',\n",
       " 'solar_energy_per_capita',\n",
       " 'solar_share_elec',\n",
       " 'solar_share_energy',\n",
       " 'wind_cons_change_pct',\n",
       " 'wind_cons_change_twh',\n",
       " 'wind_elec_per_capita',\n",
       " 'wind_electricity',\n",
       " 'wind_energy_per_capita',\n",
       " 'wind_share_elec',\n",
       " 'wind_share_energy']"
      ]
     },
     "execution_count": 37,
     "metadata": {},
     "output_type": "execute_result"
    }
   ],
   "source": [
    "#seleciona apenas as colunas que tem 'cosumption' no nome, simbolizando os valores numéricos de consumo de tal energia\n",
    "col_stay = [col for col in df_test.columns if col.__contains__('consumption')]\n",
    "\n",
    "#adiciono nessa lista as outras colunas necessárias (ainda não descobri como fazer isso de forma mais automática)\n",
    "col_stay.append('Continent')\n",
    "col_stay.append('year')\n",
    "\n",
    "#crio a variavel col_del, que armazena um teste lógico que verifica se o indice de coluna não esta na lista de col_stay, adicionando à lista os que não se encaixam nas colunas\n",
    "#que irão ficar\n",
    "col_del = [col for col in df_test.columns if col not in col_stay]\n",
    "col_del"
   ]
  },
  {
   "cell_type": "code",
   "execution_count": 38,
   "metadata": {},
   "outputs": [],
   "source": [
    "df_test = df_test.drop(columns=col_del)"
   ]
  },
  {
   "cell_type": "code",
   "execution_count": 39,
   "metadata": {},
   "outputs": [
    {
     "data": {
      "text/html": [
       "<div>\n",
       "<style scoped>\n",
       "    .dataframe tbody tr th:only-of-type {\n",
       "        vertical-align: middle;\n",
       "    }\n",
       "\n",
       "    .dataframe tbody tr th {\n",
       "        vertical-align: top;\n",
       "    }\n",
       "\n",
       "    .dataframe thead th {\n",
       "        text-align: right;\n",
       "    }\n",
       "</style>\n",
       "<table border=\"1\" class=\"dataframe\">\n",
       "  <thead>\n",
       "    <tr style=\"text-align: right;\">\n",
       "      <th></th>\n",
       "      <th>Continent</th>\n",
       "      <th>year</th>\n",
       "      <th>biofuel_consumption</th>\n",
       "      <th>coal_consumption</th>\n",
       "      <th>fossil_fuel_consumption</th>\n",
       "      <th>gas_consumption</th>\n",
       "      <th>hydro_consumption</th>\n",
       "      <th>low_carbon_consumption</th>\n",
       "      <th>nuclear_consumption</th>\n",
       "      <th>oil_consumption</th>\n",
       "      <th>other_renewable_consumption</th>\n",
       "      <th>primary_energy_consumption</th>\n",
       "      <th>renewables_consumption</th>\n",
       "      <th>solar_consumption</th>\n",
       "      <th>wind_consumption</th>\n",
       "    </tr>\n",
       "  </thead>\n",
       "  <tbody>\n",
       "    <tr>\n",
       "      <th>0</th>\n",
       "      <td>Africa</td>\n",
       "      <td>1900</td>\n",
       "      <td>NaN</td>\n",
       "      <td>NaN</td>\n",
       "      <td>NaN</td>\n",
       "      <td>NaN</td>\n",
       "      <td>NaN</td>\n",
       "      <td>NaN</td>\n",
       "      <td>NaN</td>\n",
       "      <td>NaN</td>\n",
       "      <td>NaN</td>\n",
       "      <td>NaN</td>\n",
       "      <td>NaN</td>\n",
       "      <td>NaN</td>\n",
       "      <td>NaN</td>\n",
       "    </tr>\n",
       "    <tr>\n",
       "      <th>1</th>\n",
       "      <td>Africa</td>\n",
       "      <td>1901</td>\n",
       "      <td>NaN</td>\n",
       "      <td>NaN</td>\n",
       "      <td>NaN</td>\n",
       "      <td>NaN</td>\n",
       "      <td>NaN</td>\n",
       "      <td>NaN</td>\n",
       "      <td>NaN</td>\n",
       "      <td>NaN</td>\n",
       "      <td>NaN</td>\n",
       "      <td>NaN</td>\n",
       "      <td>NaN</td>\n",
       "      <td>NaN</td>\n",
       "      <td>NaN</td>\n",
       "    </tr>\n",
       "    <tr>\n",
       "      <th>2</th>\n",
       "      <td>Africa</td>\n",
       "      <td>1902</td>\n",
       "      <td>NaN</td>\n",
       "      <td>NaN</td>\n",
       "      <td>NaN</td>\n",
       "      <td>NaN</td>\n",
       "      <td>NaN</td>\n",
       "      <td>NaN</td>\n",
       "      <td>NaN</td>\n",
       "      <td>NaN</td>\n",
       "      <td>NaN</td>\n",
       "      <td>NaN</td>\n",
       "      <td>NaN</td>\n",
       "      <td>NaN</td>\n",
       "      <td>NaN</td>\n",
       "    </tr>\n",
       "    <tr>\n",
       "      <th>3</th>\n",
       "      <td>Africa</td>\n",
       "      <td>1903</td>\n",
       "      <td>NaN</td>\n",
       "      <td>NaN</td>\n",
       "      <td>NaN</td>\n",
       "      <td>NaN</td>\n",
       "      <td>NaN</td>\n",
       "      <td>NaN</td>\n",
       "      <td>NaN</td>\n",
       "      <td>NaN</td>\n",
       "      <td>NaN</td>\n",
       "      <td>NaN</td>\n",
       "      <td>NaN</td>\n",
       "      <td>NaN</td>\n",
       "      <td>NaN</td>\n",
       "    </tr>\n",
       "    <tr>\n",
       "      <th>4</th>\n",
       "      <td>Africa</td>\n",
       "      <td>1904</td>\n",
       "      <td>NaN</td>\n",
       "      <td>NaN</td>\n",
       "      <td>NaN</td>\n",
       "      <td>NaN</td>\n",
       "      <td>NaN</td>\n",
       "      <td>NaN</td>\n",
       "      <td>NaN</td>\n",
       "      <td>NaN</td>\n",
       "      <td>NaN</td>\n",
       "      <td>NaN</td>\n",
       "      <td>NaN</td>\n",
       "      <td>NaN</td>\n",
       "      <td>NaN</td>\n",
       "    </tr>\n",
       "    <tr>\n",
       "      <th>...</th>\n",
       "      <td>...</td>\n",
       "      <td>...</td>\n",
       "      <td>...</td>\n",
       "      <td>...</td>\n",
       "      <td>...</td>\n",
       "      <td>...</td>\n",
       "      <td>...</td>\n",
       "      <td>...</td>\n",
       "      <td>...</td>\n",
       "      <td>...</td>\n",
       "      <td>...</td>\n",
       "      <td>...</td>\n",
       "      <td>...</td>\n",
       "      <td>...</td>\n",
       "      <td>...</td>\n",
       "    </tr>\n",
       "    <tr>\n",
       "      <th>652</th>\n",
       "      <td>South America</td>\n",
       "      <td>2018</td>\n",
       "      <td>273.453</td>\n",
       "      <td>345.510</td>\n",
       "      <td>4544.656</td>\n",
       "      <td>1473.532</td>\n",
       "      <td>1819.944</td>\n",
       "      <td>2562.062</td>\n",
       "      <td>57.240</td>\n",
       "      <td>2725.614</td>\n",
       "      <td>226.097</td>\n",
       "      <td>7106.718</td>\n",
       "      <td>2504.822</td>\n",
       "      <td>26.847</td>\n",
       "      <td>158.480</td>\n",
       "    </tr>\n",
       "    <tr>\n",
       "      <th>653</th>\n",
       "      <td>South America</td>\n",
       "      <td>2019</td>\n",
       "      <td>300.042</td>\n",
       "      <td>337.753</td>\n",
       "      <td>4390.093</td>\n",
       "      <td>1399.713</td>\n",
       "      <td>1798.569</td>\n",
       "      <td>2617.906</td>\n",
       "      <td>62.151</td>\n",
       "      <td>2652.627</td>\n",
       "      <td>225.146</td>\n",
       "      <td>7007.999</td>\n",
       "      <td>2555.755</td>\n",
       "      <td>40.707</td>\n",
       "      <td>191.292</td>\n",
       "    </tr>\n",
       "    <tr>\n",
       "      <th>654</th>\n",
       "      <td>South America</td>\n",
       "      <td>2020</td>\n",
       "      <td>271.498</td>\n",
       "      <td>300.648</td>\n",
       "      <td>3904.612</td>\n",
       "      <td>1273.058</td>\n",
       "      <td>1754.772</td>\n",
       "      <td>2592.578</td>\n",
       "      <td>60.645</td>\n",
       "      <td>2330.906</td>\n",
       "      <td>240.106</td>\n",
       "      <td>6497.190</td>\n",
       "      <td>2531.933</td>\n",
       "      <td>56.686</td>\n",
       "      <td>208.871</td>\n",
       "    </tr>\n",
       "    <tr>\n",
       "      <th>655</th>\n",
       "      <td>South America</td>\n",
       "      <td>2021</td>\n",
       "      <td>271.539</td>\n",
       "      <td>331.694</td>\n",
       "      <td>4456.204</td>\n",
       "      <td>1461.945</td>\n",
       "      <td>1666.544</td>\n",
       "      <td>2575.427</td>\n",
       "      <td>62.458</td>\n",
       "      <td>2662.565</td>\n",
       "      <td>230.019</td>\n",
       "      <td>7031.632</td>\n",
       "      <td>2512.969</td>\n",
       "      <td>83.376</td>\n",
       "      <td>261.490</td>\n",
       "    </tr>\n",
       "    <tr>\n",
       "      <th>656</th>\n",
       "      <td>South America</td>\n",
       "      <td>2022</td>\n",
       "      <td>273.246</td>\n",
       "      <td>276.277</td>\n",
       "      <td>4511.959</td>\n",
       "      <td>1407.066</td>\n",
       "      <td>1858.034</td>\n",
       "      <td>2828.632</td>\n",
       "      <td>55.110</td>\n",
       "      <td>2828.616</td>\n",
       "      <td>218.916</td>\n",
       "      <td>7340.591</td>\n",
       "      <td>2773.522</td>\n",
       "      <td>130.086</td>\n",
       "      <td>293.241</td>\n",
       "    </tr>\n",
       "  </tbody>\n",
       "</table>\n",
       "<p>657 rows × 15 columns</p>\n",
       "</div>"
      ],
      "text/plain": [
       "         Continent  year  biofuel_consumption  coal_consumption  \\\n",
       "0           Africa  1900                  NaN               NaN   \n",
       "1           Africa  1901                  NaN               NaN   \n",
       "2           Africa  1902                  NaN               NaN   \n",
       "3           Africa  1903                  NaN               NaN   \n",
       "4           Africa  1904                  NaN               NaN   \n",
       "..             ...   ...                  ...               ...   \n",
       "652  South America  2018              273.453           345.510   \n",
       "653  South America  2019              300.042           337.753   \n",
       "654  South America  2020              271.498           300.648   \n",
       "655  South America  2021              271.539           331.694   \n",
       "656  South America  2022              273.246           276.277   \n",
       "\n",
       "     fossil_fuel_consumption  gas_consumption  hydro_consumption  \\\n",
       "0                        NaN              NaN                NaN   \n",
       "1                        NaN              NaN                NaN   \n",
       "2                        NaN              NaN                NaN   \n",
       "3                        NaN              NaN                NaN   \n",
       "4                        NaN              NaN                NaN   \n",
       "..                       ...              ...                ...   \n",
       "652                 4544.656         1473.532           1819.944   \n",
       "653                 4390.093         1399.713           1798.569   \n",
       "654                 3904.612         1273.058           1754.772   \n",
       "655                 4456.204         1461.945           1666.544   \n",
       "656                 4511.959         1407.066           1858.034   \n",
       "\n",
       "     low_carbon_consumption  nuclear_consumption  oil_consumption  \\\n",
       "0                       NaN                  NaN              NaN   \n",
       "1                       NaN                  NaN              NaN   \n",
       "2                       NaN                  NaN              NaN   \n",
       "3                       NaN                  NaN              NaN   \n",
       "4                       NaN                  NaN              NaN   \n",
       "..                      ...                  ...              ...   \n",
       "652                2562.062               57.240         2725.614   \n",
       "653                2617.906               62.151         2652.627   \n",
       "654                2592.578               60.645         2330.906   \n",
       "655                2575.427               62.458         2662.565   \n",
       "656                2828.632               55.110         2828.616   \n",
       "\n",
       "     other_renewable_consumption  primary_energy_consumption  \\\n",
       "0                            NaN                         NaN   \n",
       "1                            NaN                         NaN   \n",
       "2                            NaN                         NaN   \n",
       "3                            NaN                         NaN   \n",
       "4                            NaN                         NaN   \n",
       "..                           ...                         ...   \n",
       "652                      226.097                    7106.718   \n",
       "653                      225.146                    7007.999   \n",
       "654                      240.106                    6497.190   \n",
       "655                      230.019                    7031.632   \n",
       "656                      218.916                    7340.591   \n",
       "\n",
       "     renewables_consumption  solar_consumption  wind_consumption  \n",
       "0                       NaN                NaN               NaN  \n",
       "1                       NaN                NaN               NaN  \n",
       "2                       NaN                NaN               NaN  \n",
       "3                       NaN                NaN               NaN  \n",
       "4                       NaN                NaN               NaN  \n",
       "..                      ...                ...               ...  \n",
       "652                2504.822             26.847           158.480  \n",
       "653                2555.755             40.707           191.292  \n",
       "654                2531.933             56.686           208.871  \n",
       "655                2512.969             83.376           261.490  \n",
       "656                2773.522            130.086           293.241  \n",
       "\n",
       "[657 rows x 15 columns]"
      ]
     },
     "execution_count": 39,
     "metadata": {},
     "output_type": "execute_result"
    }
   ],
   "source": [
    "#dataframe de teste, apenas com as linhas dos continentes e os consumos de cada tipo de energia\n",
    "df_test"
   ]
  },
  {
   "cell_type": "code",
   "execution_count": 53,
   "metadata": {},
   "outputs": [
    {
     "data": {
      "text/html": [
       "<div>\n",
       "<style scoped>\n",
       "    .dataframe tbody tr th:only-of-type {\n",
       "        vertical-align: middle;\n",
       "    }\n",
       "\n",
       "    .dataframe tbody tr th {\n",
       "        vertical-align: top;\n",
       "    }\n",
       "\n",
       "    .dataframe thead th {\n",
       "        text-align: right;\n",
       "    }\n",
       "</style>\n",
       "<table border=\"1\" class=\"dataframe\">\n",
       "  <thead>\n",
       "    <tr style=\"text-align: right;\">\n",
       "      <th></th>\n",
       "      <th>Continent</th>\n",
       "      <th>year</th>\n",
       "      <th>biofuel_consumption</th>\n",
       "      <th>coal_consumption</th>\n",
       "      <th>fossil_fuel_consumption</th>\n",
       "      <th>gas_consumption</th>\n",
       "      <th>hydro_consumption</th>\n",
       "      <th>low_carbon_consumption</th>\n",
       "      <th>nuclear_consumption</th>\n",
       "      <th>oil_consumption</th>\n",
       "      <th>other_renewable_consumption</th>\n",
       "      <th>primary_energy_consumption</th>\n",
       "      <th>renewables_consumption</th>\n",
       "      <th>solar_consumption</th>\n",
       "      <th>wind_consumption</th>\n",
       "    </tr>\n",
       "  </thead>\n",
       "  <tbody>\n",
       "    <tr>\n",
       "      <th>90</th>\n",
       "      <td>Africa</td>\n",
       "      <td>1990</td>\n",
       "      <td>0.000</td>\n",
       "      <td>877.678</td>\n",
       "      <td>2412.063</td>\n",
       "      <td>398.645</td>\n",
       "      <td>169.301</td>\n",
       "      <td>195.732</td>\n",
       "      <td>23.974</td>\n",
       "      <td>1135.740</td>\n",
       "      <td>2.456</td>\n",
       "      <td>2607.795</td>\n",
       "      <td>171.758</td>\n",
       "      <td>0.000</td>\n",
       "      <td>0.000</td>\n",
       "    </tr>\n",
       "    <tr>\n",
       "      <th>91</th>\n",
       "      <td>Africa</td>\n",
       "      <td>1991</td>\n",
       "      <td>0.000</td>\n",
       "      <td>853.762</td>\n",
       "      <td>2397.069</td>\n",
       "      <td>401.636</td>\n",
       "      <td>179.346</td>\n",
       "      <td>207.810</td>\n",
       "      <td>25.946</td>\n",
       "      <td>1141.671</td>\n",
       "      <td>2.518</td>\n",
       "      <td>2604.879</td>\n",
       "      <td>181.864</td>\n",
       "      <td>0.000</td>\n",
       "      <td>0.000</td>\n",
       "    </tr>\n",
       "    <tr>\n",
       "      <th>92</th>\n",
       "      <td>Africa</td>\n",
       "      <td>1992</td>\n",
       "      <td>0.000</td>\n",
       "      <td>858.831</td>\n",
       "      <td>2444.041</td>\n",
       "      <td>421.270</td>\n",
       "      <td>171.092</td>\n",
       "      <td>200.077</td>\n",
       "      <td>26.355</td>\n",
       "      <td>1163.940</td>\n",
       "      <td>2.629</td>\n",
       "      <td>2644.118</td>\n",
       "      <td>173.722</td>\n",
       "      <td>0.000</td>\n",
       "      <td>0.000</td>\n",
       "    </tr>\n",
       "    <tr>\n",
       "      <th>93</th>\n",
       "      <td>Africa</td>\n",
       "      <td>1993</td>\n",
       "      <td>0.000</td>\n",
       "      <td>871.714</td>\n",
       "      <td>2460.243</td>\n",
       "      <td>412.644</td>\n",
       "      <td>167.610</td>\n",
       "      <td>191.136</td>\n",
       "      <td>20.586</td>\n",
       "      <td>1175.885</td>\n",
       "      <td>2.934</td>\n",
       "      <td>2651.378</td>\n",
       "      <td>170.550</td>\n",
       "      <td>0.000</td>\n",
       "      <td>0.006</td>\n",
       "    </tr>\n",
       "    <tr>\n",
       "      <th>94</th>\n",
       "      <td>Africa</td>\n",
       "      <td>1994</td>\n",
       "      <td>0.000</td>\n",
       "      <td>894.448</td>\n",
       "      <td>2540.244</td>\n",
       "      <td>431.828</td>\n",
       "      <td>170.311</td>\n",
       "      <td>200.452</td>\n",
       "      <td>27.515</td>\n",
       "      <td>1213.968</td>\n",
       "      <td>2.610</td>\n",
       "      <td>2740.697</td>\n",
       "      <td>172.937</td>\n",
       "      <td>0.000</td>\n",
       "      <td>0.016</td>\n",
       "    </tr>\n",
       "    <tr>\n",
       "      <th>...</th>\n",
       "      <td>...</td>\n",
       "      <td>...</td>\n",
       "      <td>...</td>\n",
       "      <td>...</td>\n",
       "      <td>...</td>\n",
       "      <td>...</td>\n",
       "      <td>...</td>\n",
       "      <td>...</td>\n",
       "      <td>...</td>\n",
       "      <td>...</td>\n",
       "      <td>...</td>\n",
       "      <td>...</td>\n",
       "      <td>...</td>\n",
       "      <td>...</td>\n",
       "      <td>...</td>\n",
       "    </tr>\n",
       "    <tr>\n",
       "      <th>652</th>\n",
       "      <td>South America</td>\n",
       "      <td>2018</td>\n",
       "      <td>273.453</td>\n",
       "      <td>345.510</td>\n",
       "      <td>4544.656</td>\n",
       "      <td>1473.532</td>\n",
       "      <td>1819.944</td>\n",
       "      <td>2562.062</td>\n",
       "      <td>57.240</td>\n",
       "      <td>2725.614</td>\n",
       "      <td>226.097</td>\n",
       "      <td>7106.718</td>\n",
       "      <td>2504.822</td>\n",
       "      <td>26.847</td>\n",
       "      <td>158.480</td>\n",
       "    </tr>\n",
       "    <tr>\n",
       "      <th>653</th>\n",
       "      <td>South America</td>\n",
       "      <td>2019</td>\n",
       "      <td>300.042</td>\n",
       "      <td>337.753</td>\n",
       "      <td>4390.093</td>\n",
       "      <td>1399.713</td>\n",
       "      <td>1798.569</td>\n",
       "      <td>2617.906</td>\n",
       "      <td>62.151</td>\n",
       "      <td>2652.627</td>\n",
       "      <td>225.146</td>\n",
       "      <td>7007.999</td>\n",
       "      <td>2555.755</td>\n",
       "      <td>40.707</td>\n",
       "      <td>191.292</td>\n",
       "    </tr>\n",
       "    <tr>\n",
       "      <th>654</th>\n",
       "      <td>South America</td>\n",
       "      <td>2020</td>\n",
       "      <td>271.498</td>\n",
       "      <td>300.648</td>\n",
       "      <td>3904.612</td>\n",
       "      <td>1273.058</td>\n",
       "      <td>1754.772</td>\n",
       "      <td>2592.578</td>\n",
       "      <td>60.645</td>\n",
       "      <td>2330.906</td>\n",
       "      <td>240.106</td>\n",
       "      <td>6497.190</td>\n",
       "      <td>2531.933</td>\n",
       "      <td>56.686</td>\n",
       "      <td>208.871</td>\n",
       "    </tr>\n",
       "    <tr>\n",
       "      <th>655</th>\n",
       "      <td>South America</td>\n",
       "      <td>2021</td>\n",
       "      <td>271.539</td>\n",
       "      <td>331.694</td>\n",
       "      <td>4456.204</td>\n",
       "      <td>1461.945</td>\n",
       "      <td>1666.544</td>\n",
       "      <td>2575.427</td>\n",
       "      <td>62.458</td>\n",
       "      <td>2662.565</td>\n",
       "      <td>230.019</td>\n",
       "      <td>7031.632</td>\n",
       "      <td>2512.969</td>\n",
       "      <td>83.376</td>\n",
       "      <td>261.490</td>\n",
       "    </tr>\n",
       "    <tr>\n",
       "      <th>656</th>\n",
       "      <td>South America</td>\n",
       "      <td>2022</td>\n",
       "      <td>273.246</td>\n",
       "      <td>276.277</td>\n",
       "      <td>4511.959</td>\n",
       "      <td>1407.066</td>\n",
       "      <td>1858.034</td>\n",
       "      <td>2828.632</td>\n",
       "      <td>55.110</td>\n",
       "      <td>2828.616</td>\n",
       "      <td>218.916</td>\n",
       "      <td>7340.591</td>\n",
       "      <td>2773.522</td>\n",
       "      <td>130.086</td>\n",
       "      <td>293.241</td>\n",
       "    </tr>\n",
       "  </tbody>\n",
       "</table>\n",
       "<p>253 rows × 15 columns</p>\n",
       "</div>"
      ],
      "text/plain": [
       "         Continent  year  biofuel_consumption  coal_consumption  \\\n",
       "90          Africa  1990                0.000           877.678   \n",
       "91          Africa  1991                0.000           853.762   \n",
       "92          Africa  1992                0.000           858.831   \n",
       "93          Africa  1993                0.000           871.714   \n",
       "94          Africa  1994                0.000           894.448   \n",
       "..             ...   ...                  ...               ...   \n",
       "652  South America  2018              273.453           345.510   \n",
       "653  South America  2019              300.042           337.753   \n",
       "654  South America  2020              271.498           300.648   \n",
       "655  South America  2021              271.539           331.694   \n",
       "656  South America  2022              273.246           276.277   \n",
       "\n",
       "     fossil_fuel_consumption  gas_consumption  hydro_consumption  \\\n",
       "90                  2412.063          398.645            169.301   \n",
       "91                  2397.069          401.636            179.346   \n",
       "92                  2444.041          421.270            171.092   \n",
       "93                  2460.243          412.644            167.610   \n",
       "94                  2540.244          431.828            170.311   \n",
       "..                       ...              ...                ...   \n",
       "652                 4544.656         1473.532           1819.944   \n",
       "653                 4390.093         1399.713           1798.569   \n",
       "654                 3904.612         1273.058           1754.772   \n",
       "655                 4456.204         1461.945           1666.544   \n",
       "656                 4511.959         1407.066           1858.034   \n",
       "\n",
       "     low_carbon_consumption  nuclear_consumption  oil_consumption  \\\n",
       "90                  195.732               23.974         1135.740   \n",
       "91                  207.810               25.946         1141.671   \n",
       "92                  200.077               26.355         1163.940   \n",
       "93                  191.136               20.586         1175.885   \n",
       "94                  200.452               27.515         1213.968   \n",
       "..                      ...                  ...              ...   \n",
       "652                2562.062               57.240         2725.614   \n",
       "653                2617.906               62.151         2652.627   \n",
       "654                2592.578               60.645         2330.906   \n",
       "655                2575.427               62.458         2662.565   \n",
       "656                2828.632               55.110         2828.616   \n",
       "\n",
       "     other_renewable_consumption  primary_energy_consumption  \\\n",
       "90                         2.456                    2607.795   \n",
       "91                         2.518                    2604.879   \n",
       "92                         2.629                    2644.118   \n",
       "93                         2.934                    2651.378   \n",
       "94                         2.610                    2740.697   \n",
       "..                           ...                         ...   \n",
       "652                      226.097                    7106.718   \n",
       "653                      225.146                    7007.999   \n",
       "654                      240.106                    6497.190   \n",
       "655                      230.019                    7031.632   \n",
       "656                      218.916                    7340.591   \n",
       "\n",
       "     renewables_consumption  solar_consumption  wind_consumption  \n",
       "90                  171.758              0.000             0.000  \n",
       "91                  181.864              0.000             0.000  \n",
       "92                  173.722              0.000             0.000  \n",
       "93                  170.550              0.000             0.006  \n",
       "94                  172.937              0.000             0.016  \n",
       "..                      ...                ...               ...  \n",
       "652                2504.822             26.847           158.480  \n",
       "653                2555.755             40.707           191.292  \n",
       "654                2531.933             56.686           208.871  \n",
       "655                2512.969             83.376           261.490  \n",
       "656                2773.522            130.086           293.241  \n",
       "\n",
       "[253 rows x 15 columns]"
      ]
     },
     "execution_count": 53,
     "metadata": {},
     "output_type": "execute_result"
    }
   ],
   "source": [
    "df_test = df_test.dropna()\n",
    "df_test"
   ]
  },
  {
   "cell_type": "code",
   "execution_count": 56,
   "metadata": {},
   "outputs": [
    {
     "data": {
      "application/vnd.plotly.v1+json": {
       "config": {
        "plotlyServerURL": "https://plot.ly"
       },
       "data": [
        {
         "alignmentgroup": "True",
         "bingroup": "x",
         "histfunc": "sum",
         "hovertemplate": "Continent=Africa<br>year=%{x}<br>sum of gas_consumption=%{y}<extra></extra>",
         "legendgroup": "Africa",
         "marker": {
          "color": "#636efa",
          "pattern": {
           "shape": ""
          }
         },
         "name": "Africa",
         "offsetgroup": "Africa",
         "orientation": "v",
         "showlegend": true,
         "type": "histogram",
         "x": [
          1990,
          1991,
          1992,
          1993,
          1994,
          1995,
          1996,
          1997,
          1998,
          1999,
          2000,
          2001,
          2002,
          2003,
          2004,
          2005,
          2006,
          2007,
          2008,
          2009,
          2010,
          2011,
          2012,
          2013,
          2014,
          2015,
          2016,
          2017,
          2018,
          2019,
          2020,
          2021,
          2022
         ],
         "xaxis": "x",
         "y": [
          398.645,
          401.636,
          421.27,
          412.644,
          431.828,
          461.243,
          484.192,
          474.476,
          499.337,
          504.02,
          556.822,
          634.636,
          670.636,
          711.536,
          783.106,
          808.028,
          843.748,
          900.415,
          935.503,
          941.238,
          981.42,
          1061.593,
          1147.735,
          1170.619,
          1203.41,
          1326.687,
          1371.489,
          1450.059,
          1544.472,
          1551.534,
          1536.929,
          1684.705,
          1625.038
         ],
         "yaxis": "y"
        },
        {
         "alignmentgroup": "True",
         "bingroup": "x",
         "histfunc": "sum",
         "hovertemplate": "Continent=Asia<br>year=%{x}<br>sum of gas_consumption=%{y}<extra></extra>",
         "legendgroup": "Asia",
         "marker": {
          "color": "#EF553B",
          "pattern": {
           "shape": ""
          }
         },
         "name": "Asia",
         "offsetgroup": "Asia",
         "orientation": "v",
         "showlegend": true,
         "type": "histogram",
         "x": [
          1965,
          1966,
          1967,
          1968,
          1969,
          1970,
          1971,
          1972,
          1973,
          1974,
          1975,
          1976,
          1977,
          1978,
          1979,
          1980,
          1981,
          1982,
          1983,
          1984,
          1985,
          1986,
          1987,
          1988,
          1989,
          1990,
          1991,
          1992,
          1993,
          1994,
          1995,
          1996,
          1997,
          1998,
          1999,
          2000,
          2001,
          2002,
          2003,
          2004,
          2005,
          2006,
          2007,
          2008,
          2009,
          2010,
          2011,
          2012,
          2013,
          2014,
          2015,
          2016,
          2017,
          2018,
          2019,
          2020,
          2021,
          2022
         ],
         "xaxis": "x",
         "y": [
          94.075,
          108.526,
          126.212,
          148.649,
          183.48,
          218.34,
          249.018,
          276.814,
          338.357,
          400.508,
          459.158,
          511.231,
          619.93,
          733.887,
          894.38,
          932.266,
          957.291,
          1022.452,
          1100.34,
          1353.001,
          2157.772,
          2427.474,
          2586.566,
          2777.18,
          3012.63,
          3132.374,
          3316.262,
          3529.38,
          3513.726,
          3796.997,
          4033.958,
          4316.743,
          4538.377,
          4738.892,
          5115.055,
          5395.233,
          5743.812,
          6074.999,
          6503.45,
          6988.337,
          7521.409,
          7977.54,
          8605.575,
          9200.066,
          9460.394,
          10398.672,
          11160.103,
          11738.725,
          12048.696,
          12561.764,
          12999.431,
          13359.468,
          13955.748,
          14674.116,
          15023.729,
          15343.792,
          16275.798,
          15983.315
         ],
         "yaxis": "y"
        },
        {
         "alignmentgroup": "True",
         "bingroup": "x",
         "histfunc": "sum",
         "hovertemplate": "Continent=Europe<br>year=%{x}<br>sum of gas_consumption=%{y}<extra></extra>",
         "legendgroup": "Europe",
         "marker": {
          "color": "#00cc96",
          "pattern": {
           "shape": ""
          }
         },
         "name": "Europe",
         "offsetgroup": "Europe",
         "orientation": "v",
         "showlegend": true,
         "type": "histogram",
         "x": [
          1965,
          1966,
          1967,
          1968,
          1969,
          1970,
          1971,
          1972,
          1973,
          1974,
          1975,
          1976,
          1977,
          1978,
          1979,
          1980,
          1981,
          1982,
          1983,
          1984,
          1985,
          1986,
          1987,
          1988,
          1989,
          1990,
          1991,
          1992,
          1993,
          1994,
          1995,
          1996,
          1997,
          1998,
          1999,
          2000,
          2001,
          2002,
          2003,
          2004,
          2005,
          2006,
          2007,
          2008,
          2009,
          2010,
          2011,
          2012,
          2013,
          2014,
          2015,
          2016,
          2017,
          2018,
          2019,
          2020,
          2021,
          2022
         ],
         "xaxis": "x",
         "y": [
          1595.904,
          1786.635,
          2008.786,
          2280.008,
          2583.965,
          2980.236,
          3407.776,
          3805.59,
          4218.347,
          4606.604,
          4989.565,
          5461.018,
          5792.314,
          6109.833,
          6470.533,
          6579.617,
          6774.275,
          7038.406,
          7458.569,
          8014.574,
          7673.371,
          7815.64,
          8216.188,
          8473.379,
          8641.229,
          9065.899,
          9232.272,
          8846.302,
          8842.118,
          8438.882,
          8537.65,
          9068.158,
          8655.78,
          8868.485,
          9048.178,
          9259.316,
          9413.887,
          9468.498,
          9779.315,
          10045.516,
          10212.317,
          10348,
          10317.612,
          10337.445,
          9588.531,
          10321.889,
          9939.508,
          9709.16,
          9549.834,
          8948.588,
          8898.572,
          9318.166,
          9572.84,
          9745.767,
          9753.065,
          9367.039,
          10092.123,
          8740.663
         ],
         "yaxis": "y"
        },
        {
         "alignmentgroup": "True",
         "bingroup": "x",
         "histfunc": "sum",
         "hovertemplate": "Continent=North America<br>year=%{x}<br>sum of gas_consumption=%{y}<extra></extra>",
         "legendgroup": "North America",
         "marker": {
          "color": "#ab63fa",
          "pattern": {
           "shape": ""
          }
         },
         "name": "North America",
         "offsetgroup": "North America",
         "orientation": "v",
         "showlegend": true,
         "type": "histogram",
         "x": [
          1971,
          1972,
          1973,
          1974,
          1975,
          1976,
          1977,
          1978,
          1979,
          1980,
          1981,
          1982,
          1983,
          1984,
          1985,
          1986,
          1987,
          1988,
          1989,
          1990,
          1991,
          1992,
          1993,
          1994,
          1995,
          1996,
          1997,
          1998,
          1999,
          2000,
          2001,
          2002,
          2003,
          2004,
          2005,
          2006,
          2007,
          2008,
          2009,
          2010,
          2011,
          2012,
          2013,
          2014,
          2015,
          2016,
          2017,
          2018,
          2019,
          2020,
          2021,
          2022
         ],
         "xaxis": "x",
         "y": [
          6418.509,
          6532.894,
          6521.562,
          6325.49,
          5870.059,
          5978.472,
          5901.934,
          5964.011,
          6184.562,
          6086.529,
          5964.575,
          5650.994,
          5337.409,
          5702.672,
          5554.89,
          5210.829,
          5500.998,
          5781.152,
          6129.262,
          6131.631,
          6264.195,
          6480.355,
          6665.275,
          6848.821,
          7133.505,
          7271.089,
          7331.801,
          7236.261,
          7320.5,
          7643.197,
          7330.981,
          7616.769,
          7517.033,
          7569.074,
          7535.271,
          7533.933,
          7969.52,
          8030.985,
          7940.485,
          8290.135,
          8527.973,
          8846.604,
          9142.066,
          9351.394,
          9579.755,
          9580.93,
          9577.609,
          10499.191,
          10836.815,
          10608.375,
          10715.455,
          11198.229
         ],
         "yaxis": "y"
        },
        {
         "alignmentgroup": "True",
         "bingroup": "x",
         "histfunc": "sum",
         "hovertemplate": "Continent=South America<br>year=%{x}<br>sum of gas_consumption=%{y}<extra></extra>",
         "legendgroup": "South America",
         "marker": {
          "color": "#FFA15A",
          "pattern": {
           "shape": ""
          }
         },
         "name": "South America",
         "offsetgroup": "South America",
         "orientation": "v",
         "showlegend": true,
         "type": "histogram",
         "x": [
          1971,
          1972,
          1973,
          1974,
          1975,
          1976,
          1977,
          1978,
          1979,
          1980,
          1981,
          1982,
          1983,
          1984,
          1985,
          1986,
          1987,
          1988,
          1989,
          1990,
          1991,
          1992,
          1993,
          1994,
          1995,
          1996,
          1997,
          1998,
          1999,
          2000,
          2001,
          2002,
          2003,
          2004,
          2005,
          2006,
          2007,
          2008,
          2009,
          2010,
          2011,
          2012,
          2013,
          2014,
          2015,
          2016,
          2017,
          2018,
          2019,
          2020,
          2021,
          2022
         ],
         "xaxis": "x",
         "y": [
          172.763,
          183.046,
          211.049,
          225.839,
          226.175,
          265.034,
          284.323,
          290.747,
          313.81,
          332.27,
          340.619,
          374.743,
          388.072,
          420.168,
          428.904,
          465.95,
          465.109,
          501.544,
          521.825,
          540.368,
          549.306,
          568.645,
          609.325,
          634.749,
          700.09,
          773.373,
          783.848,
          845.759,
          827.176,
          875.387,
          909.83,
          911.94,
          943.716,
          1059.851,
          1091.09,
          1160.605,
          1190.263,
          1197.767,
          1143.199,
          1240.755,
          1289.026,
          1383.286,
          1433.626,
          1484.237,
          1545.61,
          1535.02,
          1542.086,
          1473.532,
          1399.713,
          1273.058,
          1461.945,
          1407.066
         ],
         "yaxis": "y"
        }
       ],
       "layout": {
        "barmode": "relative",
        "legend": {
         "title": {
          "text": "Continent"
         },
         "tracegroupgap": 0
        },
        "margin": {
         "t": 60
        },
        "template": {
         "data": {
          "bar": [
           {
            "error_x": {
             "color": "#2a3f5f"
            },
            "error_y": {
             "color": "#2a3f5f"
            },
            "marker": {
             "line": {
              "color": "#E5ECF6",
              "width": 0.5
             },
             "pattern": {
              "fillmode": "overlay",
              "size": 10,
              "solidity": 0.2
             }
            },
            "type": "bar"
           }
          ],
          "barpolar": [
           {
            "marker": {
             "line": {
              "color": "#E5ECF6",
              "width": 0.5
             },
             "pattern": {
              "fillmode": "overlay",
              "size": 10,
              "solidity": 0.2
             }
            },
            "type": "barpolar"
           }
          ],
          "carpet": [
           {
            "aaxis": {
             "endlinecolor": "#2a3f5f",
             "gridcolor": "white",
             "linecolor": "white",
             "minorgridcolor": "white",
             "startlinecolor": "#2a3f5f"
            },
            "baxis": {
             "endlinecolor": "#2a3f5f",
             "gridcolor": "white",
             "linecolor": "white",
             "minorgridcolor": "white",
             "startlinecolor": "#2a3f5f"
            },
            "type": "carpet"
           }
          ],
          "choropleth": [
           {
            "colorbar": {
             "outlinewidth": 0,
             "ticks": ""
            },
            "type": "choropleth"
           }
          ],
          "contour": [
           {
            "colorbar": {
             "outlinewidth": 0,
             "ticks": ""
            },
            "colorscale": [
             [
              0,
              "#0d0887"
             ],
             [
              0.1111111111111111,
              "#46039f"
             ],
             [
              0.2222222222222222,
              "#7201a8"
             ],
             [
              0.3333333333333333,
              "#9c179e"
             ],
             [
              0.4444444444444444,
              "#bd3786"
             ],
             [
              0.5555555555555556,
              "#d8576b"
             ],
             [
              0.6666666666666666,
              "#ed7953"
             ],
             [
              0.7777777777777778,
              "#fb9f3a"
             ],
             [
              0.8888888888888888,
              "#fdca26"
             ],
             [
              1,
              "#f0f921"
             ]
            ],
            "type": "contour"
           }
          ],
          "contourcarpet": [
           {
            "colorbar": {
             "outlinewidth": 0,
             "ticks": ""
            },
            "type": "contourcarpet"
           }
          ],
          "heatmap": [
           {
            "colorbar": {
             "outlinewidth": 0,
             "ticks": ""
            },
            "colorscale": [
             [
              0,
              "#0d0887"
             ],
             [
              0.1111111111111111,
              "#46039f"
             ],
             [
              0.2222222222222222,
              "#7201a8"
             ],
             [
              0.3333333333333333,
              "#9c179e"
             ],
             [
              0.4444444444444444,
              "#bd3786"
             ],
             [
              0.5555555555555556,
              "#d8576b"
             ],
             [
              0.6666666666666666,
              "#ed7953"
             ],
             [
              0.7777777777777778,
              "#fb9f3a"
             ],
             [
              0.8888888888888888,
              "#fdca26"
             ],
             [
              1,
              "#f0f921"
             ]
            ],
            "type": "heatmap"
           }
          ],
          "heatmapgl": [
           {
            "colorbar": {
             "outlinewidth": 0,
             "ticks": ""
            },
            "colorscale": [
             [
              0,
              "#0d0887"
             ],
             [
              0.1111111111111111,
              "#46039f"
             ],
             [
              0.2222222222222222,
              "#7201a8"
             ],
             [
              0.3333333333333333,
              "#9c179e"
             ],
             [
              0.4444444444444444,
              "#bd3786"
             ],
             [
              0.5555555555555556,
              "#d8576b"
             ],
             [
              0.6666666666666666,
              "#ed7953"
             ],
             [
              0.7777777777777778,
              "#fb9f3a"
             ],
             [
              0.8888888888888888,
              "#fdca26"
             ],
             [
              1,
              "#f0f921"
             ]
            ],
            "type": "heatmapgl"
           }
          ],
          "histogram": [
           {
            "marker": {
             "pattern": {
              "fillmode": "overlay",
              "size": 10,
              "solidity": 0.2
             }
            },
            "type": "histogram"
           }
          ],
          "histogram2d": [
           {
            "colorbar": {
             "outlinewidth": 0,
             "ticks": ""
            },
            "colorscale": [
             [
              0,
              "#0d0887"
             ],
             [
              0.1111111111111111,
              "#46039f"
             ],
             [
              0.2222222222222222,
              "#7201a8"
             ],
             [
              0.3333333333333333,
              "#9c179e"
             ],
             [
              0.4444444444444444,
              "#bd3786"
             ],
             [
              0.5555555555555556,
              "#d8576b"
             ],
             [
              0.6666666666666666,
              "#ed7953"
             ],
             [
              0.7777777777777778,
              "#fb9f3a"
             ],
             [
              0.8888888888888888,
              "#fdca26"
             ],
             [
              1,
              "#f0f921"
             ]
            ],
            "type": "histogram2d"
           }
          ],
          "histogram2dcontour": [
           {
            "colorbar": {
             "outlinewidth": 0,
             "ticks": ""
            },
            "colorscale": [
             [
              0,
              "#0d0887"
             ],
             [
              0.1111111111111111,
              "#46039f"
             ],
             [
              0.2222222222222222,
              "#7201a8"
             ],
             [
              0.3333333333333333,
              "#9c179e"
             ],
             [
              0.4444444444444444,
              "#bd3786"
             ],
             [
              0.5555555555555556,
              "#d8576b"
             ],
             [
              0.6666666666666666,
              "#ed7953"
             ],
             [
              0.7777777777777778,
              "#fb9f3a"
             ],
             [
              0.8888888888888888,
              "#fdca26"
             ],
             [
              1,
              "#f0f921"
             ]
            ],
            "type": "histogram2dcontour"
           }
          ],
          "mesh3d": [
           {
            "colorbar": {
             "outlinewidth": 0,
             "ticks": ""
            },
            "type": "mesh3d"
           }
          ],
          "parcoords": [
           {
            "line": {
             "colorbar": {
              "outlinewidth": 0,
              "ticks": ""
             }
            },
            "type": "parcoords"
           }
          ],
          "pie": [
           {
            "automargin": true,
            "type": "pie"
           }
          ],
          "scatter": [
           {
            "fillpattern": {
             "fillmode": "overlay",
             "size": 10,
             "solidity": 0.2
            },
            "type": "scatter"
           }
          ],
          "scatter3d": [
           {
            "line": {
             "colorbar": {
              "outlinewidth": 0,
              "ticks": ""
             }
            },
            "marker": {
             "colorbar": {
              "outlinewidth": 0,
              "ticks": ""
             }
            },
            "type": "scatter3d"
           }
          ],
          "scattercarpet": [
           {
            "marker": {
             "colorbar": {
              "outlinewidth": 0,
              "ticks": ""
             }
            },
            "type": "scattercarpet"
           }
          ],
          "scattergeo": [
           {
            "marker": {
             "colorbar": {
              "outlinewidth": 0,
              "ticks": ""
             }
            },
            "type": "scattergeo"
           }
          ],
          "scattergl": [
           {
            "marker": {
             "colorbar": {
              "outlinewidth": 0,
              "ticks": ""
             }
            },
            "type": "scattergl"
           }
          ],
          "scattermapbox": [
           {
            "marker": {
             "colorbar": {
              "outlinewidth": 0,
              "ticks": ""
             }
            },
            "type": "scattermapbox"
           }
          ],
          "scatterpolar": [
           {
            "marker": {
             "colorbar": {
              "outlinewidth": 0,
              "ticks": ""
             }
            },
            "type": "scatterpolar"
           }
          ],
          "scatterpolargl": [
           {
            "marker": {
             "colorbar": {
              "outlinewidth": 0,
              "ticks": ""
             }
            },
            "type": "scatterpolargl"
           }
          ],
          "scatterternary": [
           {
            "marker": {
             "colorbar": {
              "outlinewidth": 0,
              "ticks": ""
             }
            },
            "type": "scatterternary"
           }
          ],
          "surface": [
           {
            "colorbar": {
             "outlinewidth": 0,
             "ticks": ""
            },
            "colorscale": [
             [
              0,
              "#0d0887"
             ],
             [
              0.1111111111111111,
              "#46039f"
             ],
             [
              0.2222222222222222,
              "#7201a8"
             ],
             [
              0.3333333333333333,
              "#9c179e"
             ],
             [
              0.4444444444444444,
              "#bd3786"
             ],
             [
              0.5555555555555556,
              "#d8576b"
             ],
             [
              0.6666666666666666,
              "#ed7953"
             ],
             [
              0.7777777777777778,
              "#fb9f3a"
             ],
             [
              0.8888888888888888,
              "#fdca26"
             ],
             [
              1,
              "#f0f921"
             ]
            ],
            "type": "surface"
           }
          ],
          "table": [
           {
            "cells": {
             "fill": {
              "color": "#EBF0F8"
             },
             "line": {
              "color": "white"
             }
            },
            "header": {
             "fill": {
              "color": "#C8D4E3"
             },
             "line": {
              "color": "white"
             }
            },
            "type": "table"
           }
          ]
         },
         "layout": {
          "annotationdefaults": {
           "arrowcolor": "#2a3f5f",
           "arrowhead": 0,
           "arrowwidth": 1
          },
          "autotypenumbers": "strict",
          "coloraxis": {
           "colorbar": {
            "outlinewidth": 0,
            "ticks": ""
           }
          },
          "colorscale": {
           "diverging": [
            [
             0,
             "#8e0152"
            ],
            [
             0.1,
             "#c51b7d"
            ],
            [
             0.2,
             "#de77ae"
            ],
            [
             0.3,
             "#f1b6da"
            ],
            [
             0.4,
             "#fde0ef"
            ],
            [
             0.5,
             "#f7f7f7"
            ],
            [
             0.6,
             "#e6f5d0"
            ],
            [
             0.7,
             "#b8e186"
            ],
            [
             0.8,
             "#7fbc41"
            ],
            [
             0.9,
             "#4d9221"
            ],
            [
             1,
             "#276419"
            ]
           ],
           "sequential": [
            [
             0,
             "#0d0887"
            ],
            [
             0.1111111111111111,
             "#46039f"
            ],
            [
             0.2222222222222222,
             "#7201a8"
            ],
            [
             0.3333333333333333,
             "#9c179e"
            ],
            [
             0.4444444444444444,
             "#bd3786"
            ],
            [
             0.5555555555555556,
             "#d8576b"
            ],
            [
             0.6666666666666666,
             "#ed7953"
            ],
            [
             0.7777777777777778,
             "#fb9f3a"
            ],
            [
             0.8888888888888888,
             "#fdca26"
            ],
            [
             1,
             "#f0f921"
            ]
           ],
           "sequentialminus": [
            [
             0,
             "#0d0887"
            ],
            [
             0.1111111111111111,
             "#46039f"
            ],
            [
             0.2222222222222222,
             "#7201a8"
            ],
            [
             0.3333333333333333,
             "#9c179e"
            ],
            [
             0.4444444444444444,
             "#bd3786"
            ],
            [
             0.5555555555555556,
             "#d8576b"
            ],
            [
             0.6666666666666666,
             "#ed7953"
            ],
            [
             0.7777777777777778,
             "#fb9f3a"
            ],
            [
             0.8888888888888888,
             "#fdca26"
            ],
            [
             1,
             "#f0f921"
            ]
           ]
          },
          "colorway": [
           "#636efa",
           "#EF553B",
           "#00cc96",
           "#ab63fa",
           "#FFA15A",
           "#19d3f3",
           "#FF6692",
           "#B6E880",
           "#FF97FF",
           "#FECB52"
          ],
          "font": {
           "color": "#2a3f5f"
          },
          "geo": {
           "bgcolor": "white",
           "lakecolor": "white",
           "landcolor": "#E5ECF6",
           "showlakes": true,
           "showland": true,
           "subunitcolor": "white"
          },
          "hoverlabel": {
           "align": "left"
          },
          "hovermode": "closest",
          "mapbox": {
           "style": "light"
          },
          "paper_bgcolor": "white",
          "plot_bgcolor": "#E5ECF6",
          "polar": {
           "angularaxis": {
            "gridcolor": "white",
            "linecolor": "white",
            "ticks": ""
           },
           "bgcolor": "#E5ECF6",
           "radialaxis": {
            "gridcolor": "white",
            "linecolor": "white",
            "ticks": ""
           }
          },
          "scene": {
           "xaxis": {
            "backgroundcolor": "#E5ECF6",
            "gridcolor": "white",
            "gridwidth": 2,
            "linecolor": "white",
            "showbackground": true,
            "ticks": "",
            "zerolinecolor": "white"
           },
           "yaxis": {
            "backgroundcolor": "#E5ECF6",
            "gridcolor": "white",
            "gridwidth": 2,
            "linecolor": "white",
            "showbackground": true,
            "ticks": "",
            "zerolinecolor": "white"
           },
           "zaxis": {
            "backgroundcolor": "#E5ECF6",
            "gridcolor": "white",
            "gridwidth": 2,
            "linecolor": "white",
            "showbackground": true,
            "ticks": "",
            "zerolinecolor": "white"
           }
          },
          "shapedefaults": {
           "line": {
            "color": "#2a3f5f"
           }
          },
          "ternary": {
           "aaxis": {
            "gridcolor": "white",
            "linecolor": "white",
            "ticks": ""
           },
           "baxis": {
            "gridcolor": "white",
            "linecolor": "white",
            "ticks": ""
           },
           "bgcolor": "#E5ECF6",
           "caxis": {
            "gridcolor": "white",
            "linecolor": "white",
            "ticks": ""
           }
          },
          "title": {
           "x": 0.05
          },
          "xaxis": {
           "automargin": true,
           "gridcolor": "white",
           "linecolor": "white",
           "ticks": "",
           "title": {
            "standoff": 15
           },
           "zerolinecolor": "white",
           "zerolinewidth": 2
          },
          "yaxis": {
           "automargin": true,
           "gridcolor": "white",
           "linecolor": "white",
           "ticks": "",
           "title": {
            "standoff": 15
           },
           "zerolinecolor": "white",
           "zerolinewidth": 2
          }
         }
        },
        "xaxis": {
         "anchor": "y",
         "domain": [
          0,
          1
         ],
         "title": {
          "text": "year"
         }
        },
        "yaxis": {
         "anchor": "x",
         "domain": [
          0,
          1
         ],
         "title": {
          "text": "sum of gas_consumption"
         }
        }
       }
      }
     },
     "metadata": {},
     "output_type": "display_data"
    }
   ],
   "source": [
    "px.histogram(df_test, x='year', y='gas_consumption', color='Continent')"
   ]
  },
  {
   "cell_type": "code",
   "execution_count": null,
   "metadata": {},
   "outputs": [],
   "source": []
  }
 ],
 "metadata": {
  "kernelspec": {
   "display_name": "Python 3",
   "language": "python",
   "name": "python3"
  },
  "language_info": {
   "codemirror_mode": {
    "name": "ipython",
    "version": 3
   },
   "file_extension": ".py",
   "mimetype": "text/x-python",
   "name": "python",
   "nbconvert_exporter": "python",
   "pygments_lexer": "ipython3",
   "version": "3.12.2"
  }
 },
 "nbformat": 4,
 "nbformat_minor": 2
}
