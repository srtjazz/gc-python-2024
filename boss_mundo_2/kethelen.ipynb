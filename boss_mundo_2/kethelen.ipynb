{
 "cells": [
  {
   "cell_type": "code",
   "execution_count": null,
   "id": "a96d6a52-25e8-4f60-b773-f39933f45038",
   "metadata": {},
   "outputs": [],
   "source": [
    "### Justifique a seleção dos 6 Pokémon, explicando como os critérios otimziados ajudaram a montar uma equipe equilibrada."
   ]
  },
  {
   "cell_type": "code",
   "execution_count": null,
   "id": "7fe5f71f-cd8f-4afa-abe2-bd095be2b3f7",
   "metadata": {},
   "outputs": [],
   "source": [
    "import pandas as pd\n",
    "import plotly.graph_objects as go\n",
    "import plotly.express as px"
   ]
  },
  {
   "cell_type": "code",
   "execution_count": null,
   "id": "dffbed2c-3eb8-489b-bbbd-7e36d7a00085",
   "metadata": {},
   "outputs": [],
   "source": [
    "print(choosen_pokemon[['name', 'type_1', 'pondered_attack', 'pondered_defense', 'pondered_speed']])"
   ]
  },
  {
   "cell_type": "code",
   "execution_count": null,
   "id": "7dcfa172-de52-4cbe-9002-5dbee0a541bf",
   "metadata": {},
   "outputs": [],
   "source": [
    "# Dados dos Pokémon selecionados\n",
    "pokemons = [\n",
    "    {\"name\": \"Ferrothorn\", \"attack\": 37.6, \"defense\": 39.3, \"speed\": 6.0},\n",
    "    {\"name\": \"Blaziken\", \"attack\": 48.0, \"defense\": 21.0, \"speed\": 24.0},\n",
    "    {\"name\": \"Feraligatr\", \"attack\": 42.0, \"defense\": 30.0, \"speed\": 23.4},\n",
    "    {\"name\": \"Braviary\", \"attack\": 49.2, \"defense\": 22.5, \"speed\": 24.0},\n",
    "    {\"name\": \"Boltund\", \"attack\": 36.0, \"defense\": 18.0, \"speed\": 36.3},\n",
    "    {\"name\": \"Hitmonlee\", \"attack\": 48.0, \"defense\": 15.9, \"speed\": 26.1},\n",
    "]\n",
    "\n",
    "# Criando o gráfico de radar\n",
    "fig = go.Figure()\n",
    "\n",
    "for pokemon in pokemons:\n",
    "    fig.add_trace(go.Scatterpolar(\n",
    "        r=[pokemon[\"attack\"], pokemon[\"defense\"], pokemon[\"speed\"], pokemon[\"attack\"]],\n",
    "        theta=['Ataque', 'Defesa', 'Velocidade', 'Ataque'],\n",
    "        fill='toself',\n",
    "        name=pokemon[\"name\"]\n",
    "    ))\n",
    "\n",
    "# Configurações do layout do gráfico\n",
    "fig.update_layout(\n",
    "    polar=dict(radialaxis=dict(visible=True, range=[0, 60])),\n",
    "    title=\"Distribuição dos Atributos dos 6 Pokémon Selecionados\",\n",
    "    showlegend=True\n",
    ")\n",
    "\n",
    "fig.show()"
   ]
  },
  {
   "cell_type": "markdown",
   "id": "17a9eb58-de10-40fc-9d84-8394af6f8610",
   "metadata": {},
   "source": [
    "▬ A seleção dos seis Pokémon foi realizada com base em uma análise equilibrada dos atributos ofensivos, defensivos e de velocidade, visando criar uma equipe capaz de cobrir diferentes tipos de adversários em várias situações. Os Pokémon escolhidos foram Ferrothorn (Grama/Steel), Blaziken (Fogo/Lutador), Feraligatr (Água), Braviary (Normal/Voador), Boltund (Elétrico) e Hitmonlee (Lutador). \n",
    "A formação dessa equipe leva em consideração uma combinação de diferentes tipos e habilidades para garantir versatilidade e resistência. <br/> \n",
    "\n",
    "##### Critérios de Otimização:\n",
    "Para garantir que a equipe fosse equilibrada, foram considerados fatores como atributos ponderados de ataque, defesa e velocidade, com a ponderação de 40% para ataque, 30% para defesa e 30% para velocidade. Essa abordagem permitiu escolher Pokémon com atributos complementares, maximizando as vantagens de ataque e defesa e minimizando as fraquezas. O uso de atributos ponderados também levou em consideração a necessidade de uma maior resistência e resposta rápida a situações de combate, equilibrando Pokémon com forte poder ofensivo e outros com maior capacidade defensiva. <br/> \n",
    "\n",
    "##### Diversidade de Tipos:\n",
    "▬ A diversidade de tipos foi uma consideração chave para garantir que a equipe fosse capaz de lidar com uma ampla gama de adversários. Cada Pokémon da seleção tem um ou dois tipos que proporcionam vantagens em batalhas contra diferentes tipos. <br/> \n",
    "▬ Ferrothorn (Grama/Steel) oferece uma defesa sólida com alta resistência a muitos tipos, como Água, Grama e Fada. Sua fraqueza contra Fogo é atenuada pela presença de outros Pokémon com resistência a esse tipo. <br/>\n",
    "▬ Blaziken (Fogo/Lutador) é um excelente atacante com boa velocidade. Ele cobre fraquezas contra Grama, Gelo e Metal e pode causar dano significativo em Pokémon defensivos. <br/>\n",
    "▬ Feraligatr (Água) é um Pokémon com um bom equilíbrio entre ataque e defesa, capaz de lidar com Fogo, Terra e Rochas. Sua versatilidade também lhe permite se ajustar a diferentes situações. <br/> \n",
    "▬ Braviary (Normal/Voador) tem boa velocidade e resistência, sendo eficaz contra Grama, Insecto, Lutador e Psíquico. Sua habilidade de voar permite que ele evite ataques de certos tipos de Pokémon. <br/>\n",
    "Boltund (Elétrico) é rápido e eficaz contra Pokémon do tipo Água, mas possui fraquezas contra Terra e Elétrico, que são equilibradas pela presença de outros membros da equipe com resistências complementares. <br/> \n",
    "▬ Hitmonlee (Lutador) oferece um bom ataque físico e uma boa cobertura contra Pokémon do tipo Normal, Pedra e Metálico. Sua alta capacidade ofensiva o torna útil contra oponentes mais defensivos. <br/> \n",
    "\n",
    "##### Conlusão: \n",
    "▬ A equipe foi escolhida estrategicamente para equilibrar atributos ofensivos e defensivos, garantindo resistências e coberturas contra uma ampla gama de adversários. Com uma boa combinação de tipos ofensivos e defensivos, a equipe pode enfrentar situações de batalha variadas, desde resistir a ataques de tipos fortes até realizar ataques de alta potência. O uso de atributos ponderados e a diversidade de tipos garantem que a equipe seja bem preparada para qualquer desafio, maximizando as chances de sucesso em batalhas contra diferentes oponentes."
   ]
  },
  {
   "cell_type": "code",
   "execution_count": null,
   "id": "d29c34de-f7bb-438a-83ca-c29d1c9b73bd",
   "metadata": {},
   "outputs": [],
   "source": [
    "### Discuta os trade-offs entre atributos ofensivos e defensivos, além das resistências e fraquezas de cada Pokémon contro outros tipos."
   ]
  },
  {
   "cell_type": "code",
   "execution_count": null,
   "id": "5b8ce9ea-237f-470c-8f7d-25794aa1a7e2",
   "metadata": {},
   "outputs": [],
   "source": [
    "# Dados dos Pokémon escolhidos\n",
    "dados = {\n",
    "    'nome': ['Ferrothorn', 'Blaziken', 'Feraligatr', 'Braviary', 'Boltund', 'Hitmonlee'],\n",
    "    'tipo_1': ['Grama', 'Fogo', 'Água', 'Normal', 'Elétrico', 'Luta'],\n",
    "    'ataque_ponderado': [37.6, 48.0, 42.0, 49.2, 36.0, 48.0],\n",
    "    'defesa_ponderada': [39.3, 21.0, 30.0, 22.5, 18.0, 15.9],\n",
    "    'velocidade_ponderada': [6.0, 24.0, 23.4, 24.0, 36.3, 26.1]\n",
    "}\n",
    "\n",
    "# Criando o DataFrame\n",
    "df_pokemon_escolhidos = pd.DataFrame(dados)\n",
    "\n",
    "# Reshaping do DataFrame para facilitar a visualização no gráfico\n",
    "df_derretido = df_pokemon_escolhidos.melt(id_vars=['nome'], value_vars=['ataque_ponderado', 'defesa_ponderada'],\n",
    "                                          var_name='Atributo', value_name='Valor Ponderado')\n",
    "\n",
    "# Criando o gráfico de barras\n",
    "fig1 = px.bar(df_derretido, x='nome', y='Valor Ponderado', color='Atributo',\n",
    "             title=\"Comparação de Atributos Ofensivos (Ataque) e Defensivos (Defesa)\",\n",
    "             labels={'Valor Ponderado': 'Valor Ponderado', 'nome': 'Pokémon'},\n",
    "             barmode='group')\n",
    "\n",
    "# Exibindo o gráfico\n",
    "fig1.show()"
   ]
  },
  {
   "cell_type": "markdown",
   "id": "35570fd0-46ab-4568-b061-4643db22cb21",
   "metadata": {},
   "source": [
    "##### Atributos Ofensivos vs. Atributos Defensivos: <br/>\n",
    "▬ Trade-offs: A principal troca entre atributos ofensivos e defensivos é que Pokémon com alta defesa, como Ferrothorn, geralmente têm ataques mais baixos, o que significa que eles podem demorar mais para derrotar um oponente. Por outro lado, Pokémon com ataques fortes, como Blaziken e Hitmonlee, podem derrotar adversários mais rapidamente, mas têm uma defesa mais frágil, tornando-os vulneráveis a ataques poderosos. Portanto, é necessário balancear esses atributos com base na estratégia de batalha — se a equipe precisar de um atacante forte ou um defensor robusto. <br/> "
   ]
  },
  {
   "cell_type": "code",
   "execution_count": null,
   "id": "7ba0f30b-8b0d-4fa9-b126-37c5e9428b60",
   "metadata": {},
   "outputs": [],
   "source": [
    "# Resistências e fraquezas de cada Pokémon contra tipos comuns\n",
    "resistencias_e_fraquezas = {\n",
    "    'name': ['Ferrothorn', 'Blaziken', 'Feraligatr', 'Braviary', 'Boltund', 'Hitmonlee'],\n",
    "    'Resistências': [3, 4, 2, 3, 3, 3],  # Contagem de resistências\n",
    "    'Fraquezas': [2, 3, 2, 3, 1, 3]  # Contagem de fraquezas\n",
    "}\n",
    "\n",
    "# Criando DataFrame\n",
    "resist_fraq_df = pd.DataFrame(resistencias_e_fraquezas)\n",
    "\n",
    "# Criando o gráfico de barras\n",
    "fig2 = px.bar(resist_fraq_df, x='name', y=['Resistências', 'Fraquezas'],\n",
    "              title=\"Resistências e Fraquezas dos Pokémon Selecionados\",\n",
    "              labels={'value': 'Contagem de Resistências/Fraquezas', 'name': 'Pokémon'},\n",
    "              barmode='group')\n",
    "\n",
    "# Exibindo o gráfico\n",
    "fig2.show()\n"
   ]
  },
  {
   "cell_type": "markdown",
   "id": "e3143682-ac72-4ebb-92c3-d7c1f5c1ca99",
   "metadata": {},
   "source": [
    "##### Resistências e Fraquezas: <br/> \n",
    "▬ Trade-offs: Pokémon com muitas fraquezas são arriscados, pois podem ser rapidamente derrotados se o tipo de ataque adversário for explorado corretamente. No entanto, esses Pokémon tendem a ser mais ofensivos, o que pode permitir derrotar adversários mais rapidamente, se jogados com estratégia. Já os Pokémon com muitas resistências são ótimos em resistir a ataques, mas podem ser mais lentos em derrotar oponentes, especialmente se sua capacidade ofensiva for limitada. <br/> \n",
    "\n",
    "▬ Os trade-offs entre atributos ofensivos e defensivos, bem como as resistências e fraquezas de cada Pokémon, precisam ser levados em conta na hora de compor uma equipe para batalhas. Pokémon como Ferrothorn e Feraligatr oferecem uma combinação robusta de defesa e resistência, enquanto Pokémon como Blaziken e Hitmonlee são mais ofensivos, mas têm que ser usados estrategicamente para minimizar o risco de serem derrotados devido à sua baixa defesa. A equipe precisa de um equilíbrio entre esses fatores para ser eficaz em diferentes situações de batalha."
   ]
  },
  {
   "cell_type": "code",
   "execution_count": null,
   "id": "c985815d-e0ea-4493-bab2-0a4bd9ccae46",
   "metadata": {},
   "outputs": [],
   "source": [
    "### A sua equipé final é equilibrada ou focada em certos atributos? Explique como sua análise influenciou essa decisão estratégica."
   ]
  },
  {
   "cell_type": "code",
   "execution_count": null,
   "id": "1ae8698d-16dc-4ff4-ab26-0ea6b45405fb",
   "metadata": {},
   "outputs": [],
   "source": [
    "# Dados da equipe final com atributos ponderados\n",
    "data = {\n",
    "    'Pokémon': ['Ferrothorn', 'Blaziken', 'Feraligatr', 'Braviary', 'Boltund', 'Hitmonlee'],\n",
    "    'Ataque': [37.6, 48.0, 42.0, 49.2, 36.0, 48.0],\n",
    "    'Defesa': [39.3, 21.0, 30.0, 22.5, 18.0, 15.9],\n",
    "    'Velocidade': [6.0, 24.0, 23.4, 24.0, 36.3, 26.1]\n",
    "}\n",
    "\n",
    "# Criando o DataFrame\n",
    "df = pd.DataFrame(data)\n",
    "\n",
    "# Gráfico de barras para mostrar o foco nos atributos\n",
    "fig = px.bar(df, \n",
    "             x='Pokémon', \n",
    "             y=['Ataque', 'Defesa', 'Velocidade'], \n",
    "             barmode='group',\n",
    "             title='Distribuição de Atributos da Equipe Selecionada (Ataque, Defesa e Velocidade)',\n",
    "             labels={'value': 'Valor Atributivo', 'variable': 'Atributos'},\n",
    "             height=500)\n",
    "\n",
    "# Exibindo o gráfico\n",
    "fig.show()"
   ]
  },
  {
   "cell_type": "markdown",
   "id": "a5b7f926-22bd-4841-861c-4dcafb9e334a",
   "metadata": {},
   "source": [
    "##### Justificativa da Decisão Estratégica: <br/>  \n",
    "▬ Foco no Ataque: Pokémon como Blaziken, Feraligatr e Hitmonlee têm um alto valor de ataque, o que os torna muito eficientes em causar danos. Esses Pokémon foram escolhidos para maximizar o dano ofensivo, permitindo que a equipe possa desferir ataques poderosos rapidamente. A escolha de ter vários Pokémon com alto ataque é estratégica para aproveitar a vantagem de ofensiva. <br/> \n",
    "\n",
    "▬ Velocidade como Prioridade: A velocidade foi considerada um atributo crucial, já que Pokémon como Blaziken e Boltund têm uma velocidade alta, permitindo-lhes agir antes do adversário em muitas situações. Essa rapidez pode ser a chave para desferir o golpe final ou evitar ataques adversários, tornando a equipe mais reativa. <br/> \n",
    "\n",
    "▬ Defesa Menos Prioritária: Enquanto Pokémon como Ferrothorn e Feraligatr oferecem alguma defesa, a equipe não possui muitos Pokémon com defesa extremamente alta. Ferrothorn se destaca aqui, mas, em geral, a defesa não foi um atributo central, pois a equipe foi construída mais para atacar e controlar o ritmo da batalha. <br/> \n",
    "\n",
    "▬ Resistências e Fraquezas: A escolha dos Pokémon também levou em conta suas resistências e fraquezas. Por exemplo, Ferrothorn pode resistir a muitos tipos devido à sua alta defesa, mas outros Pokémon como Blaziken e Boltund possuem fraquezas que precisam ser cuidadas para evitar desvantagens no combate. <br/> \n",
    "\n",
    "Explicação da Composição da Equipe:\n",
    "▬ Com a análise dos atributos e considerando o equilíbrio entre ataque, defesa e velocidade, a equipe foi composta para atacar rapidamente, com alguns Pokémon mais resistentes para servir de apoio e proteger a equipe, mas sem uma ênfase demasiada em defesa. A ideia é balancear a ofensiva e a velocidade para ser capaz de responder a diferentes ameaças rapidamente, mas com um ponto fraco nas defesas que precisaria ser protegido estrategicamente durante a batalha."
   ]
  },
  {
   "cell_type": "code",
   "execution_count": null,
   "id": "4542ab54-f296-43ef-a13c-5bfd4ebd6c09",
   "metadata": {},
   "outputs": [],
   "source": []
  },
  {
   "cell_type": "code",
   "execution_count": null,
   "id": "12075d16-c2aa-4a56-8f97-347ee970da6f",
   "metadata": {},
   "outputs": [],
   "source": []
  }
 ],
 "metadata": {
  "kernelspec": {
   "display_name": "Python 3 (ipykernel)",
   "language": "python",
   "name": "python3"
  },
  "language_info": {
   "codemirror_mode": {
    "name": "ipython",
    "version": 3
   },
   "file_extension": ".py",
   "mimetype": "text/x-python",
   "name": "python",
   "nbconvert_exporter": "python",
   "pygments_lexer": "ipython3",
   "version": "3.12.4"
  }
 },
 "nbformat": 4,
 "nbformat_minor": 5
}
